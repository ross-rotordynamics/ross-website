{
 "cells": [
  {
   "cell_type": "markdown",
   "metadata": {},
   "source": [
    "# Tutorial"
   ]
  },
  {
   "cell_type": "markdown",
   "metadata": {},
   "source": [
    "[Download This Notebook](https://ross-rotordynamics.github.io/ross-website/_downloads/51a7c8bd4026689b99005339576b2193/tutorial.ipynb)"
   ]
  },
  {
   "cell_type": "markdown",
   "metadata": {},
   "source": [
    "This is a basic tutorial on how to use ross (rotordynamics open-source software), a Python library for rotordynamic analysis. The majority of this code follows object-oriented coding, which is represented in this\n",
    "[UML DIAGRAM](https://user-images.githubusercontent.com/32821252/50386686-131c5200-06d3-11e9-9806-f5746295be81.png).  \n",
    "In the following topics we are going to discuss the most relevant classes for a quick start to use ROSS. "
   ]
  },
  {
   "cell_type": "code",
   "execution_count": null,
   "metadata": {},
   "outputs": [],
   "source": [
    "import ross as rs\n",
    "from bokeh.io import output_notebook\n",
    "import numpy as np\n",
    "import matplotlib.pyplot as plt\n",
    "\n",
    "output_notebook()"
   ]
  },
  {
   "cell_type": "markdown",
   "metadata": {},
   "source": [
    "## Materials\n",
    "\n",
    "There is a class called Material to hold material's properties, where:"
   ]
  },
  {
   "cell_type": "markdown",
   "metadata": {},
   "source": [
    "```text\n",
    "name : str\n",
    "    Material name.\n",
    "E : float\n",
    "    Young's modulus (N/m**2).\n",
    "G_s : float\n",
    "    Shear modulus (N/m**2).\n",
    "rho : float\n",
    "    Density (N/m**3).\n",
    "```"
   ]
  },
  {
   "cell_type": "markdown",
   "metadata": {},
   "source": [
    "Note that, to instatiate a Material class, you only need to give 2 out of the following parameters: 'E', 'G_s' ,'Poisson'."
   ]
  },
  {
   "cell_type": "code",
   "execution_count": null,
   "metadata": {},
   "outputs": [],
   "source": [
    "Steel = rs.Material(name=\"Steel\", rho=7810, E=211e9, G_s=81.2e9)"
   ]
  },
  {
   "cell_type": "markdown",
   "metadata": {},
   "source": [
    "### Saving a Material\n",
    "\n",
    "To save an already instantiated Material object, you need to use the following method."
   ]
  },
  {
   "cell_type": "code",
   "execution_count": null,
   "metadata": {},
   "outputs": [],
   "source": [
    "Steel.save_material()"
   ]
  },
  {
   "cell_type": "markdown",
   "metadata": {},
   "source": [
    "### Loading a Material\n",
    "\n",
    "\n",
    "To load a material, first of all, use the available_materials() method to check if your material is available in the database, then you should use the Material.use_material('name') method with the name of the material as a parameter.\n",
    "\n"
   ]
  },
  {
   "cell_type": "code",
   "execution_count": null,
   "metadata": {},
   "outputs": [],
   "source": [
    "rs.Material.available_materials()"
   ]
  },
  {
   "cell_type": "code",
   "execution_count": null,
   "metadata": {},
   "outputs": [],
   "source": [
    "steel = rs.Material.use_material('Steel')"
   ]
  },
  {
   "cell_type": "markdown",
   "metadata": {},
   "source": [
    "## Element\n",
    "\n",
    "Element is an abstract class (not directly used in the program), this class is mainly used to organize the code and make it more intuitive. \n",
    "\n",
    "- All the classes which derives from Element ends with Element in their respective names.\n",
    "- Every element is placed in a node, which is the junction of two elements.\n"
   ]
  },
  {
   "cell_type": "markdown",
   "metadata": {},
   "source": [
    "## ShaftElement\n",
    "\n",
    "There are two methods that you could use to model this element:\n",
    "\n",
    "- Euler–Bernoulli beam Theory\n",
    "- Timoshenko beam Theory (used as default)\n",
    "\n",
    "This Element represents the rotor's shaft, all the other elements are correlated with this one.  \n",
    "This class can be instantiated as the code that follows.\n",
    "Where (as per the documentation):"
   ]
  },
  {
   "cell_type": "markdown",
   "metadata": {},
   "source": [
    "```text\n",
    "L : float\n",
    "    Element length.\n",
    "i_d : float\n",
    "    Inner diameter of the element.\n",
    "o_d : float\n",
    "    Outer diameter of the element.\n",
    "material : ross.material\n",
    "    Shaft material.\n",
    "n : int, optional\n",
    "    Element number (coincident with it's first node).\n",
    "    If not given, it will be set when the rotor is assembled\n",
    "    according to the element's position in the list supplied to\n",
    "    the rotor constructor.\n",
    "```"
   ]
  },
  {
   "cell_type": "code",
   "execution_count": null,
   "metadata": {},
   "outputs": [],
   "source": [
    "i_d = 0\n",
    "o_d = 0.05\n",
    "n = 6\n",
    "l_list = [0.25 for _ in range(n)]\n",
    "\n",
    "shaft_elements = [rs.ShaftElement(L=l,\n",
    "                                  i_d=i_d,\n",
    "                                  o_d=o_d,\n",
    "                                  material=steel,\n",
    "                                  shear_effects=True,\n",
    "                                  rotary_inertia=True,\n",
    "                                  gyroscopic=True\n",
    "                                  ) for l in l_list]"
   ]
  },
  {
   "cell_type": "markdown",
   "metadata": {},
   "source": [
    "## DiskElement\n",
    "\n",
    "This class represents a Disk element.\n",
    "We can see an example of instantiation of this class in the following lines of code.  \n",
    "\n",
    "Where:\n"
   ]
  },
  {
   "cell_type": "markdown",
   "metadata": {},
   "source": [
    "This class can be instantiated as the code that follows.  "
   ]
  },
  {
   "cell_type": "markdown",
   "metadata": {},
   "source": [
    "```text\n",
    "n: int\n",
    "    Node in which the disk will be inserted.\n",
    "m : float\n",
    "    Mass of the disk element.\n",
    "Id : float\n",
    "    Diametral moment of inertia.\n",
    "Ip : float\n",
    "    Polar moment of inertia\n",
    "```    "
   ]
  },
  {
   "cell_type": "markdown",
   "metadata": {},
   "source": [
    "All the values are following the S.I. convention for the units.  "
   ]
  },
  {
   "cell_type": "code",
   "execution_count": null,
   "metadata": {},
   "outputs": [],
   "source": [
    "Disk = rs.DiskElement(n=0, m=32.58972765, Id=0.17808928, Ip=0.32956362)\n",
    "print(Disk)"
   ]
  },
  {
   "cell_type": "markdown",
   "metadata": {},
   "source": [
    "### From geometry DiskElement instantiation\n",
    "\n",
    "Besides the instatiation previously explained, there is a way to instantiate a DiskElement with only geometrical parameters (for cylindrical disks) and the material which this disk is made of, as we can see in the following code.  "
   ]
  },
  {
   "cell_type": "markdown",
   "metadata": {},
   "source": [
    "```text\n",
    "n: int\n",
    "    Node in which the disk will be inserted.\n",
    "material : lavirot.Material\n",
    "     Shaft material.\n",
    "width: float\n",
    "    The disk width.\n",
    "i_d: float\n",
    "    Inner diameter.\n",
    "o_d: float\n",
    "    Outer diameter.\n",
    "```"
   ]
  },
  {
   "cell_type": "code",
   "execution_count": null,
   "metadata": {},
   "outputs": [],
   "source": [
    "disk0 = rs.DiskElement.from_geometry(n=2,\n",
    "                                     material=steel,\n",
    "                                     width=0.07,\n",
    "                                     i_d=0.05,\n",
    "                                     o_d=0.28)\n",
    "disk1 = rs.DiskElement.from_geometry(n=4,\n",
    "                                     material=steel,\n",
    "                                     width=0.07,\n",
    "                                     i_d=0.05,\n",
    "                                     o_d=0.28)\n",
    "disks = [disk0,disk1]"
   ]
  },
  {
   "cell_type": "markdown",
   "metadata": {},
   "source": [
    "## BearingElement\n",
    "\n",
    "As it says on the name, this class is a bearing.  \n",
    "The following code demonstrate how to properly instantiate it."
   ]
  },
  {
   "cell_type": "markdown",
   "metadata": {},
   "source": [
    "```text\n",
    "n: int\n",
    "    Node which the bearing will be located in\n",
    "kxx: float, array\n",
    "    Direct stiffness in the x direction.\n",
    "cxx: float, array\n",
    "    Direct damping in the x direction.\n",
    "kyy: float, array, optional\n",
    "    Direct stiffness in the y direction.\n",
    "    (defaults to kxx)\n",
    "cyy: float, array, optional\n",
    "    Direct damping in the y direction.\n",
    "    (defaults to cxx)\n",
    "kxy: float, array, optional\n",
    "    Cross coupled stiffness in the x direction.\n",
    "    (defaults to 0)\n",
    "cxy: float, array, optional\n",
    "    Cross coupled damping in the x direction.\n",
    "    (defaults to 0)\n",
    "kyx: float, array, optional\n",
    "    Cross coupled stiffness in the y direction.\n",
    "    (defaults to 0)\n",
    "cyx: float, array, optional\n",
    "    Cross coupled damping in the y direction.\n",
    "    (defaults to 0)\n",
    "w: array, optional\n",
    "    Array with the speeds (rad/s).\n",
    "```\n"
   ]
  },
  {
   "cell_type": "markdown",
   "metadata": {},
   "source": [
    "P.S.: Note that the coefficients could be an array with different coefficients for different rotation speeds, in that case you only have to give a parameter 'w' which is a array with the same size as the coefficients array.  "
   ]
  },
  {
   "cell_type": "code",
   "execution_count": null,
   "metadata": {},
   "outputs": [],
   "source": [
    "stfx = 1e6\n",
    "stfy = 0.8e6\n",
    "bearing0 = rs.BearingElement(n=0, kxx=stfx, kyy=stfy, cxx=1e3, w=np.linspace(0,200,101))\n",
    "bearing1 = rs.BearingElement(n=6, kxx=stfx, kyy=stfy, cxx=1e3, w=np.linspace(0,200,101))\n",
    "bearings = [bearing0, bearing1]"
   ]
  },
  {
   "cell_type": "markdown",
   "metadata": {},
   "source": [
    "### Instantiating bearings from excel archives\n",
    "\n",
    "There's a class method to instantiate a bearing from excel tables, as we can see in the following code."
   ]
  },
  {
   "cell_type": "markdown",
   "metadata": {},
   "source": [
    "**There will be a class method to instantiate a bearing from excel tables. - work in progress**"
   ]
  },
  {
   "cell_type": "markdown",
   "metadata": {},
   "source": [
    "## Rotor\n",
    "\n",
    "This class takes as argument lists with all elements program and assembles the mass, damping and stiffness global matrices for the system. It also outputs all the results classes obtained by the simulation.  \n",
    "\n",
    "To use this class, you only have to give all the already instantiated elements in a list format, as it follows."
   ]
  },
  {
   "cell_type": "code",
   "execution_count": null,
   "metadata": {},
   "outputs": [],
   "source": [
    "rotor1 = rs.Rotor(shaft_elements,\n",
    "                  disks,\n",
    "                  bearings \n",
    "                  )"
   ]
  },
  {
   "cell_type": "markdown",
   "metadata": {},
   "source": [
    "### From section instantiation of a Rotor\n",
    "\n",
    "In this form of instantiation, the number of shaft elements used in FEM are not fixed, instead, the program does a convergence analysis, testing the number of elements to a point where the relative error between iterations reaches a value that can be neglected.  \n",
    "To use this method, you should divide the rotor in a way where the number of shaft elements is minimal and place every element (except for the shaft elements) in the minimal nodes"
   ]
  },
  {
   "cell_type": "code",
   "execution_count": null,
   "metadata": {},
   "outputs": [],
   "source": [
    "i_d = 0\n",
    "o_d = 0.05\n",
    "\n",
    "i_ds_data = [0,0,0]\n",
    "o_ds_data = [0.05, 0.05, 0.05]\n",
    "leng_data = [0.5, 0.5, 0.5]\n",
    "\n",
    "stfx = 1e6\n",
    "stfy = 0.8e6\n",
    "bearing0 = rs.BearingElement(n=0, kxx=stfx, kyy=stfy, cxx=1e3, w=np.linspace(0,200,101))\n",
    "bearing1 = rs.BearingElement(n=3, kxx=stfx, kyy=stfy, cxx=1e3, w=np.linspace(0,200,101))\n",
    "bearings = [bearing0, bearing1]\n",
    "\n",
    "disk0 = rs.DiskElement.from_geometry(n=1,\n",
    "                                     material=steel,\n",
    "                                     width=0.07,\n",
    "                                     i_d=0.05,\n",
    "                                     o_d=0.28\n",
    "                                    )\n",
    "disk1 = rs.DiskElement.from_geometry(n=2,\n",
    "                                     material=steel,\n",
    "                                     width=0.07,\n",
    "                                     i_d=0.05,\n",
    "                                     o_d=0.28\n",
    "                                    )\n",
    "disks = [disk0,disk1]\n",
    "\n",
    "rotor2 = rs.Rotor.from_section(brg_seal_data=bearings,\n",
    "                               disk_data=disks,\n",
    "                               i_ds_data=i_ds_data,\n",
    "                               leng_data=leng_data,\n",
    "                               o_ds_data=o_ds_data, \n",
    "                              )\n"
   ]
  },
  {
   "cell_type": "markdown",
   "metadata": {},
   "source": [
    "### Visualizing the Rotor\n",
    "\n",
    "It is interesting to plot the rotor to check if the geometry checks with what you wanted to instantiate, you can plot it with the following code.\n",
    "\n",
    "Note: For almost every plot functions, there are two options for plots, one with bokeh library and one with matplotlib."
   ]
  },
  {
   "cell_type": "code",
   "execution_count": null,
   "metadata": {},
   "outputs": [],
   "source": [
    "rotor1.plot_rotor()"
   ]
  },
  {
   "cell_type": "markdown",
   "metadata": {},
   "source": [
    "### Running the simulation\n",
    "\n",
    "After you verify that everything is fine with the rotor, you should run the simulation and obtain results. To do that you only need to use the one of the `run_()` methods available, as shown in like the code bellow. "
   ]
  },
  {
   "cell_type": "code",
   "execution_count": null,
   "metadata": {},
   "outputs": [],
   "source": [
    "rotor1.run_modal()\n",
    "rotor2.run_modal()"
   ]
  },
  {
   "cell_type": "markdown",
   "metadata": {},
   "source": [
    "## Obtaining results\n",
    "\n",
    "These are the following analysis you can do with the program:\n",
    "- Static analysis\n",
    "- Campbell Diagram\n",
    "- Frequency response\n",
    "- Forced response\n",
    "- Mode Shapes\n",
    "\n",
    "### Static analysis\n",
    "\n",
    "This method gives a free body diagram and a amplificated plot of the rotor response to gravity effects."
   ]
  },
  {
   "cell_type": "code",
   "execution_count": null,
   "metadata": {},
   "outputs": [],
   "source": [
    "static = rotor1.run_static()"
   ]
  },
  {
   "cell_type": "markdown",
   "metadata": {},
   "source": [
    "### Campbell Diagram\n",
    "\n",
    "In this example we can see the campbell diagram from 0 to 4000 RPM."
   ]
  },
  {
   "cell_type": "code",
   "execution_count": null,
   "metadata": {},
   "outputs": [],
   "source": [
    "campbell = rotor1.run_campbell(np.linspace(0,200,101))\n",
    "campbell.plot()"
   ]
  },
  {
   "cell_type": "markdown",
   "metadata": {},
   "source": [
    "### Frenquency Response\n",
    "\n",
    "We can put the frequency response of selecting the input and output node."
   ]
  },
  {
   "cell_type": "code",
   "execution_count": null,
   "metadata": {},
   "outputs": [],
   "source": [
    "rotor1.run_freq_response().plot(inp=0,out=0)\n",
    "plt.rcParams[\"figure.figsize\"] = (15,10)"
   ]
  },
  {
   "cell_type": "markdown",
   "metadata": {},
   "source": [
    "### Mode Shapes\n",
    "\n",
    "You can also generate the plot for each mode shape."
   ]
  },
  {
   "cell_type": "code",
   "execution_count": null,
   "metadata": {},
   "outputs": [],
   "source": [
    "modes = rotor1.run_mode_shapes()\n",
    "modes.plot(0)"
   ]
  }
 ],
 "metadata": {
  "kernelspec": {
   "display_name": "Python 3",
   "language": "python",
   "name": "python3"
  },
  "language_info": {
   "codemirror_mode": {
    "name": "ipython",
    "version": 3
   },
   "file_extension": ".py",
   "mimetype": "text/x-python",
   "name": "python",
   "nbconvert_exporter": "python",
   "pygments_lexer": "ipython3",
   "version": "3.7.3"
  }
 },
 "nbformat": 4,
 "nbformat_minor": 2
}
