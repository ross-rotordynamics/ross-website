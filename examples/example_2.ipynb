{
 "cells": [
  {
   "cell_type": "markdown",
   "metadata": {},
   "source": [
    "Example 2 - Effect of varying slenderness ratio\n",
    "=========\n",
    "In this example, we use the rotor seen in Example 5.8.2 from 'Dynamics of Rotating Machinery' by MI Friswell, JET Penny, SD Garvey & AW Lees, published by Cambridge University Press, 2010.\n",
    "\n"
   ]
  },
  {
   "cell_type": "code",
   "execution_count": 1,
   "metadata": {
    "execution": {
     "iopub.execute_input": "2021-02-22T22:59:06.660367Z",
     "iopub.status.busy": "2021-02-22T22:59:06.659789Z",
     "iopub.status.idle": "2021-02-22T22:59:06.803052Z",
     "shell.execute_reply": "2021-02-22T22:59:06.803503Z"
    }
   },
   "outputs": [
    {
     "ename": "ModuleNotFoundError",
     "evalue": "No module named 'matplotlib'",
     "output_type": "error",
     "traceback": [
      "\u001b[0;31m---------------------------------------------------------------------------\u001b[0m",
      "\u001b[0;31mModuleNotFoundError\u001b[0m                       Traceback (most recent call last)",
      "\u001b[0;32m<ipython-input-1-d5b423dbc569>\u001b[0m in \u001b[0;36m<module>\u001b[0;34m\u001b[0m\n\u001b[1;32m      1\u001b[0m \u001b[0;32mimport\u001b[0m \u001b[0mnumpy\u001b[0m \u001b[0;32mas\u001b[0m \u001b[0mnp\u001b[0m\u001b[0;34m\u001b[0m\u001b[0;34m\u001b[0m\u001b[0m\n\u001b[0;32m----> 2\u001b[0;31m \u001b[0;32mimport\u001b[0m \u001b[0mmatplotlib\u001b[0m\u001b[0;34m.\u001b[0m\u001b[0mpyplot\u001b[0m \u001b[0;32mas\u001b[0m \u001b[0mplt\u001b[0m\u001b[0;34m\u001b[0m\u001b[0;34m\u001b[0m\u001b[0m\n\u001b[0m\u001b[1;32m      3\u001b[0m \u001b[0;32mimport\u001b[0m \u001b[0mross\u001b[0m \u001b[0;32mas\u001b[0m \u001b[0mrs\u001b[0m\u001b[0;34m\u001b[0m\u001b[0;34m\u001b[0m\u001b[0m\n",
      "\u001b[0;31mModuleNotFoundError\u001b[0m: No module named 'matplotlib'"
     ]
    }
   ],
   "source": [
    "import numpy as np\n",
    "import matplotlib.pyplot as plt\n",
    "import ross as rs"
   ]
  },
  {
   "cell_type": "code",
   "execution_count": 2,
   "metadata": {
    "execution": {
     "iopub.execute_input": "2021-02-22T22:59:06.809047Z",
     "iopub.status.busy": "2021-02-22T22:59:06.808500Z",
     "iopub.status.idle": "2021-02-22T22:59:06.813363Z",
     "shell.execute_reply": "2021-02-22T22:59:06.813842Z"
    }
   },
   "outputs": [
    {
     "ename": "NameError",
     "evalue": "name 'rs' is not defined",
     "output_type": "error",
     "traceback": [
      "\u001b[0;31m---------------------------------------------------------------------------\u001b[0m",
      "\u001b[0;31mNameError\u001b[0m                                 Traceback (most recent call last)",
      "\u001b[0;32m<ipython-input-1-52dcca325623>\u001b[0m in \u001b[0;36m<module>\u001b[0;34m\u001b[0m\n\u001b[0;32m----> 1\u001b[0;31m \u001b[0msteel\u001b[0m \u001b[0;34m=\u001b[0m \u001b[0mrs\u001b[0m\u001b[0;34m.\u001b[0m\u001b[0mmaterials\u001b[0m\u001b[0;34m.\u001b[0m\u001b[0msteel\u001b[0m\u001b[0;34m\u001b[0m\u001b[0;34m\u001b[0m\u001b[0m\n\u001b[0m",
      "\u001b[0;31mNameError\u001b[0m: name 'rs' is not defined"
     ]
    }
   ],
   "source": [
    "steel = rs.materials.steel"
   ]
  },
  {
   "cell_type": "code",
   "execution_count": 3,
   "metadata": {
    "execution": {
     "iopub.execute_input": "2021-02-22T22:59:06.818139Z",
     "iopub.status.busy": "2021-02-22T22:59:06.816825Z",
     "iopub.status.idle": "2021-02-22T22:59:06.818731Z",
     "shell.execute_reply": "2021-02-22T22:59:06.819178Z"
    }
   },
   "outputs": [],
   "source": [
    "number_of_elements = [2, 3, 4, 5, 6, 7, 8]"
   ]
  },
  {
   "cell_type": "code",
   "execution_count": 4,
   "metadata": {
    "execution": {
     "iopub.execute_input": "2021-02-22T22:59:06.825501Z",
     "iopub.status.busy": "2021-02-22T22:59:06.824188Z",
     "iopub.status.idle": "2021-02-22T22:59:06.826113Z",
     "shell.execute_reply": "2021-02-22T22:59:06.826700Z"
    }
   },
   "outputs": [],
   "source": [
    "def create_rotor(n_el, R, shear_effects=False, rotary_inertia=False):\n",
    "    \"\"\"Create example rotor with given number of elements and R ration.\"\"\"\n",
    "    L_total = 1\n",
    "    D = R * L_total\n",
    "    \n",
    "    shaft = [\n",
    "        rs.ShaftElement(1./(n_el), idl=0, odl=D, material=steel,\n",
    "                        shear_effects=shear_effects,\n",
    "                        rotary_inertia=rotary_inertia)\n",
    "        for i in range(n_el)\n",
    "    ]\n",
    "\n",
    "    bearings = [\n",
    "        rs.BearingElement(0, kxx=1e15, cxx=0),\n",
    "        rs.BearingElement(n_el, kxx=1e15, cxx=0)\n",
    "    ]\n",
    "    \n",
    "    return rs.Rotor(shaft_elements=shaft, bearing_elements=bearings)"
   ]
  },
  {
   "cell_type": "code",
   "execution_count": 5,
   "metadata": {
    "execution": {
     "iopub.execute_input": "2021-02-22T22:59:06.838767Z",
     "iopub.status.busy": "2021-02-22T22:59:06.831527Z",
     "iopub.status.idle": "2021-02-22T22:59:06.840851Z",
     "shell.execute_reply": "2021-02-22T22:59:06.841305Z"
    }
   },
   "outputs": [
    {
     "ename": "NameError",
     "evalue": "name 'rs' is not defined",
     "output_type": "error",
     "traceback": [
      "\u001b[0;31m---------------------------------------------------------------------------\u001b[0m",
      "\u001b[0;31mNameError\u001b[0m                                 Traceback (most recent call last)",
      "\u001b[0;32m<ipython-input-1-70b52b94bcbe>\u001b[0m in \u001b[0;36m<module>\u001b[0;34m\u001b[0m\n\u001b[1;32m      2\u001b[0m \u001b[0mn_eigen\u001b[0m \u001b[0;34m=\u001b[0m \u001b[0;36m8\u001b[0m\u001b[0;34m\u001b[0m\u001b[0;34m\u001b[0m\u001b[0m\n\u001b[1;32m      3\u001b[0m \u001b[0mR\u001b[0m \u001b[0;34m=\u001b[0m \u001b[0;36m0.04\u001b[0m\u001b[0;34m\u001b[0m\u001b[0;34m\u001b[0m\u001b[0m\n\u001b[0;32m----> 4\u001b[0;31m \u001b[0mrotor_80\u001b[0m \u001b[0;34m=\u001b[0m \u001b[0mcreate_rotor\u001b[0m\u001b[0;34m(\u001b[0m\u001b[0;36m80\u001b[0m\u001b[0;34m,\u001b[0m \u001b[0mR\u001b[0m\u001b[0;34m)\u001b[0m\u001b[0;34m\u001b[0m\u001b[0;34m\u001b[0m\u001b[0m\n\u001b[0m\u001b[1;32m      5\u001b[0m \u001b[0mmodal_80\u001b[0m \u001b[0;34m=\u001b[0m \u001b[0mrotor_80\u001b[0m\u001b[0;34m.\u001b[0m\u001b[0mrun_modal\u001b[0m\u001b[0;34m(\u001b[0m\u001b[0mspeed\u001b[0m\u001b[0;34m=\u001b[0m\u001b[0;36m0\u001b[0m\u001b[0;34m,\u001b[0m \u001b[0mnum_modes\u001b[0m\u001b[0;34m=\u001b[0m\u001b[0;36m2\u001b[0m\u001b[0;34m*\u001b[0m\u001b[0mn_eigen\u001b[0m\u001b[0;34m)\u001b[0m\u001b[0;34m\u001b[0m\u001b[0;34m\u001b[0m\u001b[0m\n\u001b[1;32m      6\u001b[0m \u001b[0;34m\u001b[0m\u001b[0m\n",
      "\u001b[0;32m<ipython-input-1-d8087136a9f1>\u001b[0m in \u001b[0;36mcreate_rotor\u001b[0;34m(n_el, R, shear_effects, rotary_inertia)\u001b[0m\n\u001b[1;32m      4\u001b[0m     \u001b[0mD\u001b[0m \u001b[0;34m=\u001b[0m \u001b[0mR\u001b[0m \u001b[0;34m*\u001b[0m \u001b[0mL_total\u001b[0m\u001b[0;34m\u001b[0m\u001b[0;34m\u001b[0m\u001b[0m\n\u001b[1;32m      5\u001b[0m \u001b[0;34m\u001b[0m\u001b[0m\n\u001b[0;32m----> 6\u001b[0;31m     shaft = [\n\u001b[0m\u001b[1;32m      7\u001b[0m         rs.ShaftElement(1./(n_el), idl=0, odl=D, material=steel,\n\u001b[1;32m      8\u001b[0m                         \u001b[0mshear_effects\u001b[0m\u001b[0;34m=\u001b[0m\u001b[0mshear_effects\u001b[0m\u001b[0;34m,\u001b[0m\u001b[0;34m\u001b[0m\u001b[0;34m\u001b[0m\u001b[0m\n",
      "\u001b[0;32m<ipython-input-1-d8087136a9f1>\u001b[0m in \u001b[0;36m<listcomp>\u001b[0;34m(.0)\u001b[0m\n\u001b[1;32m      5\u001b[0m \u001b[0;34m\u001b[0m\u001b[0m\n\u001b[1;32m      6\u001b[0m     shaft = [\n\u001b[0;32m----> 7\u001b[0;31m         rs.ShaftElement(1./(n_el), idl=0, odl=D, material=steel,\n\u001b[0m\u001b[1;32m      8\u001b[0m                         \u001b[0mshear_effects\u001b[0m\u001b[0;34m=\u001b[0m\u001b[0mshear_effects\u001b[0m\u001b[0;34m,\u001b[0m\u001b[0;34m\u001b[0m\u001b[0;34m\u001b[0m\u001b[0m\n\u001b[1;32m      9\u001b[0m                         rotary_inertia=rotary_inertia)\n",
      "\u001b[0;31mNameError\u001b[0m: name 'rs' is not defined"
     ]
    }
   ],
   "source": [
    "# create reference rotor with 80 elements\n",
    "n_eigen = 8\n",
    "R = 0.04\n",
    "rotor_80 = create_rotor(80, R)\n",
    "modal_80 = rotor_80.run_modal(speed=0, num_modes=2*n_eigen)\n",
    "\n",
    "errors = np.zeros([len(number_of_elements), n_eigen])\n",
    "\n",
    "for i, n_el in enumerate(number_of_elements):\n",
    "    rotor = create_rotor(n_el, R)\n",
    "    modal = rotor.run_modal(speed=0, num_modes=2*n_eigen)\n",
    "    errors[i, :] = abs(\n",
    "        100 * (modal.wn[:n_eigen] - modal_80.wn[:n_eigen])\n",
    "        / modal_80.wn[:n_eigen])\n",
    "\n",
    "fig, ax = plt.subplots()\n",
    "ax.set_xlabel('number of elements')\n",
    "ax.set_ylabel('Natural Frequency error(%)')\n",
    "for i in range(n_eigen):\n",
    "    ax.semilogy(number_of_elements, errors[:, i])"
   ]
  },
  {
   "cell_type": "code",
   "execution_count": 6,
   "metadata": {
    "execution": {
     "iopub.execute_input": "2021-02-22T22:59:06.855469Z",
     "iopub.status.busy": "2021-02-22T22:59:06.847062Z",
     "iopub.status.idle": "2021-02-22T22:59:06.858581Z",
     "shell.execute_reply": "2021-02-22T22:59:06.859057Z"
    }
   },
   "outputs": [
    {
     "ename": "NameError",
     "evalue": "name 'rs' is not defined",
     "output_type": "error",
     "traceback": [
      "\u001b[0;31m---------------------------------------------------------------------------\u001b[0m",
      "\u001b[0;31mNameError\u001b[0m                                 Traceback (most recent call last)",
      "\u001b[0;32m<ipython-input-1-ecc2aea7c88c>\u001b[0m in \u001b[0;36m<module>\u001b[0;34m\u001b[0m\n\u001b[1;32m      7\u001b[0m \u001b[0;34m\u001b[0m\u001b[0m\n\u001b[1;32m      8\u001b[0m \u001b[0;32mfor\u001b[0m \u001b[0mi\u001b[0m\u001b[0;34m,\u001b[0m \u001b[0mR\u001b[0m \u001b[0;32min\u001b[0m \u001b[0menumerate\u001b[0m\u001b[0;34m(\u001b[0m\u001b[0mR_list\u001b[0m\u001b[0;34m)\u001b[0m\u001b[0;34m:\u001b[0m\u001b[0;34m\u001b[0m\u001b[0;34m\u001b[0m\u001b[0m\n\u001b[0;32m----> 9\u001b[0;31m     rotor_ref = create_rotor(100, R, \n\u001b[0m\u001b[1;32m     10\u001b[0m                              shear_effects=True, rotary_inertia=True)\n\u001b[1;32m     11\u001b[0m     \u001b[0mmodal_ref\u001b[0m \u001b[0;34m=\u001b[0m \u001b[0mrotor_ref\u001b[0m\u001b[0;34m.\u001b[0m\u001b[0mrun_modal\u001b[0m\u001b[0;34m(\u001b[0m\u001b[0mspeed\u001b[0m\u001b[0;34m=\u001b[0m\u001b[0;36m0\u001b[0m\u001b[0;34m)\u001b[0m\u001b[0;34m\u001b[0m\u001b[0;34m\u001b[0m\u001b[0m\n",
      "\u001b[0;32m<ipython-input-1-d8087136a9f1>\u001b[0m in \u001b[0;36mcreate_rotor\u001b[0;34m(n_el, R, shear_effects, rotary_inertia)\u001b[0m\n\u001b[1;32m      4\u001b[0m     \u001b[0mD\u001b[0m \u001b[0;34m=\u001b[0m \u001b[0mR\u001b[0m \u001b[0;34m*\u001b[0m \u001b[0mL_total\u001b[0m\u001b[0;34m\u001b[0m\u001b[0;34m\u001b[0m\u001b[0m\n\u001b[1;32m      5\u001b[0m \u001b[0;34m\u001b[0m\u001b[0m\n\u001b[0;32m----> 6\u001b[0;31m     shaft = [\n\u001b[0m\u001b[1;32m      7\u001b[0m         rs.ShaftElement(1./(n_el), idl=0, odl=D, material=steel,\n\u001b[1;32m      8\u001b[0m                         \u001b[0mshear_effects\u001b[0m\u001b[0;34m=\u001b[0m\u001b[0mshear_effects\u001b[0m\u001b[0;34m,\u001b[0m\u001b[0;34m\u001b[0m\u001b[0;34m\u001b[0m\u001b[0m\n",
      "\u001b[0;32m<ipython-input-1-d8087136a9f1>\u001b[0m in \u001b[0;36m<listcomp>\u001b[0;34m(.0)\u001b[0m\n\u001b[1;32m      5\u001b[0m \u001b[0;34m\u001b[0m\u001b[0m\n\u001b[1;32m      6\u001b[0m     shaft = [\n\u001b[0;32m----> 7\u001b[0;31m         rs.ShaftElement(1./(n_el), idl=0, odl=D, material=steel,\n\u001b[0m\u001b[1;32m      8\u001b[0m                         \u001b[0mshear_effects\u001b[0m\u001b[0;34m=\u001b[0m\u001b[0mshear_effects\u001b[0m\u001b[0;34m,\u001b[0m\u001b[0;34m\u001b[0m\u001b[0;34m\u001b[0m\u001b[0m\n\u001b[1;32m      9\u001b[0m                         rotary_inertia=rotary_inertia)\n",
      "\u001b[0;31mNameError\u001b[0m: name 'rs' is not defined"
     ]
    }
   ],
   "source": [
    "# create reference rotor with 80 elements\n",
    "n_el = 6\n",
    "R_list = np.linspace(1e-4, 0.15, 10)\n",
    "\n",
    "n_eigen = 6\n",
    "errors = np.zeros([len(R_list), n_eigen])\n",
    "\n",
    "for i, R in enumerate(R_list):\n",
    "    rotor_ref = create_rotor(100, R, \n",
    "                             shear_effects=True, rotary_inertia=True)\n",
    "    modal_ref = rotor_ref.run_modal(speed=0)\n",
    "\n",
    "    rotor = create_rotor(n_el, R)\n",
    "    modal = rotor.run_modal(speed=0, num_modes=2*n_eigen)\n",
    "    errors[i, :] = abs(\n",
    "        100 * (modal.wn[:n_eigen] - modal_ref.wn[:n_eigen])\n",
    "        / modal_ref.wn[:n_eigen])\n",
    "\n",
    "fig, ax = plt.subplots()\n",
    "ax.set_xlabel('Slenderness ratio')\n",
    "ax.set_ylabel('Natural Frequency error(%)')\n",
    "for i in range(n_eigen):\n",
    "    ax.semilogy(R_list, errors[:, i])"
   ]
  }
 ],
 "metadata": {
  "kernelspec": {
   "display_name": "Python 3",
   "language": "python",
   "name": "python3"
  },
  "language_info": {
   "codemirror_mode": {
    "name": "ipython",
    "version": 3
   },
   "file_extension": ".py",
   "mimetype": "text/x-python",
   "name": "python",
   "nbconvert_exporter": "python",
   "pygments_lexer": "ipython3",
   "version": "3.9.1"
  }
 },
 "nbformat": 4,
 "nbformat_minor": 2
}
