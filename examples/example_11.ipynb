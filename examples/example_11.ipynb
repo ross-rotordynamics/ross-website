{
 "cells": [
  {
   "cell_type": "markdown",
   "metadata": {},
   "source": [
    "Example 11 - Example of rotor connected by a flexible mechanical coupling with parallel, agular or combined misalignment.\n",
    "=====\n",
    "In this example, we use the rotor seen in Example 10 for demonstrating the results obtained when we have a misalignment defect present in the system. "
   ]
  },
  {
   "cell_type": "code",
   "execution_count": 1,
   "metadata": {
    "execution": {
     "iopub.execute_input": "2021-02-23T00:07:30.781181Z",
     "iopub.status.busy": "2021-02-23T00:07:30.780702Z",
     "iopub.status.idle": "2021-02-23T00:07:31.982132Z",
     "shell.execute_reply": "2021-02-23T00:07:31.982614Z"
    }
   },
   "outputs": [],
   "source": [
    "import numpy as np\n",
    "\n",
    "import ross as rs\n",
    "from ross.defects import *\n",
    "from ross.defects.misalignment import misalignment_flex_parallel_example"
   ]
  },
  {
   "cell_type": "code",
   "execution_count": 2,
   "metadata": {
    "execution": {
     "iopub.execute_input": "2021-02-23T00:07:32.001922Z",
     "iopub.status.busy": "2021-02-23T00:07:31.990325Z",
     "iopub.status.idle": "2021-02-23T00:07:32.093389Z",
     "shell.execute_reply": "2021-02-23T00:07:32.092457Z"
    }
   },
   "outputs": [],
   "source": [
    "\"\"\"Create example rotor with given number of elements.\"\"\"\n",
    "steel2 = rs.Material(name=\"Steel\", rho=7850, E=2.17e11, G_s=81.2e9)\n",
    "#  Rotor with 6 DoFs, with internal damping, with 10 shaft elements, 2 disks and 2 bearings.\n",
    "i_d = 0\n",
    "o_d = 0.019\n",
    "n = 33\n",
    "\n",
    "# fmt: off\n",
    "L = np.array(\n",
    "        [0  ,  25,  64, 104, 124, 143, 175, 207, 239, 271,\n",
    "         303, 335, 345, 355, 380, 408, 436, 466, 496, 526,\n",
    "         556, 586, 614, 647, 657, 667, 702, 737, 772, 807,\n",
    "         842, 862, 881, 914]\n",
    "         )/ 1000\n",
    "# fmt: on\n",
    "\n",
    "L = [L[i] - L[i - 1] for i in range(1, len(L))]\n",
    "\n",
    "shaft_elem = [\n",
    "    rs.ShaftElement6DoF(\n",
    "        material=steel2,\n",
    "        L=l,\n",
    "        idl=i_d,\n",
    "        odl=o_d,\n",
    "        idr=i_d,\n",
    "        odr=o_d,\n",
    "        alpha=8.0501,\n",
    "        beta=1.0e-5,\n",
    "        rotary_inertia=True,\n",
    "        shear_effects=True,\n",
    "    )\n",
    "    for l in L\n",
    "]\n",
    "\n",
    "Id = 0.003844540885417\n",
    "Ip = 0.007513248437500\n",
    "\n",
    "disk0 = rs.DiskElement6DoF(n=12, m=2.6375, Id=Id, Ip=Ip)\n",
    "disk1 = rs.DiskElement6DoF(n=24, m=2.6375, Id=Id, Ip=Ip)\n",
    "\n",
    "kxx1 = 4.40e5\n",
    "kyy1 = 4.6114e5\n",
    "kzz = 0\n",
    "cxx1 = 27.4\n",
    "cyy1 = 2.505\n",
    "czz = 0\n",
    "kxx2 = 9.50e5\n",
    "kyy2 = 1.09e8\n",
    "cxx2 = 50.4\n",
    "cyy2 = 100.4553\n",
    "\n",
    "bearing0 = rs.BearingElement6DoF(\n",
    "    n=4, kxx=kxx1, kyy=kyy1, cxx=cxx1, cyy=cyy1, kzz=kzz, czz=czz\n",
    ")\n",
    "bearing1 = rs.BearingElement6DoF(\n",
    "    n=31, kxx=kxx2, kyy=kyy2, cxx=cxx2, cyy=cyy2, kzz=kzz, czz=czz\n",
    ")\n",
    "\n",
    "rotor = rs.Rotor(shaft_elem, [disk0, disk1], [bearing0, bearing1])"
   ]
  },
  {
   "cell_type": "code",
   "execution_count": 3,
   "metadata": {
    "execution": {
     "iopub.execute_input": "2021-02-23T00:07:32.097749Z",
     "iopub.status.busy": "2021-02-23T00:07:32.097284Z",
     "iopub.status.idle": "2021-02-23T00:07:32.100543Z",
     "shell.execute_reply": "2021-02-23T00:07:32.100068Z"
    }
   },
   "outputs": [],
   "source": [
    "\"\"\"Inserting a mass and phase unbalance and defining the local response.\"\"\"\n",
    "massunbt = np.array([5e-4, 0])\n",
    "phaseunbt = np.array([-np.pi / 2, 0])\n",
    "probe1 = (14, 0)\n",
    "probe2 = (22, 0)"
   ]
  },
  {
   "cell_type": "code",
   "execution_count": 4,
   "metadata": {
    "execution": {
     "iopub.execute_input": "2021-02-23T00:07:32.106655Z",
     "iopub.status.busy": "2021-02-23T00:07:32.105146Z",
     "iopub.status.idle": "2021-02-23T00:07:32.266150Z",
     "shell.execute_reply": "2021-02-23T00:07:32.265035Z"
    },
    "tags": []
   },
   "outputs": [
    {
     "ename": "TypeError",
     "evalue": "__init__() got an unexpected keyword argument 'massunb'",
     "output_type": "error",
     "traceback": [
      "\u001b[0;31m---------------------------------------------------------------------------\u001b[0m",
      "\u001b[0;31mTypeError\u001b[0m                                 Traceback (most recent call last)",
      "\u001b[0;32m<ipython-input-1-54aac1fe288c>\u001b[0m in \u001b[0;36m<module>\u001b[0;34m\u001b[0m\n\u001b[1;32m      1\u001b[0m \"\"\"Calculate the response of the rotor connected by a flexible mechanical coupling with parallel,\n\u001b[1;32m      2\u001b[0m angular or combined misalignment.\"\"\"\n\u001b[0;32m----> 3\u001b[0;31m misalignment = rotor.run_misalignment(\n\u001b[0m\u001b[1;32m      4\u001b[0m     \u001b[0mcoupling\u001b[0m\u001b[0;34m=\u001b[0m\u001b[0;34m\"flex\"\u001b[0m\u001b[0;34m,\u001b[0m\u001b[0;34m\u001b[0m\u001b[0;34m\u001b[0m\u001b[0m\n\u001b[1;32m      5\u001b[0m     \u001b[0mdt\u001b[0m\u001b[0;34m=\u001b[0m\u001b[0;36m0.0001\u001b[0m\u001b[0;34m,\u001b[0m\u001b[0;34m\u001b[0m\u001b[0;34m\u001b[0m\u001b[0m\n",
      "\u001b[0;32m~/work/ross/ross/ross/rotor_assembly.py\u001b[0m in \u001b[0;36mrun_misalignment\u001b[0;34m(self, coupling, **kwargs)\u001b[0m\n\u001b[1;32m   2440\u001b[0m \u001b[0;34m\u001b[0m\u001b[0m\n\u001b[1;32m   2441\u001b[0m         \u001b[0;32mif\u001b[0m \u001b[0mcoupling\u001b[0m \u001b[0;34m==\u001b[0m \u001b[0;34m\"flex\"\u001b[0m \u001b[0;32mor\u001b[0m \u001b[0mcoupling\u001b[0m \u001b[0;34m==\u001b[0m \u001b[0;32mNone\u001b[0m\u001b[0;34m:\u001b[0m\u001b[0;34m\u001b[0m\u001b[0;34m\u001b[0m\u001b[0m\n\u001b[0;32m-> 2442\u001b[0;31m             \u001b[0mdefect\u001b[0m \u001b[0;34m=\u001b[0m \u001b[0mMisalignmentFlex\u001b[0m\u001b[0;34m(\u001b[0m\u001b[0;34m**\u001b[0m\u001b[0mkwargs\u001b[0m\u001b[0;34m)\u001b[0m\u001b[0;34m\u001b[0m\u001b[0;34m\u001b[0m\u001b[0m\n\u001b[0m\u001b[1;32m   2443\u001b[0m         \u001b[0;32melif\u001b[0m \u001b[0mcoupling\u001b[0m \u001b[0;34m==\u001b[0m \u001b[0;34m\"rigid\"\u001b[0m\u001b[0;34m:\u001b[0m\u001b[0;34m\u001b[0m\u001b[0;34m\u001b[0m\u001b[0m\n\u001b[1;32m   2444\u001b[0m             \u001b[0mdefect\u001b[0m \u001b[0;34m=\u001b[0m \u001b[0mMisalignmentRigid\u001b[0m\u001b[0;34m(\u001b[0m\u001b[0;34m**\u001b[0m\u001b[0mkwargs\u001b[0m\u001b[0;34m)\u001b[0m\u001b[0;34m\u001b[0m\u001b[0;34m\u001b[0m\u001b[0m\n",
      "\u001b[0;32m~/work/ross/ross/ross/units.py\u001b[0m in \u001b[0;36minner\u001b[0;34m(*args, **kwargs)\u001b[0m\n\u001b[1;32m    101\u001b[0m                 \u001b[0mbase_unit_kwargs\u001b[0m\u001b[0;34m[\u001b[0m\u001b[0mk\u001b[0m\u001b[0;34m]\u001b[0m \u001b[0;34m=\u001b[0m \u001b[0mv\u001b[0m\u001b[0;34m\u001b[0m\u001b[0;34m\u001b[0m\u001b[0m\n\u001b[1;32m    102\u001b[0m \u001b[0;34m\u001b[0m\u001b[0m\n\u001b[0;32m--> 103\u001b[0;31m         \u001b[0;32mreturn\u001b[0m \u001b[0mfunc\u001b[0m\u001b[0;34m(\u001b[0m\u001b[0;34m*\u001b[0m\u001b[0mbase_unit_args\u001b[0m\u001b[0;34m,\u001b[0m \u001b[0;34m**\u001b[0m\u001b[0mbase_unit_kwargs\u001b[0m\u001b[0;34m)\u001b[0m\u001b[0;34m\u001b[0m\u001b[0;34m\u001b[0m\u001b[0m\n\u001b[0m\u001b[1;32m    104\u001b[0m \u001b[0;34m\u001b[0m\u001b[0m\n\u001b[1;32m    105\u001b[0m     \u001b[0;32mreturn\u001b[0m \u001b[0minner\u001b[0m\u001b[0;34m\u001b[0m\u001b[0;34m\u001b[0m\u001b[0m\n",
      "\u001b[0;31mTypeError\u001b[0m: __init__() got an unexpected keyword argument 'massunb'"
     ]
    }
   ],
   "source": [
    "\"\"\"Calculate the response of the rotor connected by a flexible mechanical coupling with parallel,\n",
    "angular or combined misalignment.\"\"\"\n",
    "misalignment = rotor.run_misalignment(\n",
    "    coupling=\"flex\",\n",
    "    dt=0.0001,\n",
    "    tI=0,\n",
    "    tF=5,\n",
    "    kd=40 * 10 ** (3), \n",
    "    ks=38 * 10 ** (3),  \n",
    "    eCOUPx=2 * 10 ** (-4),  \n",
    "    eCOUPy=2 * 10 ** (-4),  \n",
    "    misalignment_angle=5 * np.pi / 180,  \n",
    "    TD=0,  \n",
    "    TL=0,\n",
    "    n1=0,\n",
    "    speed=1200,\n",
    "    massunb=massunbt,\n",
    "    phaseunb=phaseunbt,\n",
    "    mis_type=\"parallel\", # change here the type: mis_type=\"angular\" or mis_type=\"combined\"\n",
    "    print_progress = False,\n",
    ")"
   ]
  },
  {
   "cell_type": "code",
   "execution_count": 5,
   "metadata": {
    "execution": {
     "iopub.execute_input": "2021-02-23T00:07:32.278408Z",
     "iopub.status.busy": "2021-02-23T00:07:32.277178Z",
     "iopub.status.idle": "2021-02-23T00:07:32.282524Z",
     "shell.execute_reply": "2021-02-23T00:07:32.282918Z"
    }
   },
   "outputs": [
    {
     "ename": "AttributeError",
     "evalue": "module 'ross.defects.misalignment' has no attribute 'run_time_response'",
     "output_type": "error",
     "traceback": [
      "\u001b[0;31m---------------------------------------------------------------------------\u001b[0m",
      "\u001b[0;31mAttributeError\u001b[0m                            Traceback (most recent call last)",
      "\u001b[0;32m<ipython-input-1-a55e71975587>\u001b[0m in \u001b[0;36m<module>\u001b[0;34m\u001b[0m\n\u001b[1;32m      1\u001b[0m \u001b[0;34m\"\"\"Plots the time response for the two given probes.\"\"\"\u001b[0m\u001b[0;34m\u001b[0m\u001b[0;34m\u001b[0m\u001b[0m\n\u001b[0;32m----> 2\u001b[0;31m \u001b[0mresults\u001b[0m \u001b[0;34m=\u001b[0m \u001b[0mmisalignment\u001b[0m\u001b[0;34m.\u001b[0m\u001b[0mrun_time_response\u001b[0m\u001b[0;34m(\u001b[0m\u001b[0;34m)\u001b[0m\u001b[0;34m\u001b[0m\u001b[0;34m\u001b[0m\u001b[0m\n\u001b[0m\u001b[1;32m      3\u001b[0m \u001b[0mresults\u001b[0m\u001b[0;34m.\u001b[0m\u001b[0mplot_1d\u001b[0m\u001b[0;34m(\u001b[0m\u001b[0;34m[\u001b[0m\u001b[0mprobe1\u001b[0m\u001b[0;34m,\u001b[0m \u001b[0mprobe2\u001b[0m\u001b[0;34m]\u001b[0m\u001b[0;34m)\u001b[0m\u001b[0;34m.\u001b[0m\u001b[0mshow\u001b[0m\u001b[0;34m(\u001b[0m\u001b[0;34m)\u001b[0m\u001b[0;34m\u001b[0m\u001b[0;34m\u001b[0m\u001b[0m\n",
      "\u001b[0;31mAttributeError\u001b[0m: module 'ross.defects.misalignment' has no attribute 'run_time_response'"
     ]
    }
   ],
   "source": [
    "\"\"\"Plots the time response for the two given probes.\"\"\"\n",
    "results = misalignment.run_time_response()\n",
    "results.plot_1d([probe1, probe2]).show()"
   ]
  },
  {
   "cell_type": "code",
   "execution_count": 6,
   "metadata": {
    "execution": {
     "iopub.execute_input": "2021-02-23T00:07:32.291060Z",
     "iopub.status.busy": "2021-02-23T00:07:32.289669Z",
     "iopub.status.idle": "2021-02-23T00:07:32.295170Z",
     "shell.execute_reply": "2021-02-23T00:07:32.297612Z"
    }
   },
   "outputs": [
    {
     "ename": "AttributeError",
     "evalue": "module 'ross.defects.misalignment' has no attribute 'plot_dfft'",
     "output_type": "error",
     "traceback": [
      "\u001b[0;31m---------------------------------------------------------------------------\u001b[0m",
      "\u001b[0;31mAttributeError\u001b[0m                            Traceback (most recent call last)",
      "\u001b[0;32m<ipython-input-1-25e44dfc411a>\u001b[0m in \u001b[0;36m<module>\u001b[0;34m\u001b[0m\n\u001b[1;32m      1\u001b[0m \u001b[0;34m\"\"\"Plots the frequency response for the two given probes.\"\"\"\u001b[0m\u001b[0;34m\u001b[0m\u001b[0;34m\u001b[0m\u001b[0m\n\u001b[0;32m----> 2\u001b[0;31m \u001b[0mmisalignment\u001b[0m\u001b[0;34m.\u001b[0m\u001b[0mplot_dfft\u001b[0m\u001b[0;34m(\u001b[0m\u001b[0;34m[\u001b[0m\u001b[0mprobe1\u001b[0m\u001b[0;34m,\u001b[0m \u001b[0mprobe2\u001b[0m\u001b[0;34m]\u001b[0m\u001b[0;34m,\u001b[0m \u001b[0mrange_freq\u001b[0m\u001b[0;34m=\u001b[0m\u001b[0;34m[\u001b[0m\u001b[0;36m0\u001b[0m\u001b[0;34m,\u001b[0m \u001b[0;36m100\u001b[0m\u001b[0;34m]\u001b[0m\u001b[0;34m,\u001b[0m \u001b[0myaxis_type\u001b[0m\u001b[0;34m=\u001b[0m\u001b[0;34m\"log\"\u001b[0m\u001b[0;34m)\u001b[0m\u001b[0;34m.\u001b[0m\u001b[0mshow\u001b[0m\u001b[0;34m(\u001b[0m\u001b[0;34m)\u001b[0m\u001b[0;34m\u001b[0m\u001b[0;34m\u001b[0m\u001b[0m\n\u001b[0m",
      "\u001b[0;31mAttributeError\u001b[0m: module 'ross.defects.misalignment' has no attribute 'plot_dfft'"
     ]
    }
   ],
   "source": [
    "\"\"\"Plots the frequency response for the two given probes.\"\"\"\n",
    "misalignment.plot_dfft([probe1, probe2], range_freq=[0, 100], yaxis_type=\"log\").show()"
   ]
  },
  {
   "cell_type": "code",
   "execution_count": null,
   "metadata": {},
   "outputs": [],
   "source": []
  }
 ],
 "metadata": {
  "kernelspec": {
   "display_name": "Python 3",
   "language": "python",
   "name": "python3"
  },
  "language_info": {
   "codemirror_mode": {
    "name": "ipython",
    "version": 3
   },
   "file_extension": ".py",
   "mimetype": "text/x-python",
   "name": "python",
   "nbconvert_exporter": "python",
   "pygments_lexer": "ipython3",
   "version": "3.9.1"
  }
 },
 "nbformat": 4,
 "nbformat_minor": 2
}
