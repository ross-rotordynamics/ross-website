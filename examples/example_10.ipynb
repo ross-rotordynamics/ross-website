{
 "cells": [
  {
   "cell_type": "markdown",
   "metadata": {},
   "source": [
    "Example 10 - Example of rotor connected by a rigid mechanical coupling with parallel misalignment.\n",
    "=====\n",
    "\n",
    "In this example, we use a finite element (FE) model to represent the rotor that is available as a test rig in LMest - UFU for demonstrating the results obtained when we have a misalignment defect present in the system. \n",
    "The system is composed of a flexible steel shaft with $0.914 m$ length and $0.019 m$ diameter (it is modeled using Timoshenko beam-element), two rigid discs (both of steel with $0.150 m$ diameter and $0.020 m$ thickness) and two self alignment ball bearings.\n",
    "A model updating procedure was used to obtain a representative FE model for the numerical simulations presented in this work. In this sense, a heuristic optimization technique (Differential Evolution) was used to determine the unknown parameters of the model, namely the stiffness and damping coefficients of the bearings, besides the proportional damping.\n"
   ]
  },
  {
   "cell_type": "code",
   "execution_count": 1,
   "metadata": {
    "execution": {
     "iopub.execute_input": "2021-02-23T00:07:27.765497Z",
     "iopub.status.busy": "2021-02-23T00:07:27.764777Z",
     "iopub.status.idle": "2021-02-23T00:07:28.877804Z",
     "shell.execute_reply": "2021-02-23T00:07:28.877269Z"
    },
    "tags": []
   },
   "outputs": [],
   "source": [
    "import numpy as np\n",
    "\n",
    "import ross as rs\n",
    "from ross.defects import *\n",
    "from ross.defects.misalignment import misalignment_flex_parallel_example"
   ]
  },
  {
   "cell_type": "code",
   "execution_count": 2,
   "metadata": {
    "execution": {
     "iopub.execute_input": "2021-02-23T00:07:28.901827Z",
     "iopub.status.busy": "2021-02-23T00:07:28.896685Z",
     "iopub.status.idle": "2021-02-23T00:07:28.979352Z",
     "shell.execute_reply": "2021-02-23T00:07:28.978810Z"
    }
   },
   "outputs": [],
   "source": [
    "\"\"\"Create example rotor with given number of elements.\"\"\"\n",
    "steel2 = rs.Material(name=\"Steel\", rho=7850, E=2.17e11, G_s=81.2e9)\n",
    "#  Rotor with 6 DoFs, with internal damping, with 10 shaft elements, 2 disks and 2 bearings.\n",
    "i_d = 0\n",
    "o_d = 0.019\n",
    "n = 33\n",
    "\n",
    "# fmt: off\n",
    "L = np.array(\n",
    "        [0  ,  25,  64, 104, 124, 143, 175, 207, 239, 271,\n",
    "         303, 335, 345, 355, 380, 408, 436, 466, 496, 526,\n",
    "         556, 586, 614, 647, 657, 667, 702, 737, 772, 807,\n",
    "         842, 862, 881, 914]\n",
    "         )/ 1000\n",
    "# fmt: on\n",
    "\n",
    "L = [L[i] - L[i - 1] for i in range(1, len(L))]\n",
    "\n",
    "shaft_elem = [\n",
    "    rs.ShaftElement6DoF(\n",
    "        material=steel2,\n",
    "        L=l,\n",
    "        idl=i_d,\n",
    "        odl=o_d,\n",
    "        idr=i_d,\n",
    "        odr=o_d,\n",
    "        alpha=8.0501,\n",
    "        beta=1.0e-5,\n",
    "        rotary_inertia=True,\n",
    "        shear_effects=True,\n",
    "    )\n",
    "    for l in L\n",
    "]\n",
    "\n",
    "Id = 0.003844540885417\n",
    "Ip = 0.007513248437500\n",
    "\n",
    "disk0 = rs.DiskElement6DoF(n=12, m=2.6375, Id=Id, Ip=Ip)\n",
    "disk1 = rs.DiskElement6DoF(n=24, m=2.6375, Id=Id, Ip=Ip)\n",
    "\n",
    "kxx1 = 4.40e5\n",
    "kyy1 = 4.6114e5\n",
    "kzz = 0\n",
    "cxx1 = 27.4\n",
    "cyy1 = 2.505\n",
    "czz = 0\n",
    "kxx2 = 9.50e5\n",
    "kyy2 = 1.09e8\n",
    "cxx2 = 50.4\n",
    "cyy2 = 100.4553\n",
    "\n",
    "bearing0 = rs.BearingElement6DoF(\n",
    "    n=4, kxx=kxx1, kyy=kyy1, cxx=cxx1, cyy=cyy1, kzz=kzz, czz=czz\n",
    ")\n",
    "bearing1 = rs.BearingElement6DoF(\n",
    "    n=31, kxx=kxx2, kyy=kyy2, cxx=cxx2, cyy=cyy2, kzz=kzz, czz=czz\n",
    ")\n",
    "\n",
    "rotor = rs.Rotor(shaft_elem, [disk0, disk1], [bearing0, bearing1])"
   ]
  },
  {
   "cell_type": "code",
   "execution_count": 3,
   "metadata": {
    "execution": {
     "iopub.execute_input": "2021-02-23T00:07:28.985141Z",
     "iopub.status.busy": "2021-02-23T00:07:28.984563Z",
     "iopub.status.idle": "2021-02-23T00:07:28.985979Z",
     "shell.execute_reply": "2021-02-23T00:07:28.985579Z"
    }
   },
   "outputs": [],
   "source": [
    "\"\"\"Inserting a mass and phase unbalance and defining the local response.\"\"\"\n",
    "massunbt = np.array([5e-4, 0])\n",
    "phaseunbt = np.array([-np.pi / 2, 0])\n",
    "probe1 = (14, 0)\n",
    "probe2 = (22, 0)"
   ]
  },
  {
   "cell_type": "code",
   "execution_count": 4,
   "metadata": {
    "execution": {
     "iopub.execute_input": "2021-02-23T00:07:28.992342Z",
     "iopub.status.busy": "2021-02-23T00:07:28.991826Z",
     "iopub.status.idle": "2021-02-23T00:07:29.134947Z",
     "shell.execute_reply": "2021-02-23T00:07:29.135553Z"
    },
    "tags": []
   },
   "outputs": [
    {
     "ename": "TypeError",
     "evalue": "__init__() got an unexpected keyword argument 'massunb'",
     "output_type": "error",
     "traceback": [
      "\u001b[0;31m---------------------------------------------------------------------------\u001b[0m",
      "\u001b[0;31mTypeError\u001b[0m                                 Traceback (most recent call last)",
      "\u001b[0;32m<ipython-input-1-9e324e32a5ba>\u001b[0m in \u001b[0;36m<module>\u001b[0;34m\u001b[0m\n\u001b[1;32m      1\u001b[0m \u001b[0;34m\"\"\"Calculate the response of the rotor connected by a rigid mechanical coupling with parallel misalignment.\"\"\"\u001b[0m\u001b[0;34m\u001b[0m\u001b[0;34m\u001b[0m\u001b[0m\n\u001b[0;32m----> 2\u001b[0;31m misalignment = rotor.run_misalignment(\n\u001b[0m\u001b[1;32m      3\u001b[0m     \u001b[0mcoupling\u001b[0m\u001b[0;34m=\u001b[0m\u001b[0;34m\"rigid\"\u001b[0m\u001b[0;34m,\u001b[0m\u001b[0;34m\u001b[0m\u001b[0;34m\u001b[0m\u001b[0m\n\u001b[1;32m      4\u001b[0m     \u001b[0mdt\u001b[0m\u001b[0;34m=\u001b[0m\u001b[0;36m0.0001\u001b[0m\u001b[0;34m,\u001b[0m\u001b[0;34m\u001b[0m\u001b[0;34m\u001b[0m\u001b[0m\n\u001b[1;32m      5\u001b[0m     \u001b[0mtI\u001b[0m\u001b[0;34m=\u001b[0m\u001b[0;36m0\u001b[0m\u001b[0;34m,\u001b[0m\u001b[0;34m\u001b[0m\u001b[0;34m\u001b[0m\u001b[0m\n",
      "\u001b[0;32m~/work/ross/ross/ross/rotor_assembly.py\u001b[0m in \u001b[0;36mrun_misalignment\u001b[0;34m(self, coupling, **kwargs)\u001b[0m\n\u001b[1;32m   2442\u001b[0m             \u001b[0mdefect\u001b[0m \u001b[0;34m=\u001b[0m \u001b[0mMisalignmentFlex\u001b[0m\u001b[0;34m(\u001b[0m\u001b[0;34m**\u001b[0m\u001b[0mkwargs\u001b[0m\u001b[0;34m)\u001b[0m\u001b[0;34m\u001b[0m\u001b[0;34m\u001b[0m\u001b[0m\n\u001b[1;32m   2443\u001b[0m         \u001b[0;32melif\u001b[0m \u001b[0mcoupling\u001b[0m \u001b[0;34m==\u001b[0m \u001b[0;34m\"rigid\"\u001b[0m\u001b[0;34m:\u001b[0m\u001b[0;34m\u001b[0m\u001b[0;34m\u001b[0m\u001b[0m\n\u001b[0;32m-> 2444\u001b[0;31m             \u001b[0mdefect\u001b[0m \u001b[0;34m=\u001b[0m \u001b[0mMisalignmentRigid\u001b[0m\u001b[0;34m(\u001b[0m\u001b[0;34m**\u001b[0m\u001b[0mkwargs\u001b[0m\u001b[0;34m)\u001b[0m\u001b[0;34m\u001b[0m\u001b[0;34m\u001b[0m\u001b[0m\n\u001b[0m\u001b[1;32m   2445\u001b[0m         \u001b[0;32melse\u001b[0m\u001b[0;34m:\u001b[0m\u001b[0;34m\u001b[0m\u001b[0;34m\u001b[0m\u001b[0m\n\u001b[1;32m   2446\u001b[0m             \u001b[0;32mraise\u001b[0m \u001b[0mException\u001b[0m\u001b[0;34m(\u001b[0m\u001b[0;34m\"Check the choosed coupling type!\"\u001b[0m\u001b[0;34m)\u001b[0m\u001b[0;34m\u001b[0m\u001b[0;34m\u001b[0m\u001b[0m\n",
      "\u001b[0;32m~/work/ross/ross/ross/units.py\u001b[0m in \u001b[0;36minner\u001b[0;34m(*args, **kwargs)\u001b[0m\n\u001b[1;32m    101\u001b[0m                 \u001b[0mbase_unit_kwargs\u001b[0m\u001b[0;34m[\u001b[0m\u001b[0mk\u001b[0m\u001b[0;34m]\u001b[0m \u001b[0;34m=\u001b[0m \u001b[0mv\u001b[0m\u001b[0;34m\u001b[0m\u001b[0;34m\u001b[0m\u001b[0m\n\u001b[1;32m    102\u001b[0m \u001b[0;34m\u001b[0m\u001b[0m\n\u001b[0;32m--> 103\u001b[0;31m         \u001b[0;32mreturn\u001b[0m \u001b[0mfunc\u001b[0m\u001b[0;34m(\u001b[0m\u001b[0;34m*\u001b[0m\u001b[0mbase_unit_args\u001b[0m\u001b[0;34m,\u001b[0m \u001b[0;34m**\u001b[0m\u001b[0mbase_unit_kwargs\u001b[0m\u001b[0;34m)\u001b[0m\u001b[0;34m\u001b[0m\u001b[0;34m\u001b[0m\u001b[0m\n\u001b[0m\u001b[1;32m    104\u001b[0m \u001b[0;34m\u001b[0m\u001b[0m\n\u001b[1;32m    105\u001b[0m     \u001b[0;32mreturn\u001b[0m \u001b[0minner\u001b[0m\u001b[0;34m\u001b[0m\u001b[0;34m\u001b[0m\u001b[0m\n",
      "\u001b[0;31mTypeError\u001b[0m: __init__() got an unexpected keyword argument 'massunb'"
     ]
    }
   ],
   "source": [
    "\"\"\"Calculate the response of the rotor connected by a rigid mechanical coupling with parallel misalignment.\"\"\"\n",
    "misalignment = rotor.run_misalignment(\n",
    "    coupling=\"rigid\",\n",
    "    dt=0.0001,\n",
    "    tI=0,\n",
    "    tF=5,\n",
    "    eCOUP=2e-4,\n",
    "    TD=0,\n",
    "    TL=0,\n",
    "    n1=0,\n",
    "    speed=1200,\n",
    "    massunb=massunbt,\n",
    "    phaseunb=phaseunbt,\n",
    "    print_progress = False,\n",
    ")"
   ]
  },
  {
   "cell_type": "code",
   "execution_count": 5,
   "metadata": {
    "execution": {
     "iopub.execute_input": "2021-02-23T00:07:29.144052Z",
     "iopub.status.busy": "2021-02-23T00:07:29.140089Z",
     "iopub.status.idle": "2021-02-23T00:07:29.146698Z",
     "shell.execute_reply": "2021-02-23T00:07:29.145886Z"
    }
   },
   "outputs": [
    {
     "ename": "AttributeError",
     "evalue": "module 'ross.defects.misalignment' has no attribute 'run_time_response'",
     "output_type": "error",
     "traceback": [
      "\u001b[0;31m---------------------------------------------------------------------------\u001b[0m",
      "\u001b[0;31mAttributeError\u001b[0m                            Traceback (most recent call last)",
      "\u001b[0;32m<ipython-input-1-a55e71975587>\u001b[0m in \u001b[0;36m<module>\u001b[0;34m\u001b[0m\n\u001b[1;32m      1\u001b[0m \u001b[0;34m\"\"\"Plots the time response for the two given probes.\"\"\"\u001b[0m\u001b[0;34m\u001b[0m\u001b[0;34m\u001b[0m\u001b[0m\n\u001b[0;32m----> 2\u001b[0;31m \u001b[0mresults\u001b[0m \u001b[0;34m=\u001b[0m \u001b[0mmisalignment\u001b[0m\u001b[0;34m.\u001b[0m\u001b[0mrun_time_response\u001b[0m\u001b[0;34m(\u001b[0m\u001b[0;34m)\u001b[0m\u001b[0;34m\u001b[0m\u001b[0;34m\u001b[0m\u001b[0m\n\u001b[0m\u001b[1;32m      3\u001b[0m \u001b[0mresults\u001b[0m\u001b[0;34m.\u001b[0m\u001b[0mplot_1d\u001b[0m\u001b[0;34m(\u001b[0m\u001b[0;34m[\u001b[0m\u001b[0mprobe1\u001b[0m\u001b[0;34m,\u001b[0m \u001b[0mprobe2\u001b[0m\u001b[0;34m]\u001b[0m\u001b[0;34m)\u001b[0m\u001b[0;34m.\u001b[0m\u001b[0mshow\u001b[0m\u001b[0;34m(\u001b[0m\u001b[0;34m)\u001b[0m\u001b[0;34m\u001b[0m\u001b[0;34m\u001b[0m\u001b[0m\n",
      "\u001b[0;31mAttributeError\u001b[0m: module 'ross.defects.misalignment' has no attribute 'run_time_response'"
     ]
    }
   ],
   "source": [
    "\"\"\"Plots the time response for the two given probes.\"\"\"\n",
    "results = misalignment.run_time_response()\n",
    "results.plot_1d([probe1, probe2]).show()"
   ]
  },
  {
   "cell_type": "code",
   "execution_count": 6,
   "metadata": {
    "execution": {
     "iopub.execute_input": "2021-02-23T00:07:29.154821Z",
     "iopub.status.busy": "2021-02-23T00:07:29.154198Z",
     "iopub.status.idle": "2021-02-23T00:07:29.156772Z",
     "shell.execute_reply": "2021-02-23T00:07:29.157162Z"
    }
   },
   "outputs": [
    {
     "ename": "AttributeError",
     "evalue": "module 'ross.defects.misalignment' has no attribute 'plot_dfft'",
     "output_type": "error",
     "traceback": [
      "\u001b[0;31m---------------------------------------------------------------------------\u001b[0m",
      "\u001b[0;31mAttributeError\u001b[0m                            Traceback (most recent call last)",
      "\u001b[0;32m<ipython-input-1-25e44dfc411a>\u001b[0m in \u001b[0;36m<module>\u001b[0;34m\u001b[0m\n\u001b[1;32m      1\u001b[0m \u001b[0;34m\"\"\"Plots the frequency response for the two given probes.\"\"\"\u001b[0m\u001b[0;34m\u001b[0m\u001b[0;34m\u001b[0m\u001b[0m\n\u001b[0;32m----> 2\u001b[0;31m \u001b[0mmisalignment\u001b[0m\u001b[0;34m.\u001b[0m\u001b[0mplot_dfft\u001b[0m\u001b[0;34m(\u001b[0m\u001b[0;34m[\u001b[0m\u001b[0mprobe1\u001b[0m\u001b[0;34m,\u001b[0m \u001b[0mprobe2\u001b[0m\u001b[0;34m]\u001b[0m\u001b[0;34m,\u001b[0m \u001b[0mrange_freq\u001b[0m\u001b[0;34m=\u001b[0m\u001b[0;34m[\u001b[0m\u001b[0;36m0\u001b[0m\u001b[0;34m,\u001b[0m \u001b[0;36m100\u001b[0m\u001b[0;34m]\u001b[0m\u001b[0;34m,\u001b[0m \u001b[0myaxis_type\u001b[0m\u001b[0;34m=\u001b[0m\u001b[0;34m\"log\"\u001b[0m\u001b[0;34m)\u001b[0m\u001b[0;34m.\u001b[0m\u001b[0mshow\u001b[0m\u001b[0;34m(\u001b[0m\u001b[0;34m)\u001b[0m\u001b[0;34m\u001b[0m\u001b[0;34m\u001b[0m\u001b[0m\n\u001b[0m",
      "\u001b[0;31mAttributeError\u001b[0m: module 'ross.defects.misalignment' has no attribute 'plot_dfft'"
     ]
    }
   ],
   "source": [
    "\"\"\"Plots the frequency response for the two given probes.\"\"\"\n",
    "misalignment.plot_dfft([probe1, probe2], range_freq=[0, 100], yaxis_type=\"log\").show()"
   ]
  }
 ],
 "metadata": {
  "kernelspec": {
   "display_name": "Python 3",
   "language": "python",
   "name": "python3"
  },
  "language_info": {
   "codemirror_mode": {
    "name": "ipython",
    "version": 3
   },
   "file_extension": ".py",
   "mimetype": "text/x-python",
   "name": "python",
   "nbconvert_exporter": "python",
   "pygments_lexer": "ipython3",
   "version": "3.9.1"
  }
 },
 "nbformat": 4,
 "nbformat_minor": 2
}
