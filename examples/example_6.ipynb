{
 "cells": [
  {
   "cell_type": "markdown",
   "metadata": {},
   "source": [
    "Example 6 - Isotropic bearings with damping.\n",
    "=====\n",
    "In this example, we use the rotor seen in Example 5.9.5 from 'Dynamics of Rotating Machinery' by MI Friswell, JET Penny, SD Garvey & AW Lees, published by Cambridge University Press, 2010.\n",
    "\n",
    "The isotropic bearing Example 3 is repeated but with damping in the bearings. The, x and y directions are\n",
    "uncoupled, with a translational stiffness of 1 MN/m and a damping of 3 kNs/m\n",
    "in each direction."
   ]
  },
  {
   "cell_type": "code",
   "execution_count": 1,
   "metadata": {},
   "outputs": [],
   "source": [
    "import ross as rs\n",
    "import numpy as np"
   ]
  },
  {
   "cell_type": "code",
   "execution_count": 12,
   "metadata": {},
   "outputs": [
    {
     "data": {
      "application/vnd.plotly.v1+json": {
       "config": {
        "plotlyServerURL": "https://plot.ly"
       },
       "data": [
        {
         "hoverinfo": "none",
         "line": {
          "color": "black",
          "dash": "dashdot",
          "width": 3
         },
         "mode": "lines",
         "opacity": 0.7,
         "showlegend": false,
         "type": "scatter",
         "x": [
          -0.30000000000000004,
          1.7999999999999998
         ],
         "y": [
          0,
          0
         ]
        },
        {
         "hoverinfo": "none",
         "marker": {
          "color": "#ffcc99",
          "line": {
           "color": "black",
           "width": 1
          },
          "opacity": 0.7,
          "size": 20
         },
         "mode": "markers+text",
         "showlegend": false,
         "text": [
          "0",
          "1",
          "2",
          "3",
          "4",
          "5",
          "6"
         ],
         "type": "scatter",
         "x": [
          0,
          0.25,
          0.5,
          0.75,
          1,
          1.25,
          1.5
         ],
         "y": [
          0,
          0,
          0,
          0,
          0,
          0,
          0
         ]
        },
        {
         "customdata": [
          [
           0,
           0.05,
           0,
           0.05,
           0,
           0.25,
           "Steel"
          ],
          [
           0,
           0.05,
           0,
           0.05,
           0,
           0.25,
           "Steel"
          ],
          [
           0,
           0.05,
           0,
           0.05,
           0,
           0.25,
           "Steel"
          ],
          [
           0,
           0.05,
           0,
           0.05,
           0,
           0.25,
           "Steel"
          ],
          [
           0,
           0.05,
           0,
           0.05,
           0,
           0.25,
           "Steel"
          ],
          [
           0,
           0.05,
           0,
           0.05,
           0,
           0.25,
           "Steel"
          ],
          [
           0,
           0.05,
           0,
           0.05,
           0,
           0.25,
           "Steel"
          ],
          [
           0,
           0.05,
           0,
           0.05,
           0,
           0.25,
           "Steel"
          ],
          [
           0,
           0.05,
           0,
           0.05,
           0,
           0.25,
           "Steel"
          ],
          [
           0,
           0.05,
           0,
           0.05,
           0,
           0.25,
           "Steel"
          ]
         ],
         "fill": "toself",
         "fillcolor": "#525252",
         "hoverinfo": "text",
         "hoverlabel": {
          "bgcolor": "#525252"
         },
         "hoveron": "points+fills",
         "hovertemplate": "Element Number: 0<br>Left Outer Diameter: 0.05 m<br>Left Inner Diameter: 0.0 m<br>Right Outer Diameter: 0.05 m<br>Right Inner Diameter: 0.0 m<br>Element Length: 0.25 m<br>Material: Steel<br>",
         "legendgroup": "Shaft",
         "line": {
          "color": "black",
          "width": 1.5
         },
         "mode": "lines",
         "name": "ShaftElement 0",
         "opacity": 0.5,
         "showlegend": false,
         "text": "Element Number: 0<br>Left Outer Diameter: 0.05 m<br>Left Inner Diameter: 0.0 m<br>Right Outer Diameter: 0.05 m<br>Right Inner Diameter: 0.0 m<br>Element Length: 0.25 m<br>Material: Steel<br>",
         "type": "scatter",
         "x": [
          0,
          0,
          0.25,
          0.25,
          0,
          0,
          0,
          0.25,
          0.25,
          0
         ],
         "y": [
          0,
          0.025,
          0.025,
          0,
          0,
          0,
          -0.025,
          -0.025,
          0,
          0
         ]
        },
        {
         "customdata": [
          [
           1,
           0.05,
           0,
           0.05,
           0,
           0.25,
           "Steel"
          ],
          [
           1,
           0.05,
           0,
           0.05,
           0,
           0.25,
           "Steel"
          ],
          [
           1,
           0.05,
           0,
           0.05,
           0,
           0.25,
           "Steel"
          ],
          [
           1,
           0.05,
           0,
           0.05,
           0,
           0.25,
           "Steel"
          ],
          [
           1,
           0.05,
           0,
           0.05,
           0,
           0.25,
           "Steel"
          ],
          [
           1,
           0.05,
           0,
           0.05,
           0,
           0.25,
           "Steel"
          ],
          [
           1,
           0.05,
           0,
           0.05,
           0,
           0.25,
           "Steel"
          ],
          [
           1,
           0.05,
           0,
           0.05,
           0,
           0.25,
           "Steel"
          ],
          [
           1,
           0.05,
           0,
           0.05,
           0,
           0.25,
           "Steel"
          ],
          [
           1,
           0.05,
           0,
           0.05,
           0,
           0.25,
           "Steel"
          ]
         ],
         "fill": "toself",
         "fillcolor": "#525252",
         "hoverinfo": "text",
         "hoverlabel": {
          "bgcolor": "#525252"
         },
         "hoveron": "points+fills",
         "hovertemplate": "Element Number: 1<br>Left Outer Diameter: 0.05 m<br>Left Inner Diameter: 0.0 m<br>Right Outer Diameter: 0.05 m<br>Right Inner Diameter: 0.0 m<br>Element Length: 0.25 m<br>Material: Steel<br>",
         "legendgroup": "Shaft",
         "line": {
          "color": "black",
          "width": 1.5
         },
         "mode": "lines",
         "name": "ShaftElement 1",
         "opacity": 0.5,
         "showlegend": false,
         "text": "Element Number: 1<br>Left Outer Diameter: 0.05 m<br>Left Inner Diameter: 0.0 m<br>Right Outer Diameter: 0.05 m<br>Right Inner Diameter: 0.0 m<br>Element Length: 0.25 m<br>Material: Steel<br>",
         "type": "scatter",
         "x": [
          0.25,
          0.25,
          0.5,
          0.5,
          0.25,
          0.25,
          0.25,
          0.5,
          0.5,
          0.25
         ],
         "y": [
          0,
          0.025,
          0.025,
          0,
          0,
          0,
          -0.025,
          -0.025,
          0,
          0
         ]
        },
        {
         "customdata": [
          [
           2,
           0.05,
           0,
           0.05,
           0,
           0.25,
           "Steel"
          ],
          [
           2,
           0.05,
           0,
           0.05,
           0,
           0.25,
           "Steel"
          ],
          [
           2,
           0.05,
           0,
           0.05,
           0,
           0.25,
           "Steel"
          ],
          [
           2,
           0.05,
           0,
           0.05,
           0,
           0.25,
           "Steel"
          ],
          [
           2,
           0.05,
           0,
           0.05,
           0,
           0.25,
           "Steel"
          ],
          [
           2,
           0.05,
           0,
           0.05,
           0,
           0.25,
           "Steel"
          ],
          [
           2,
           0.05,
           0,
           0.05,
           0,
           0.25,
           "Steel"
          ],
          [
           2,
           0.05,
           0,
           0.05,
           0,
           0.25,
           "Steel"
          ],
          [
           2,
           0.05,
           0,
           0.05,
           0,
           0.25,
           "Steel"
          ],
          [
           2,
           0.05,
           0,
           0.05,
           0,
           0.25,
           "Steel"
          ]
         ],
         "fill": "toself",
         "fillcolor": "#525252",
         "hoverinfo": "text",
         "hoverlabel": {
          "bgcolor": "#525252"
         },
         "hoveron": "points+fills",
         "hovertemplate": "Element Number: 2<br>Left Outer Diameter: 0.05 m<br>Left Inner Diameter: 0.0 m<br>Right Outer Diameter: 0.05 m<br>Right Inner Diameter: 0.0 m<br>Element Length: 0.25 m<br>Material: Steel<br>",
         "legendgroup": "Shaft",
         "line": {
          "color": "black",
          "width": 1.5
         },
         "mode": "lines",
         "name": "ShaftElement 2",
         "opacity": 0.5,
         "showlegend": false,
         "text": "Element Number: 2<br>Left Outer Diameter: 0.05 m<br>Left Inner Diameter: 0.0 m<br>Right Outer Diameter: 0.05 m<br>Right Inner Diameter: 0.0 m<br>Element Length: 0.25 m<br>Material: Steel<br>",
         "type": "scatter",
         "x": [
          0.5,
          0.5,
          0.75,
          0.75,
          0.5,
          0.5,
          0.5,
          0.75,
          0.75,
          0.5
         ],
         "y": [
          0,
          0.025,
          0.025,
          0,
          0,
          0,
          -0.025,
          -0.025,
          0,
          0
         ]
        },
        {
         "customdata": [
          [
           3,
           0.05,
           0,
           0.05,
           0,
           0.25,
           "Steel"
          ],
          [
           3,
           0.05,
           0,
           0.05,
           0,
           0.25,
           "Steel"
          ],
          [
           3,
           0.05,
           0,
           0.05,
           0,
           0.25,
           "Steel"
          ],
          [
           3,
           0.05,
           0,
           0.05,
           0,
           0.25,
           "Steel"
          ],
          [
           3,
           0.05,
           0,
           0.05,
           0,
           0.25,
           "Steel"
          ],
          [
           3,
           0.05,
           0,
           0.05,
           0,
           0.25,
           "Steel"
          ],
          [
           3,
           0.05,
           0,
           0.05,
           0,
           0.25,
           "Steel"
          ],
          [
           3,
           0.05,
           0,
           0.05,
           0,
           0.25,
           "Steel"
          ],
          [
           3,
           0.05,
           0,
           0.05,
           0,
           0.25,
           "Steel"
          ],
          [
           3,
           0.05,
           0,
           0.05,
           0,
           0.25,
           "Steel"
          ]
         ],
         "fill": "toself",
         "fillcolor": "#525252",
         "hoverinfo": "text",
         "hoverlabel": {
          "bgcolor": "#525252"
         },
         "hoveron": "points+fills",
         "hovertemplate": "Element Number: 3<br>Left Outer Diameter: 0.05 m<br>Left Inner Diameter: 0.0 m<br>Right Outer Diameter: 0.05 m<br>Right Inner Diameter: 0.0 m<br>Element Length: 0.25 m<br>Material: Steel<br>",
         "legendgroup": "Shaft",
         "line": {
          "color": "black",
          "width": 1.5
         },
         "mode": "lines",
         "name": "ShaftElement 3",
         "opacity": 0.5,
         "showlegend": false,
         "text": "Element Number: 3<br>Left Outer Diameter: 0.05 m<br>Left Inner Diameter: 0.0 m<br>Right Outer Diameter: 0.05 m<br>Right Inner Diameter: 0.0 m<br>Element Length: 0.25 m<br>Material: Steel<br>",
         "type": "scatter",
         "x": [
          0.75,
          0.75,
          1,
          1,
          0.75,
          0.75,
          0.75,
          1,
          1,
          0.75
         ],
         "y": [
          0,
          0.025,
          0.025,
          0,
          0,
          0,
          -0.025,
          -0.025,
          0,
          0
         ]
        },
        {
         "customdata": [
          [
           4,
           0.05,
           0,
           0.05,
           0,
           0.25,
           "Steel"
          ],
          [
           4,
           0.05,
           0,
           0.05,
           0,
           0.25,
           "Steel"
          ],
          [
           4,
           0.05,
           0,
           0.05,
           0,
           0.25,
           "Steel"
          ],
          [
           4,
           0.05,
           0,
           0.05,
           0,
           0.25,
           "Steel"
          ],
          [
           4,
           0.05,
           0,
           0.05,
           0,
           0.25,
           "Steel"
          ],
          [
           4,
           0.05,
           0,
           0.05,
           0,
           0.25,
           "Steel"
          ],
          [
           4,
           0.05,
           0,
           0.05,
           0,
           0.25,
           "Steel"
          ],
          [
           4,
           0.05,
           0,
           0.05,
           0,
           0.25,
           "Steel"
          ],
          [
           4,
           0.05,
           0,
           0.05,
           0,
           0.25,
           "Steel"
          ],
          [
           4,
           0.05,
           0,
           0.05,
           0,
           0.25,
           "Steel"
          ]
         ],
         "fill": "toself",
         "fillcolor": "#525252",
         "hoverinfo": "text",
         "hoverlabel": {
          "bgcolor": "#525252"
         },
         "hoveron": "points+fills",
         "hovertemplate": "Element Number: 4<br>Left Outer Diameter: 0.05 m<br>Left Inner Diameter: 0.0 m<br>Right Outer Diameter: 0.05 m<br>Right Inner Diameter: 0.0 m<br>Element Length: 0.25 m<br>Material: Steel<br>",
         "legendgroup": "Shaft",
         "line": {
          "color": "black",
          "width": 1.5
         },
         "mode": "lines",
         "name": "ShaftElement 4",
         "opacity": 0.5,
         "showlegend": false,
         "text": "Element Number: 4<br>Left Outer Diameter: 0.05 m<br>Left Inner Diameter: 0.0 m<br>Right Outer Diameter: 0.05 m<br>Right Inner Diameter: 0.0 m<br>Element Length: 0.25 m<br>Material: Steel<br>",
         "type": "scatter",
         "x": [
          1,
          1,
          1.25,
          1.25,
          1,
          1,
          1,
          1.25,
          1.25,
          1
         ],
         "y": [
          0,
          0.025,
          0.025,
          0,
          0,
          0,
          -0.025,
          -0.025,
          0,
          0
         ]
        },
        {
         "customdata": [
          [
           5,
           0.05,
           0,
           0.05,
           0,
           0.25,
           "Steel"
          ],
          [
           5,
           0.05,
           0,
           0.05,
           0,
           0.25,
           "Steel"
          ],
          [
           5,
           0.05,
           0,
           0.05,
           0,
           0.25,
           "Steel"
          ],
          [
           5,
           0.05,
           0,
           0.05,
           0,
           0.25,
           "Steel"
          ],
          [
           5,
           0.05,
           0,
           0.05,
           0,
           0.25,
           "Steel"
          ],
          [
           5,
           0.05,
           0,
           0.05,
           0,
           0.25,
           "Steel"
          ],
          [
           5,
           0.05,
           0,
           0.05,
           0,
           0.25,
           "Steel"
          ],
          [
           5,
           0.05,
           0,
           0.05,
           0,
           0.25,
           "Steel"
          ],
          [
           5,
           0.05,
           0,
           0.05,
           0,
           0.25,
           "Steel"
          ],
          [
           5,
           0.05,
           0,
           0.05,
           0,
           0.25,
           "Steel"
          ]
         ],
         "fill": "toself",
         "fillcolor": "#525252",
         "hoverinfo": "text",
         "hoverlabel": {
          "bgcolor": "#525252"
         },
         "hoveron": "points+fills",
         "hovertemplate": "Element Number: 5<br>Left Outer Diameter: 0.05 m<br>Left Inner Diameter: 0.0 m<br>Right Outer Diameter: 0.05 m<br>Right Inner Diameter: 0.0 m<br>Element Length: 0.25 m<br>Material: Steel<br>",
         "legendgroup": "Shaft",
         "line": {
          "color": "black",
          "width": 1.5
         },
         "mode": "lines",
         "name": "ShaftElement 5",
         "opacity": 0.5,
         "showlegend": false,
         "text": "Element Number: 5<br>Left Outer Diameter: 0.05 m<br>Left Inner Diameter: 0.0 m<br>Right Outer Diameter: 0.05 m<br>Right Inner Diameter: 0.0 m<br>Element Length: 0.25 m<br>Material: Steel<br>",
         "type": "scatter",
         "x": [
          1.25,
          1.25,
          1.5,
          1.5,
          1.25,
          1.25,
          1.25,
          1.5,
          1.5,
          1.25
         ],
         "y": [
          0,
          0.025,
          0.025,
          0,
          0,
          0,
          -0.025,
          -0.025,
          0,
          0
         ]
        },
        {
         "customdata": [
          [
           2,
           0.32956362089137037,
           0.17808928257067666,
           32.58972765304033
          ],
          [
           2,
           0.32956362089137037,
           0.17808928257067666,
           32.58972765304033
          ],
          [
           2,
           0.32956362089137037,
           0.17808928257067666,
           32.58972765304033
          ],
          [
           2,
           0.32956362089137037,
           0.17808928257067666,
           32.58972765304033
          ],
          [
           2,
           0.32956362089137037,
           0.17808928257067666,
           32.58972765304033
          ],
          [
           2,
           0.32956362089137037,
           0.17808928257067666,
           32.58972765304033
          ],
          [
           2,
           0.32956362089137037,
           0.17808928257067666,
           32.58972765304033
          ],
          [
           2,
           0.32956362089137037,
           0.17808928257067666,
           32.58972765304033
          ],
          [
           2,
           0.32956362089137037,
           0.17808928257067666,
           32.58972765304033
          ]
         ],
         "fill": "toself",
         "fillcolor": "Firebrick",
         "hoverinfo": "text",
         "hoverlabel": {
          "bgcolor": "Firebrick"
         },
         "hoveron": "points+fills",
         "hovertemplate": "Disk Node: 2<br>Polar Inertia: 3.296e-01<br>Diametral Inertia: 1.781e-01<br>Disk mass: 32.590<br>",
         "legendgroup": "disks",
         "line": {
          "color": "Firebrick",
          "width": 2
         },
         "mode": "lines",
         "name": "Disk 0",
         "showlegend": false,
         "text": "Disk Node: 2<br>Polar Inertia: 3.296e-01<br>Diametral Inertia: 1.781e-01<br>Disk mass: 32.590<br>",
         "type": "scatter",
         "x": [
          0.5,
          0.5083333333333333,
          0.49166666666666664,
          0.5,
          null,
          0.5,
          0.5083333333333333,
          0.49166666666666664,
          0.5
         ],
         "y": [
          0.025,
          0.125,
          0.125,
          0.025,
          null,
          -0.025,
          -0.125,
          -0.125,
          -0.025
         ]
        },
        {
         "customdata": [
          [
           4,
           0.8050822048675969,
           0.4235805840543383,
           51.5252611115262
          ],
          [
           4,
           0.8050822048675969,
           0.4235805840543383,
           51.5252611115262
          ],
          [
           4,
           0.8050822048675969,
           0.4235805840543383,
           51.5252611115262
          ],
          [
           4,
           0.8050822048675969,
           0.4235805840543383,
           51.5252611115262
          ],
          [
           4,
           0.8050822048675969,
           0.4235805840543383,
           51.5252611115262
          ],
          [
           4,
           0.8050822048675969,
           0.4235805840543383,
           51.5252611115262
          ],
          [
           4,
           0.8050822048675969,
           0.4235805840543383,
           51.5252611115262
          ],
          [
           4,
           0.8050822048675969,
           0.4235805840543383,
           51.5252611115262
          ],
          [
           4,
           0.8050822048675969,
           0.4235805840543383,
           51.5252611115262
          ]
         ],
         "fill": "toself",
         "fillcolor": "Firebrick",
         "hoverinfo": "text",
         "hoverlabel": {
          "bgcolor": "Firebrick"
         },
         "hoveron": "points+fills",
         "hovertemplate": "Disk Node: 4<br>Polar Inertia: 8.051e-01<br>Diametral Inertia: 4.236e-01<br>Disk mass: 51.525<br>",
         "legendgroup": "disks",
         "line": {
          "color": "Firebrick",
          "width": 2
         },
         "mode": "lines",
         "name": "Disk 1",
         "showlegend": false,
         "text": "Disk Node: 4<br>Polar Inertia: 8.051e-01<br>Diametral Inertia: 4.236e-01<br>Disk mass: 51.525<br>",
         "type": "scatter",
         "x": [
          1,
          1.0083333333333333,
          0.9916666666666667,
          1,
          null,
          1,
          1.0083333333333333,
          0.9916666666666667,
          1
         ],
         "y": [
          0.025,
          0.125,
          0.125,
          0.025,
          null,
          -0.025,
          -0.125,
          -0.125,
          -0.025
         ]
        },
        {
         "hoverinfo": "none",
         "legendgroup": "bearings",
         "line": {
          "color": "#355d7a",
          "width": 3.5
         },
         "mode": "lines",
         "name": "Bearing 0",
         "showlegend": false,
         "type": "scatter",
         "x": [
          0,
          0,
          -0.025,
          0.025
         ],
         "y": [
          0.025,
          0.05,
          0.05,
          0.05
         ]
        },
        {
         "hoverinfo": "none",
         "legendgroup": "bearings",
         "line": {
          "color": "#355d7a",
          "width": 3.5
         },
         "mode": "lines",
         "name": "Bearing 0",
         "showlegend": false,
         "type": "scatter",
         "x": [
          0,
          0,
          -0.025,
          0.025
         ],
         "y": [
          -0.025,
          -0.05,
          -0.05,
          -0.05
         ]
        },
        {
         "hoverinfo": "none",
         "legendgroup": "bearings",
         "line": {
          "color": "#355d7a",
          "width": 3.5
         },
         "mode": "lines",
         "name": "Bearing 0",
         "showlegend": false,
         "type": "scatter",
         "x": [
          0,
          0,
          -0.025,
          0.025
         ],
         "y": [
          0.125,
          0.1,
          0.1,
          0.1
         ]
        },
        {
         "hoverinfo": "none",
         "legendgroup": "bearings",
         "line": {
          "color": "#355d7a",
          "width": 3.5
         },
         "mode": "lines",
         "name": "Bearing 0",
         "showlegend": false,
         "type": "scatter",
         "x": [
          0,
          0,
          -0.025,
          0.025
         ],
         "y": [
          -0.125,
          -0.1,
          -0.1,
          -0.1
         ]
        },
        {
         "hoverinfo": "none",
         "legendgroup": "bearings",
         "line": {
          "color": "#355d7a",
          "width": 3.5
         },
         "mode": "lines",
         "name": "Bearing 0",
         "showlegend": false,
         "type": "scatter",
         "x": [
          -0.03214285714285715,
          0.03214285714285715
         ],
         "y": [
          0.125,
          0.125
         ]
        },
        {
         "hoverinfo": "none",
         "legendgroup": "bearings",
         "line": {
          "color": "#355d7a",
          "width": 3.5
         },
         "mode": "lines",
         "name": "Bearing 0",
         "showlegend": false,
         "type": "scatter",
         "x": [
          -0.03214285714285715,
          0.03214285714285715
         ],
         "y": [
          -0.125,
          -0.125
         ]
        },
        {
         "hoverinfo": "none",
         "legendgroup": "bearings",
         "line": {
          "color": "#355d7a",
          "width": 3.5
         },
         "mode": "lines",
         "name": "Bearing 0",
         "showlegend": false,
         "type": "scatter",
         "x": [
          -0.03214285714285715,
          -0.019285714285714288
         ],
         "y": [
          0.125,
          0.1375
         ]
        },
        {
         "hoverinfo": "none",
         "legendgroup": "bearings",
         "line": {
          "color": "#355d7a",
          "width": 3.5
         },
         "mode": "lines",
         "name": "Bearing 0",
         "showlegend": false,
         "type": "scatter",
         "x": [
          -0.03214285714285715,
          -0.019285714285714288
         ],
         "y": [
          -0.125,
          -0.1375
         ]
        },
        {
         "hoverinfo": "none",
         "legendgroup": "bearings",
         "line": {
          "color": "#355d7a",
          "width": 3.5
         },
         "mode": "lines",
         "name": "Bearing 0",
         "showlegend": false,
         "type": "scatter",
         "x": [
          -0.019285714285714288,
          -0.006428571428571429
         ],
         "y": [
          0.125,
          0.1375
         ]
        },
        {
         "hoverinfo": "none",
         "legendgroup": "bearings",
         "line": {
          "color": "#355d7a",
          "width": 3.5
         },
         "mode": "lines",
         "name": "Bearing 0",
         "showlegend": false,
         "type": "scatter",
         "x": [
          -0.019285714285714288,
          -0.006428571428571429
         ],
         "y": [
          -0.125,
          -0.1375
         ]
        },
        {
         "hoverinfo": "none",
         "legendgroup": "bearings",
         "line": {
          "color": "#355d7a",
          "width": 3.5
         },
         "mode": "lines",
         "name": "Bearing 0",
         "showlegend": false,
         "type": "scatter",
         "x": [
          -0.006428571428571429,
          0.006428571428571429
         ],
         "y": [
          0.125,
          0.1375
         ]
        },
        {
         "hoverinfo": "none",
         "legendgroup": "bearings",
         "line": {
          "color": "#355d7a",
          "width": 3.5
         },
         "mode": "lines",
         "name": "Bearing 0",
         "showlegend": false,
         "type": "scatter",
         "x": [
          -0.006428571428571429,
          0.006428571428571429
         ],
         "y": [
          -0.125,
          -0.1375
         ]
        },
        {
         "hoverinfo": "none",
         "legendgroup": "bearings",
         "line": {
          "color": "#355d7a",
          "width": 3.5
         },
         "mode": "lines",
         "name": "Bearing 0",
         "showlegend": false,
         "type": "scatter",
         "x": [
          0.006428571428571429,
          0.019285714285714288
         ],
         "y": [
          0.125,
          0.1375
         ]
        },
        {
         "hoverinfo": "none",
         "legendgroup": "bearings",
         "line": {
          "color": "#355d7a",
          "width": 3.5
         },
         "mode": "lines",
         "name": "Bearing 0",
         "showlegend": false,
         "type": "scatter",
         "x": [
          0.006428571428571429,
          0.019285714285714288
         ],
         "y": [
          -0.125,
          -0.1375
         ]
        },
        {
         "hoverinfo": "none",
         "legendgroup": "bearings",
         "line": {
          "color": "#355d7a",
          "width": 3.5
         },
         "mode": "lines",
         "name": "Bearing 0",
         "showlegend": false,
         "type": "scatter",
         "x": [
          0.019285714285714288,
          0.03214285714285715
         ],
         "y": [
          0.125,
          0.1375
         ]
        },
        {
         "hoverinfo": "none",
         "legendgroup": "bearings",
         "line": {
          "color": "#355d7a",
          "width": 3.5
         },
         "mode": "lines",
         "name": "Bearing 0",
         "showlegend": false,
         "type": "scatter",
         "x": [
          0.019285714285714288,
          0.03214285714285715
         ],
         "y": [
          -0.125,
          -0.1375
         ]
        },
        {
         "hoverinfo": "none",
         "legendgroup": "bearings",
         "line": {
          "color": "#355d7a",
          "width": 3.5
         },
         "mode": "lines",
         "name": "Bearing 0",
         "showlegend": false,
         "type": "scatter",
         "x": [
          0.03214285714285715,
          0.045000000000000005
         ],
         "y": [
          0.125,
          0.1375
         ]
        },
        {
         "hoverinfo": "none",
         "legendgroup": "bearings",
         "line": {
          "color": "#355d7a",
          "width": 3.5
         },
         "mode": "lines",
         "name": "Bearing 0",
         "showlegend": false,
         "type": "scatter",
         "x": [
          0.03214285714285715,
          0.045000000000000005
         ],
         "y": [
          -0.125,
          -0.1375
         ]
        },
        {
         "hoverinfo": "none",
         "legendgroup": "bearings",
         "line": {
          "color": "#355d7a",
          "width": 3.5
         },
         "mode": "lines",
         "name": "Bearing 0",
         "showlegend": false,
         "type": "scatter",
         "x": [
          -0.025,
          -0.025,
          -0.03214285714285715,
          -0.017857142857142856,
          -0.03214285714285715,
          -0.017857142857142856,
          -0.03214285714285715,
          -0.017857142857142856,
          -0.025,
          -0.025
         ],
         "y": [
          0.05,
          0.05714285714285715,
          0.05714285714285715,
          0.0642857142857143,
          0.07142857142857142,
          0.07857142857142857,
          0.08571428571428572,
          0.09285714285714286,
          0.09285714285714286,
          0.1
         ]
        },
        {
         "hoverinfo": "none",
         "legendgroup": "bearings",
         "line": {
          "color": "#355d7a",
          "width": 3.5
         },
         "mode": "lines",
         "name": "Bearing 0",
         "showlegend": false,
         "type": "scatter",
         "x": [
          -0.025,
          -0.025,
          -0.03214285714285715,
          -0.017857142857142856,
          -0.03214285714285715,
          -0.017857142857142856,
          -0.03214285714285715,
          -0.017857142857142856,
          -0.025,
          -0.025
         ],
         "y": [
          -0.05,
          -0.05714285714285715,
          -0.05714285714285715,
          -0.0642857142857143,
          -0.07142857142857142,
          -0.07857142857142857,
          -0.08571428571428572,
          -0.09285714285714286,
          -0.09285714285714286,
          -0.1
         ]
        },
        {
         "hoverinfo": "none",
         "legendgroup": "bearings",
         "line": {
          "color": "#355d7a",
          "width": 3.5
         },
         "mode": "lines",
         "name": "Bearing 0",
         "showlegend": false,
         "type": "scatter",
         "x": [
          0.025,
          0.025
         ],
         "y": [
          0.05,
          0.0642857142857143
         ]
        },
        {
         "hoverinfo": "none",
         "legendgroup": "bearings",
         "line": {
          "color": "#355d7a",
          "width": 3.5
         },
         "mode": "lines",
         "name": "Bearing 0",
         "showlegend": false,
         "type": "scatter",
         "x": [
          0.025,
          0.025
         ],
         "y": [
          -0.05,
          -0.0642857142857143
         ]
        },
        {
         "hoverinfo": "none",
         "legendgroup": "bearings",
         "line": {
          "color": "#355d7a",
          "width": 3.5
         },
         "mode": "lines",
         "name": "Bearing 0",
         "showlegend": false,
         "type": "scatter",
         "x": [
          0.010714285714285714,
          0.010714285714285714,
          0.039285714285714285,
          0.039285714285714285
         ],
         "y": [
          0.08571428571428572,
          0.0642857142857143,
          0.0642857142857143,
          0.08571428571428572
         ]
        },
        {
         "hoverinfo": "none",
         "legendgroup": "bearings",
         "line": {
          "color": "#355d7a",
          "width": 3.5
         },
         "mode": "lines",
         "name": "Bearing 0",
         "showlegend": false,
         "type": "scatter",
         "x": [
          0.010714285714285714,
          0.010714285714285714,
          0.039285714285714285,
          0.039285714285714285
         ],
         "y": [
          -0.08571428571428572,
          -0.0642857142857143,
          -0.0642857142857143,
          -0.08571428571428572
         ]
        },
        {
         "hoverinfo": "none",
         "legendgroup": "bearings",
         "line": {
          "color": "#355d7a",
          "width": 3.5
         },
         "mode": "lines",
         "name": "Bearing 0",
         "showlegend": false,
         "type": "scatter",
         "x": [
          0.010714285714285714,
          0.039285714285714285,
          0.025,
          0.025
         ],
         "y": [
          0.07857142857142857,
          0.07857142857142857,
          0.07857142857142857,
          0.1
         ]
        },
        {
         "hoverinfo": "none",
         "legendgroup": "bearings",
         "line": {
          "color": "#355d7a",
          "width": 3.5
         },
         "mode": "lines",
         "name": "Bearing 0",
         "showlegend": false,
         "type": "scatter",
         "x": [
          0.010714285714285714,
          0.039285714285714285,
          0.025,
          0.025
         ],
         "y": [
          -0.07857142857142857,
          -0.07857142857142857,
          -0.07857142857142857,
          -0.1
         ]
        },
        {
         "hoverinfo": "none",
         "legendgroup": "bearings",
         "line": {
          "color": "#355d7a",
          "width": 3.5
         },
         "mode": "lines",
         "name": "Bearing 1",
         "showlegend": false,
         "type": "scatter",
         "x": [
          1.5,
          1.5,
          1.475,
          1.525
         ],
         "y": [
          0.025,
          0.05,
          0.05,
          0.05
         ]
        },
        {
         "hoverinfo": "none",
         "legendgroup": "bearings",
         "line": {
          "color": "#355d7a",
          "width": 3.5
         },
         "mode": "lines",
         "name": "Bearing 1",
         "showlegend": false,
         "type": "scatter",
         "x": [
          1.5,
          1.5,
          1.475,
          1.525
         ],
         "y": [
          -0.025,
          -0.05,
          -0.05,
          -0.05
         ]
        },
        {
         "hoverinfo": "none",
         "legendgroup": "bearings",
         "line": {
          "color": "#355d7a",
          "width": 3.5
         },
         "mode": "lines",
         "name": "Bearing 1",
         "showlegend": false,
         "type": "scatter",
         "x": [
          1.5,
          1.5,
          1.475,
          1.525
         ],
         "y": [
          0.125,
          0.1,
          0.1,
          0.1
         ]
        },
        {
         "hoverinfo": "none",
         "legendgroup": "bearings",
         "line": {
          "color": "#355d7a",
          "width": 3.5
         },
         "mode": "lines",
         "name": "Bearing 1",
         "showlegend": false,
         "type": "scatter",
         "x": [
          1.5,
          1.5,
          1.475,
          1.525
         ],
         "y": [
          -0.125,
          -0.1,
          -0.1,
          -0.1
         ]
        },
        {
         "hoverinfo": "none",
         "legendgroup": "bearings",
         "line": {
          "color": "#355d7a",
          "width": 3.5
         },
         "mode": "lines",
         "name": "Bearing 1",
         "showlegend": false,
         "type": "scatter",
         "x": [
          1.467857142857143,
          1.532142857142857
         ],
         "y": [
          0.125,
          0.125
         ]
        },
        {
         "hoverinfo": "none",
         "legendgroup": "bearings",
         "line": {
          "color": "#355d7a",
          "width": 3.5
         },
         "mode": "lines",
         "name": "Bearing 1",
         "showlegend": false,
         "type": "scatter",
         "x": [
          1.467857142857143,
          1.532142857142857
         ],
         "y": [
          -0.125,
          -0.125
         ]
        },
        {
         "hoverinfo": "none",
         "legendgroup": "bearings",
         "line": {
          "color": "#355d7a",
          "width": 3.5
         },
         "mode": "lines",
         "name": "Bearing 1",
         "showlegend": false,
         "type": "scatter",
         "x": [
          1.467857142857143,
          1.4807142857142859
         ],
         "y": [
          0.125,
          0.1375
         ]
        },
        {
         "hoverinfo": "none",
         "legendgroup": "bearings",
         "line": {
          "color": "#355d7a",
          "width": 3.5
         },
         "mode": "lines",
         "name": "Bearing 1",
         "showlegend": false,
         "type": "scatter",
         "x": [
          1.467857142857143,
          1.4807142857142859
         ],
         "y": [
          -0.125,
          -0.1375
         ]
        },
        {
         "hoverinfo": "none",
         "legendgroup": "bearings",
         "line": {
          "color": "#355d7a",
          "width": 3.5
         },
         "mode": "lines",
         "name": "Bearing 1",
         "showlegend": false,
         "type": "scatter",
         "x": [
          1.4807142857142859,
          1.4935714285714285
         ],
         "y": [
          0.125,
          0.1375
         ]
        },
        {
         "hoverinfo": "none",
         "legendgroup": "bearings",
         "line": {
          "color": "#355d7a",
          "width": 3.5
         },
         "mode": "lines",
         "name": "Bearing 1",
         "showlegend": false,
         "type": "scatter",
         "x": [
          1.4807142857142859,
          1.4935714285714285
         ],
         "y": [
          -0.125,
          -0.1375
         ]
        },
        {
         "hoverinfo": "none",
         "legendgroup": "bearings",
         "line": {
          "color": "#355d7a",
          "width": 3.5
         },
         "mode": "lines",
         "name": "Bearing 1",
         "showlegend": false,
         "type": "scatter",
         "x": [
          1.4935714285714285,
          1.5064285714285715
         ],
         "y": [
          0.125,
          0.1375
         ]
        },
        {
         "hoverinfo": "none",
         "legendgroup": "bearings",
         "line": {
          "color": "#355d7a",
          "width": 3.5
         },
         "mode": "lines",
         "name": "Bearing 1",
         "showlegend": false,
         "type": "scatter",
         "x": [
          1.4935714285714285,
          1.5064285714285715
         ],
         "y": [
          -0.125,
          -0.1375
         ]
        },
        {
         "hoverinfo": "none",
         "legendgroup": "bearings",
         "line": {
          "color": "#355d7a",
          "width": 3.5
         },
         "mode": "lines",
         "name": "Bearing 1",
         "showlegend": false,
         "type": "scatter",
         "x": [
          1.5064285714285715,
          1.5192857142857141
         ],
         "y": [
          0.125,
          0.1375
         ]
        },
        {
         "hoverinfo": "none",
         "legendgroup": "bearings",
         "line": {
          "color": "#355d7a",
          "width": 3.5
         },
         "mode": "lines",
         "name": "Bearing 1",
         "showlegend": false,
         "type": "scatter",
         "x": [
          1.5064285714285715,
          1.5192857142857141
         ],
         "y": [
          -0.125,
          -0.1375
         ]
        },
        {
         "hoverinfo": "none",
         "legendgroup": "bearings",
         "line": {
          "color": "#355d7a",
          "width": 3.5
         },
         "mode": "lines",
         "name": "Bearing 1",
         "showlegend": false,
         "type": "scatter",
         "x": [
          1.5192857142857141,
          1.532142857142857
         ],
         "y": [
          0.125,
          0.1375
         ]
        },
        {
         "hoverinfo": "none",
         "legendgroup": "bearings",
         "line": {
          "color": "#355d7a",
          "width": 3.5
         },
         "mode": "lines",
         "name": "Bearing 1",
         "showlegend": false,
         "type": "scatter",
         "x": [
          1.5192857142857141,
          1.532142857142857
         ],
         "y": [
          -0.125,
          -0.1375
         ]
        },
        {
         "hoverinfo": "none",
         "legendgroup": "bearings",
         "line": {
          "color": "#355d7a",
          "width": 3.5
         },
         "mode": "lines",
         "name": "Bearing 1",
         "showlegend": false,
         "type": "scatter",
         "x": [
          1.532142857142857,
          1.545
         ],
         "y": [
          0.125,
          0.1375
         ]
        },
        {
         "hoverinfo": "none",
         "legendgroup": "bearings",
         "line": {
          "color": "#355d7a",
          "width": 3.5
         },
         "mode": "lines",
         "name": "Bearing 1",
         "showlegend": false,
         "type": "scatter",
         "x": [
          1.532142857142857,
          1.545
         ],
         "y": [
          -0.125,
          -0.1375
         ]
        },
        {
         "hoverinfo": "none",
         "legendgroup": "bearings",
         "line": {
          "color": "#355d7a",
          "width": 3.5
         },
         "mode": "lines",
         "name": "Bearing 1",
         "showlegend": false,
         "type": "scatter",
         "x": [
          1.475,
          1.475,
          1.467857142857143,
          1.4821428571428572,
          1.467857142857143,
          1.4821428571428572,
          1.467857142857143,
          1.4821428571428572,
          1.475,
          1.475
         ],
         "y": [
          0.05,
          0.05714285714285715,
          0.05714285714285715,
          0.0642857142857143,
          0.07142857142857142,
          0.07857142857142857,
          0.08571428571428572,
          0.09285714285714286,
          0.09285714285714286,
          0.1
         ]
        },
        {
         "hoverinfo": "none",
         "legendgroup": "bearings",
         "line": {
          "color": "#355d7a",
          "width": 3.5
         },
         "mode": "lines",
         "name": "Bearing 1",
         "showlegend": false,
         "type": "scatter",
         "x": [
          1.475,
          1.475,
          1.467857142857143,
          1.4821428571428572,
          1.467857142857143,
          1.4821428571428572,
          1.467857142857143,
          1.4821428571428572,
          1.475,
          1.475
         ],
         "y": [
          -0.05,
          -0.05714285714285715,
          -0.05714285714285715,
          -0.0642857142857143,
          -0.07142857142857142,
          -0.07857142857142857,
          -0.08571428571428572,
          -0.09285714285714286,
          -0.09285714285714286,
          -0.1
         ]
        },
        {
         "hoverinfo": "none",
         "legendgroup": "bearings",
         "line": {
          "color": "#355d7a",
          "width": 3.5
         },
         "mode": "lines",
         "name": "Bearing 1",
         "showlegend": false,
         "type": "scatter",
         "x": [
          1.525,
          1.525
         ],
         "y": [
          0.05,
          0.0642857142857143
         ]
        },
        {
         "hoverinfo": "none",
         "legendgroup": "bearings",
         "line": {
          "color": "#355d7a",
          "width": 3.5
         },
         "mode": "lines",
         "name": "Bearing 1",
         "showlegend": false,
         "type": "scatter",
         "x": [
          1.525,
          1.525
         ],
         "y": [
          -0.05,
          -0.0642857142857143
         ]
        },
        {
         "hoverinfo": "none",
         "legendgroup": "bearings",
         "line": {
          "color": "#355d7a",
          "width": 3.5
         },
         "mode": "lines",
         "name": "Bearing 1",
         "showlegend": false,
         "type": "scatter",
         "x": [
          1.5107142857142857,
          1.5107142857142857,
          1.5392857142857141,
          1.5392857142857141
         ],
         "y": [
          0.08571428571428572,
          0.0642857142857143,
          0.0642857142857143,
          0.08571428571428572
         ]
        },
        {
         "hoverinfo": "none",
         "legendgroup": "bearings",
         "line": {
          "color": "#355d7a",
          "width": 3.5
         },
         "mode": "lines",
         "name": "Bearing 1",
         "showlegend": false,
         "type": "scatter",
         "x": [
          1.5107142857142857,
          1.5107142857142857,
          1.5392857142857141,
          1.5392857142857141
         ],
         "y": [
          -0.08571428571428572,
          -0.0642857142857143,
          -0.0642857142857143,
          -0.08571428571428572
         ]
        },
        {
         "hoverinfo": "none",
         "legendgroup": "bearings",
         "line": {
          "color": "#355d7a",
          "width": 3.5
         },
         "mode": "lines",
         "name": "Bearing 1",
         "showlegend": false,
         "type": "scatter",
         "x": [
          1.5107142857142857,
          1.5392857142857141,
          1.525,
          1.525
         ],
         "y": [
          0.07857142857142857,
          0.07857142857142857,
          0.07857142857142857,
          0.1
         ]
        },
        {
         "hoverinfo": "none",
         "legendgroup": "bearings",
         "line": {
          "color": "#355d7a",
          "width": 3.5
         },
         "mode": "lines",
         "name": "Bearing 1",
         "showlegend": false,
         "type": "scatter",
         "x": [
          1.5107142857142857,
          1.5392857142857141,
          1.525,
          1.525
         ],
         "y": [
          -0.07857142857142857,
          -0.07857142857142857,
          -0.07857142857142857,
          -0.1
         ]
        }
       ],
       "layout": {
        "shapes": [
         {
          "fillcolor": "Firebrick",
          "line": {
           "color": "Firebrick"
          },
          "type": "circle",
          "x0": 0.5083333333333333,
          "x1": 0.49166666666666664,
          "xref": "x",
          "y0": 0.11666666666666667,
          "y1": 0.13333333333333333,
          "yref": "y"
         },
         {
          "fillcolor": "Firebrick",
          "line": {
           "color": "Firebrick"
          },
          "type": "circle",
          "x0": 0.5083333333333333,
          "x1": 0.49166666666666664,
          "xref": "x",
          "y0": -0.11666666666666667,
          "y1": -0.13333333333333333,
          "yref": "y"
         },
         {
          "fillcolor": "Firebrick",
          "line": {
           "color": "Firebrick"
          },
          "type": "circle",
          "x0": 1.0083333333333333,
          "x1": 0.9916666666666667,
          "xref": "x",
          "y0": 0.11666666666666667,
          "y1": 0.13333333333333333,
          "yref": "y"
         },
         {
          "fillcolor": "Firebrick",
          "line": {
           "color": "Firebrick"
          },
          "type": "circle",
          "x0": 1.0083333333333333,
          "x1": 0.9916666666666667,
          "xref": "x",
          "y0": -0.11666666666666667,
          "y1": -0.13333333333333333,
          "yref": "y"
         }
        ],
        "template": {
         "data": {
          "bar": [
           {
            "error_x": {
             "color": "#2a3f5f"
            },
            "error_y": {
             "color": "#2a3f5f"
            },
            "marker": {
             "line": {
              "color": "white",
              "width": 0.5
             }
            },
            "type": "bar"
           }
          ],
          "barpolar": [
           {
            "marker": {
             "line": {
              "color": "white",
              "width": 0.5
             }
            },
            "type": "barpolar"
           }
          ],
          "carpet": [
           {
            "aaxis": {
             "endlinecolor": "#2a3f5f",
             "gridcolor": "#C8D4E3",
             "linecolor": "#C8D4E3",
             "minorgridcolor": "#C8D4E3",
             "startlinecolor": "#2a3f5f"
            },
            "baxis": {
             "endlinecolor": "#2a3f5f",
             "gridcolor": "#C8D4E3",
             "linecolor": "#C8D4E3",
             "minorgridcolor": "#C8D4E3",
             "startlinecolor": "#2a3f5f"
            },
            "type": "carpet"
           }
          ],
          "choropleth": [
           {
            "colorbar": {
             "outlinewidth": 0,
             "ticks": ""
            },
            "type": "choropleth"
           }
          ],
          "contour": [
           {
            "colorbar": {
             "outlinewidth": 0,
             "ticks": ""
            },
            "colorscale": [
             [
              0,
              "#0d0887"
             ],
             [
              0.1111111111111111,
              "#46039f"
             ],
             [
              0.2222222222222222,
              "#7201a8"
             ],
             [
              0.3333333333333333,
              "#9c179e"
             ],
             [
              0.4444444444444444,
              "#bd3786"
             ],
             [
              0.5555555555555556,
              "#d8576b"
             ],
             [
              0.6666666666666666,
              "#ed7953"
             ],
             [
              0.7777777777777778,
              "#fb9f3a"
             ],
             [
              0.8888888888888888,
              "#fdca26"
             ],
             [
              1,
              "#f0f921"
             ]
            ],
            "type": "contour"
           }
          ],
          "contourcarpet": [
           {
            "colorbar": {
             "outlinewidth": 0,
             "ticks": ""
            },
            "type": "contourcarpet"
           }
          ],
          "heatmap": [
           {
            "colorbar": {
             "outlinewidth": 0,
             "ticks": ""
            },
            "colorscale": [
             [
              0,
              "#0d0887"
             ],
             [
              0.1111111111111111,
              "#46039f"
             ],
             [
              0.2222222222222222,
              "#7201a8"
             ],
             [
              0.3333333333333333,
              "#9c179e"
             ],
             [
              0.4444444444444444,
              "#bd3786"
             ],
             [
              0.5555555555555556,
              "#d8576b"
             ],
             [
              0.6666666666666666,
              "#ed7953"
             ],
             [
              0.7777777777777778,
              "#fb9f3a"
             ],
             [
              0.8888888888888888,
              "#fdca26"
             ],
             [
              1,
              "#f0f921"
             ]
            ],
            "type": "heatmap"
           }
          ],
          "heatmapgl": [
           {
            "colorbar": {
             "outlinewidth": 0,
             "ticks": ""
            },
            "colorscale": [
             [
              0,
              "#0d0887"
             ],
             [
              0.1111111111111111,
              "#46039f"
             ],
             [
              0.2222222222222222,
              "#7201a8"
             ],
             [
              0.3333333333333333,
              "#9c179e"
             ],
             [
              0.4444444444444444,
              "#bd3786"
             ],
             [
              0.5555555555555556,
              "#d8576b"
             ],
             [
              0.6666666666666666,
              "#ed7953"
             ],
             [
              0.7777777777777778,
              "#fb9f3a"
             ],
             [
              0.8888888888888888,
              "#fdca26"
             ],
             [
              1,
              "#f0f921"
             ]
            ],
            "type": "heatmapgl"
           }
          ],
          "histogram": [
           {
            "marker": {
             "colorbar": {
              "outlinewidth": 0,
              "ticks": ""
             }
            },
            "type": "histogram"
           }
          ],
          "histogram2d": [
           {
            "colorbar": {
             "outlinewidth": 0,
             "ticks": ""
            },
            "colorscale": [
             [
              0,
              "#0d0887"
             ],
             [
              0.1111111111111111,
              "#46039f"
             ],
             [
              0.2222222222222222,
              "#7201a8"
             ],
             [
              0.3333333333333333,
              "#9c179e"
             ],
             [
              0.4444444444444444,
              "#bd3786"
             ],
             [
              0.5555555555555556,
              "#d8576b"
             ],
             [
              0.6666666666666666,
              "#ed7953"
             ],
             [
              0.7777777777777778,
              "#fb9f3a"
             ],
             [
              0.8888888888888888,
              "#fdca26"
             ],
             [
              1,
              "#f0f921"
             ]
            ],
            "type": "histogram2d"
           }
          ],
          "histogram2dcontour": [
           {
            "colorbar": {
             "outlinewidth": 0,
             "ticks": ""
            },
            "colorscale": [
             [
              0,
              "#0d0887"
             ],
             [
              0.1111111111111111,
              "#46039f"
             ],
             [
              0.2222222222222222,
              "#7201a8"
             ],
             [
              0.3333333333333333,
              "#9c179e"
             ],
             [
              0.4444444444444444,
              "#bd3786"
             ],
             [
              0.5555555555555556,
              "#d8576b"
             ],
             [
              0.6666666666666666,
              "#ed7953"
             ],
             [
              0.7777777777777778,
              "#fb9f3a"
             ],
             [
              0.8888888888888888,
              "#fdca26"
             ],
             [
              1,
              "#f0f921"
             ]
            ],
            "type": "histogram2dcontour"
           }
          ],
          "mesh3d": [
           {
            "colorbar": {
             "outlinewidth": 0,
             "ticks": ""
            },
            "type": "mesh3d"
           }
          ],
          "parcoords": [
           {
            "line": {
             "colorbar": {
              "outlinewidth": 0,
              "ticks": ""
             }
            },
            "type": "parcoords"
           }
          ],
          "pie": [
           {
            "automargin": true,
            "type": "pie"
           }
          ],
          "scatter": [
           {
            "marker": {
             "colorbar": {
              "outlinewidth": 0,
              "ticks": ""
             }
            },
            "type": "scatter"
           }
          ],
          "scatter3d": [
           {
            "line": {
             "colorbar": {
              "outlinewidth": 0,
              "ticks": ""
             }
            },
            "marker": {
             "colorbar": {
              "outlinewidth": 0,
              "ticks": ""
             }
            },
            "type": "scatter3d"
           }
          ],
          "scattercarpet": [
           {
            "marker": {
             "colorbar": {
              "outlinewidth": 0,
              "ticks": ""
             }
            },
            "type": "scattercarpet"
           }
          ],
          "scattergeo": [
           {
            "marker": {
             "colorbar": {
              "outlinewidth": 0,
              "ticks": ""
             }
            },
            "type": "scattergeo"
           }
          ],
          "scattergl": [
           {
            "marker": {
             "colorbar": {
              "outlinewidth": 0,
              "ticks": ""
             }
            },
            "type": "scattergl"
           }
          ],
          "scattermapbox": [
           {
            "marker": {
             "colorbar": {
              "outlinewidth": 0,
              "ticks": ""
             }
            },
            "type": "scattermapbox"
           }
          ],
          "scatterpolar": [
           {
            "marker": {
             "colorbar": {
              "outlinewidth": 0,
              "ticks": ""
             }
            },
            "type": "scatterpolar"
           }
          ],
          "scatterpolargl": [
           {
            "marker": {
             "colorbar": {
              "outlinewidth": 0,
              "ticks": ""
             }
            },
            "type": "scatterpolargl"
           }
          ],
          "scatterternary": [
           {
            "marker": {
             "colorbar": {
              "outlinewidth": 0,
              "ticks": ""
             }
            },
            "type": "scatterternary"
           }
          ],
          "surface": [
           {
            "colorbar": {
             "outlinewidth": 0,
             "ticks": ""
            },
            "colorscale": [
             [
              0,
              "#0d0887"
             ],
             [
              0.1111111111111111,
              "#46039f"
             ],
             [
              0.2222222222222222,
              "#7201a8"
             ],
             [
              0.3333333333333333,
              "#9c179e"
             ],
             [
              0.4444444444444444,
              "#bd3786"
             ],
             [
              0.5555555555555556,
              "#d8576b"
             ],
             [
              0.6666666666666666,
              "#ed7953"
             ],
             [
              0.7777777777777778,
              "#fb9f3a"
             ],
             [
              0.8888888888888888,
              "#fdca26"
             ],
             [
              1,
              "#f0f921"
             ]
            ],
            "type": "surface"
           }
          ],
          "table": [
           {
            "cells": {
             "fill": {
              "color": "#EBF0F8"
             },
             "line": {
              "color": "white"
             }
            },
            "header": {
             "fill": {
              "color": "#C8D4E3"
             },
             "line": {
              "color": "white"
             }
            },
            "type": "table"
           }
          ]
         },
         "layout": {
          "annotationdefaults": {
           "arrowcolor": "#2a3f5f",
           "arrowhead": 0,
           "arrowwidth": 1
          },
          "coloraxis": {
           "colorbar": {
            "outlinewidth": 0,
            "ticks": ""
           }
          },
          "colorscale": {
           "diverging": [
            [
             0,
             "#8e0152"
            ],
            [
             0.1,
             "#c51b7d"
            ],
            [
             0.2,
             "#de77ae"
            ],
            [
             0.3,
             "#f1b6da"
            ],
            [
             0.4,
             "#fde0ef"
            ],
            [
             0.5,
             "#f7f7f7"
            ],
            [
             0.6,
             "#e6f5d0"
            ],
            [
             0.7,
             "#b8e186"
            ],
            [
             0.8,
             "#7fbc41"
            ],
            [
             0.9,
             "#4d9221"
            ],
            [
             1,
             "#276419"
            ]
           ],
           "sequential": [
            [
             0,
             "#0d0887"
            ],
            [
             0.1111111111111111,
             "#46039f"
            ],
            [
             0.2222222222222222,
             "#7201a8"
            ],
            [
             0.3333333333333333,
             "#9c179e"
            ],
            [
             0.4444444444444444,
             "#bd3786"
            ],
            [
             0.5555555555555556,
             "#d8576b"
            ],
            [
             0.6666666666666666,
             "#ed7953"
            ],
            [
             0.7777777777777778,
             "#fb9f3a"
            ],
            [
             0.8888888888888888,
             "#fdca26"
            ],
            [
             1,
             "#f0f921"
            ]
           ],
           "sequentialminus": [
            [
             0,
             "#0d0887"
            ],
            [
             0.1111111111111111,
             "#46039f"
            ],
            [
             0.2222222222222222,
             "#7201a8"
            ],
            [
             0.3333333333333333,
             "#9c179e"
            ],
            [
             0.4444444444444444,
             "#bd3786"
            ],
            [
             0.5555555555555556,
             "#d8576b"
            ],
            [
             0.6666666666666666,
             "#ed7953"
            ],
            [
             0.7777777777777778,
             "#fb9f3a"
            ],
            [
             0.8888888888888888,
             "#fdca26"
            ],
            [
             1,
             "#f0f921"
            ]
           ]
          },
          "colorway": [
           "#1f77b4",
           "#ff7f0e",
           "#2ca02c",
           "#d62728",
           "#9467bd",
           "#8c564b",
           "#e377c2",
           "#7f7f7f",
           "#bcbd22",
           "#17becf"
          ],
          "font": {
           "color": "#2a3f5f"
          },
          "geo": {
           "bgcolor": "white",
           "lakecolor": "white",
           "landcolor": "white",
           "showlakes": true,
           "showland": true,
           "subunitcolor": "#C8D4E3"
          },
          "hoverlabel": {
           "align": "left"
          },
          "hovermode": "closest",
          "mapbox": {
           "style": "light"
          },
          "paper_bgcolor": "white",
          "plot_bgcolor": "white",
          "polar": {
           "angularaxis": {
            "gridcolor": "#EBF0F8",
            "linecolor": "#EBF0F8",
            "ticks": ""
           },
           "bgcolor": "white",
           "radialaxis": {
            "gridcolor": "#EBF0F8",
            "linecolor": "#EBF0F8",
            "ticks": ""
           }
          },
          "scene": {
           "camera": {
            "center": {
             "x": 0,
             "y": 0,
             "z": 0
            },
            "eye": {
             "x": 2,
             "y": 2,
             "z": 2
            },
            "up": {
             "x": 0,
             "y": 0,
             "z": 1
            }
           },
           "xaxis": {
            "backgroundcolor": "white",
            "gridcolor": "#DFE8F3",
            "gridwidth": 2,
            "linecolor": "#EBF0F8",
            "showbackground": true,
            "showspikes": false,
            "ticks": "",
            "zerolinecolor": "#EBF0F8"
           },
           "yaxis": {
            "backgroundcolor": "white",
            "gridcolor": "#DFE8F3",
            "gridwidth": 2,
            "linecolor": "#EBF0F8",
            "showbackground": true,
            "showspikes": false,
            "ticks": "",
            "zerolinecolor": "#EBF0F8"
           },
           "zaxis": {
            "backgroundcolor": "white",
            "gridcolor": "#DFE8F3",
            "gridwidth": 2,
            "linecolor": "#EBF0F8",
            "showbackground": true,
            "showspikes": false,
            "ticks": "",
            "zerolinecolor": "#EBF0F8"
           }
          },
          "shapedefaults": {
           "line": {
            "color": "#2a3f5f"
           }
          },
          "ternary": {
           "aaxis": {
            "gridcolor": "#DFE8F3",
            "linecolor": "#A2B1C6",
            "ticks": ""
           },
           "baxis": {
            "gridcolor": "#DFE8F3",
            "linecolor": "#A2B1C6",
            "ticks": ""
           },
           "bgcolor": "white",
           "caxis": {
            "gridcolor": "#DFE8F3",
            "linecolor": "#A2B1C6",
            "ticks": ""
           }
          },
          "title": {
           "x": 0.05
          },
          "xaxis": {
           "automargin": true,
           "gridcolor": "#EBF0F8",
           "linecolor": "black",
           "linewidth": 2,
           "mirror": true,
           "showline": true,
           "ticks": "",
           "title": {
            "standoff": 15
           },
           "zeroline": false,
           "zerolinecolor": "#EBF0F8",
           "zerolinewidth": 2
          },
          "yaxis": {
           "automargin": true,
           "gridcolor": "#EBF0F8",
           "linecolor": "black",
           "linewidth": 2,
           "mirror": true,
           "showline": true,
           "ticks": "",
           "title": {
            "standoff": 15
           },
           "zeroline": false,
           "zerolinecolor": "#EBF0F8",
           "zerolinewidth": 2
          }
         }
        },
        "title": {
         "text": "Rotor Model"
        },
        "xaxis": {
         "mirror": true,
         "range": [
          -0.15000000000000002,
          1.6500000000000001
         ],
         "showgrid": false,
         "title": {
          "text": "Axial location (m)"
         }
        },
        "yaxis": {
         "mirror": true,
         "range": [
          -0.44999999999999996,
          0.44999999999999996
         ],
         "showgrid": false,
         "title": {
          "text": "Shaft radius (m)"
         }
        }
       }
      },
      "text/html": [
       "<div>\n",
       "        \n",
       "        \n",
       "            <div id=\"278065bd-9a02-4267-bc05-cc87b30c78a0\" class=\"plotly-graph-div\" style=\"height:525px; width:100%;\"></div>\n",
       "            <script type=\"text/javascript\">\n",
       "                require([\"plotly\"], function(Plotly) {\n",
       "                    window.PLOTLYENV=window.PLOTLYENV || {};\n",
       "                    \n",
       "                if (document.getElementById(\"278065bd-9a02-4267-bc05-cc87b30c78a0\")) {\n",
       "                    Plotly.newPlot(\n",
       "                        '278065bd-9a02-4267-bc05-cc87b30c78a0',\n",
       "                        [{\"hoverinfo\": \"none\", \"line\": {\"color\": \"black\", \"dash\": \"dashdot\", \"width\": 3.0}, \"mode\": \"lines\", \"opacity\": 0.7, \"showlegend\": false, \"type\": \"scatter\", \"x\": [-0.30000000000000004, 1.7999999999999998], \"y\": [0, 0]}, {\"hoverinfo\": \"none\", \"marker\": {\"color\": \"#ffcc99\", \"line\": {\"color\": \"black\", \"width\": 1.0}, \"opacity\": 0.7, \"size\": 20}, \"mode\": \"markers+text\", \"showlegend\": false, \"text\": [\"0\", \"1\", \"2\", \"3\", \"4\", \"5\", \"6\"], \"type\": \"scatter\", \"x\": [0.0, 0.25, 0.5, 0.75, 1.0, 1.25, 1.5], \"y\": [0.0, 0.0, 0.0, 0.0, 0.0, 0.0, 0.0]}, {\"customdata\": [[0, 0.05, 0.0, 0.05, 0.0, 0.25, \"Steel\"], [0, 0.05, 0.0, 0.05, 0.0, 0.25, \"Steel\"], [0, 0.05, 0.0, 0.05, 0.0, 0.25, \"Steel\"], [0, 0.05, 0.0, 0.05, 0.0, 0.25, \"Steel\"], [0, 0.05, 0.0, 0.05, 0.0, 0.25, \"Steel\"], [0, 0.05, 0.0, 0.05, 0.0, 0.25, \"Steel\"], [0, 0.05, 0.0, 0.05, 0.0, 0.25, \"Steel\"], [0, 0.05, 0.0, 0.05, 0.0, 0.25, \"Steel\"], [0, 0.05, 0.0, 0.05, 0.0, 0.25, \"Steel\"], [0, 0.05, 0.0, 0.05, 0.0, 0.25, \"Steel\"]], \"fill\": \"toself\", \"fillcolor\": \"#525252\", \"hoverinfo\": \"text\", \"hoverlabel\": {\"bgcolor\": \"#525252\"}, \"hoveron\": \"points+fills\", \"hovertemplate\": \"Element Number: 0<br>Left Outer Diameter: 0.05 m<br>Left Inner Diameter: 0.0 m<br>Right Outer Diameter: 0.05 m<br>Right Inner Diameter: 0.0 m<br>Element Length: 0.25 m<br>Material: Steel<br>\", \"legendgroup\": \"Shaft\", \"line\": {\"color\": \"black\", \"width\": 1.5}, \"mode\": \"lines\", \"name\": \"ShaftElement 0\", \"opacity\": 0.5, \"showlegend\": false, \"text\": \"Element Number: 0<br>Left Outer Diameter: 0.05 m<br>Left Inner Diameter: 0.0 m<br>Right Outer Diameter: 0.05 m<br>Right Inner Diameter: 0.0 m<br>Element Length: 0.25 m<br>Material: Steel<br>\", \"type\": \"scatter\", \"x\": [0.0, 0.0, 0.25, 0.25, 0.0, 0.0, 0.0, 0.25, 0.25, 0.0], \"y\": [0.0, 0.025, 0.025, 0.0, 0.0, -0.0, -0.025, -0.025, -0.0, -0.0]}, {\"customdata\": [[1, 0.05, 0.0, 0.05, 0.0, 0.25, \"Steel\"], [1, 0.05, 0.0, 0.05, 0.0, 0.25, \"Steel\"], [1, 0.05, 0.0, 0.05, 0.0, 0.25, \"Steel\"], [1, 0.05, 0.0, 0.05, 0.0, 0.25, \"Steel\"], [1, 0.05, 0.0, 0.05, 0.0, 0.25, \"Steel\"], [1, 0.05, 0.0, 0.05, 0.0, 0.25, \"Steel\"], [1, 0.05, 0.0, 0.05, 0.0, 0.25, \"Steel\"], [1, 0.05, 0.0, 0.05, 0.0, 0.25, \"Steel\"], [1, 0.05, 0.0, 0.05, 0.0, 0.25, \"Steel\"], [1, 0.05, 0.0, 0.05, 0.0, 0.25, \"Steel\"]], \"fill\": \"toself\", \"fillcolor\": \"#525252\", \"hoverinfo\": \"text\", \"hoverlabel\": {\"bgcolor\": \"#525252\"}, \"hoveron\": \"points+fills\", \"hovertemplate\": \"Element Number: 1<br>Left Outer Diameter: 0.05 m<br>Left Inner Diameter: 0.0 m<br>Right Outer Diameter: 0.05 m<br>Right Inner Diameter: 0.0 m<br>Element Length: 0.25 m<br>Material: Steel<br>\", \"legendgroup\": \"Shaft\", \"line\": {\"color\": \"black\", \"width\": 1.5}, \"mode\": \"lines\", \"name\": \"ShaftElement 1\", \"opacity\": 0.5, \"showlegend\": false, \"text\": \"Element Number: 1<br>Left Outer Diameter: 0.05 m<br>Left Inner Diameter: 0.0 m<br>Right Outer Diameter: 0.05 m<br>Right Inner Diameter: 0.0 m<br>Element Length: 0.25 m<br>Material: Steel<br>\", \"type\": \"scatter\", \"x\": [0.25, 0.25, 0.5, 0.5, 0.25, 0.25, 0.25, 0.5, 0.5, 0.25], \"y\": [0.0, 0.025, 0.025, 0.0, 0.0, -0.0, -0.025, -0.025, -0.0, -0.0]}, {\"customdata\": [[2, 0.05, 0.0, 0.05, 0.0, 0.25, \"Steel\"], [2, 0.05, 0.0, 0.05, 0.0, 0.25, \"Steel\"], [2, 0.05, 0.0, 0.05, 0.0, 0.25, \"Steel\"], [2, 0.05, 0.0, 0.05, 0.0, 0.25, \"Steel\"], [2, 0.05, 0.0, 0.05, 0.0, 0.25, \"Steel\"], [2, 0.05, 0.0, 0.05, 0.0, 0.25, \"Steel\"], [2, 0.05, 0.0, 0.05, 0.0, 0.25, \"Steel\"], [2, 0.05, 0.0, 0.05, 0.0, 0.25, \"Steel\"], [2, 0.05, 0.0, 0.05, 0.0, 0.25, \"Steel\"], [2, 0.05, 0.0, 0.05, 0.0, 0.25, \"Steel\"]], \"fill\": \"toself\", \"fillcolor\": \"#525252\", \"hoverinfo\": \"text\", \"hoverlabel\": {\"bgcolor\": \"#525252\"}, \"hoveron\": \"points+fills\", \"hovertemplate\": \"Element Number: 2<br>Left Outer Diameter: 0.05 m<br>Left Inner Diameter: 0.0 m<br>Right Outer Diameter: 0.05 m<br>Right Inner Diameter: 0.0 m<br>Element Length: 0.25 m<br>Material: Steel<br>\", \"legendgroup\": \"Shaft\", \"line\": {\"color\": \"black\", \"width\": 1.5}, \"mode\": \"lines\", \"name\": \"ShaftElement 2\", \"opacity\": 0.5, \"showlegend\": false, \"text\": \"Element Number: 2<br>Left Outer Diameter: 0.05 m<br>Left Inner Diameter: 0.0 m<br>Right Outer Diameter: 0.05 m<br>Right Inner Diameter: 0.0 m<br>Element Length: 0.25 m<br>Material: Steel<br>\", \"type\": \"scatter\", \"x\": [0.5, 0.5, 0.75, 0.75, 0.5, 0.5, 0.5, 0.75, 0.75, 0.5], \"y\": [0.0, 0.025, 0.025, 0.0, 0.0, -0.0, -0.025, -0.025, -0.0, -0.0]}, {\"customdata\": [[3, 0.05, 0.0, 0.05, 0.0, 0.25, \"Steel\"], [3, 0.05, 0.0, 0.05, 0.0, 0.25, \"Steel\"], [3, 0.05, 0.0, 0.05, 0.0, 0.25, \"Steel\"], [3, 0.05, 0.0, 0.05, 0.0, 0.25, \"Steel\"], [3, 0.05, 0.0, 0.05, 0.0, 0.25, \"Steel\"], [3, 0.05, 0.0, 0.05, 0.0, 0.25, \"Steel\"], [3, 0.05, 0.0, 0.05, 0.0, 0.25, \"Steel\"], [3, 0.05, 0.0, 0.05, 0.0, 0.25, \"Steel\"], [3, 0.05, 0.0, 0.05, 0.0, 0.25, \"Steel\"], [3, 0.05, 0.0, 0.05, 0.0, 0.25, \"Steel\"]], \"fill\": \"toself\", \"fillcolor\": \"#525252\", \"hoverinfo\": \"text\", \"hoverlabel\": {\"bgcolor\": \"#525252\"}, \"hoveron\": \"points+fills\", \"hovertemplate\": \"Element Number: 3<br>Left Outer Diameter: 0.05 m<br>Left Inner Diameter: 0.0 m<br>Right Outer Diameter: 0.05 m<br>Right Inner Diameter: 0.0 m<br>Element Length: 0.25 m<br>Material: Steel<br>\", \"legendgroup\": \"Shaft\", \"line\": {\"color\": \"black\", \"width\": 1.5}, \"mode\": \"lines\", \"name\": \"ShaftElement 3\", \"opacity\": 0.5, \"showlegend\": false, \"text\": \"Element Number: 3<br>Left Outer Diameter: 0.05 m<br>Left Inner Diameter: 0.0 m<br>Right Outer Diameter: 0.05 m<br>Right Inner Diameter: 0.0 m<br>Element Length: 0.25 m<br>Material: Steel<br>\", \"type\": \"scatter\", \"x\": [0.75, 0.75, 1.0, 1.0, 0.75, 0.75, 0.75, 1.0, 1.0, 0.75], \"y\": [0.0, 0.025, 0.025, 0.0, 0.0, -0.0, -0.025, -0.025, -0.0, -0.0]}, {\"customdata\": [[4, 0.05, 0.0, 0.05, 0.0, 0.25, \"Steel\"], [4, 0.05, 0.0, 0.05, 0.0, 0.25, \"Steel\"], [4, 0.05, 0.0, 0.05, 0.0, 0.25, \"Steel\"], [4, 0.05, 0.0, 0.05, 0.0, 0.25, \"Steel\"], [4, 0.05, 0.0, 0.05, 0.0, 0.25, \"Steel\"], [4, 0.05, 0.0, 0.05, 0.0, 0.25, \"Steel\"], [4, 0.05, 0.0, 0.05, 0.0, 0.25, \"Steel\"], [4, 0.05, 0.0, 0.05, 0.0, 0.25, \"Steel\"], [4, 0.05, 0.0, 0.05, 0.0, 0.25, \"Steel\"], [4, 0.05, 0.0, 0.05, 0.0, 0.25, \"Steel\"]], \"fill\": \"toself\", \"fillcolor\": \"#525252\", \"hoverinfo\": \"text\", \"hoverlabel\": {\"bgcolor\": \"#525252\"}, \"hoveron\": \"points+fills\", \"hovertemplate\": \"Element Number: 4<br>Left Outer Diameter: 0.05 m<br>Left Inner Diameter: 0.0 m<br>Right Outer Diameter: 0.05 m<br>Right Inner Diameter: 0.0 m<br>Element Length: 0.25 m<br>Material: Steel<br>\", \"legendgroup\": \"Shaft\", \"line\": {\"color\": \"black\", \"width\": 1.5}, \"mode\": \"lines\", \"name\": \"ShaftElement 4\", \"opacity\": 0.5, \"showlegend\": false, \"text\": \"Element Number: 4<br>Left Outer Diameter: 0.05 m<br>Left Inner Diameter: 0.0 m<br>Right Outer Diameter: 0.05 m<br>Right Inner Diameter: 0.0 m<br>Element Length: 0.25 m<br>Material: Steel<br>\", \"type\": \"scatter\", \"x\": [1.0, 1.0, 1.25, 1.25, 1.0, 1.0, 1.0, 1.25, 1.25, 1.0], \"y\": [0.0, 0.025, 0.025, 0.0, 0.0, -0.0, -0.025, -0.025, -0.0, -0.0]}, {\"customdata\": [[5, 0.05, 0.0, 0.05, 0.0, 0.25, \"Steel\"], [5, 0.05, 0.0, 0.05, 0.0, 0.25, \"Steel\"], [5, 0.05, 0.0, 0.05, 0.0, 0.25, \"Steel\"], [5, 0.05, 0.0, 0.05, 0.0, 0.25, \"Steel\"], [5, 0.05, 0.0, 0.05, 0.0, 0.25, \"Steel\"], [5, 0.05, 0.0, 0.05, 0.0, 0.25, \"Steel\"], [5, 0.05, 0.0, 0.05, 0.0, 0.25, \"Steel\"], [5, 0.05, 0.0, 0.05, 0.0, 0.25, \"Steel\"], [5, 0.05, 0.0, 0.05, 0.0, 0.25, \"Steel\"], [5, 0.05, 0.0, 0.05, 0.0, 0.25, \"Steel\"]], \"fill\": \"toself\", \"fillcolor\": \"#525252\", \"hoverinfo\": \"text\", \"hoverlabel\": {\"bgcolor\": \"#525252\"}, \"hoveron\": \"points+fills\", \"hovertemplate\": \"Element Number: 5<br>Left Outer Diameter: 0.05 m<br>Left Inner Diameter: 0.0 m<br>Right Outer Diameter: 0.05 m<br>Right Inner Diameter: 0.0 m<br>Element Length: 0.25 m<br>Material: Steel<br>\", \"legendgroup\": \"Shaft\", \"line\": {\"color\": \"black\", \"width\": 1.5}, \"mode\": \"lines\", \"name\": \"ShaftElement 5\", \"opacity\": 0.5, \"showlegend\": false, \"text\": \"Element Number: 5<br>Left Outer Diameter: 0.05 m<br>Left Inner Diameter: 0.0 m<br>Right Outer Diameter: 0.05 m<br>Right Inner Diameter: 0.0 m<br>Element Length: 0.25 m<br>Material: Steel<br>\", \"type\": \"scatter\", \"x\": [1.25, 1.25, 1.5, 1.5, 1.25, 1.25, 1.25, 1.5, 1.5, 1.25], \"y\": [0.0, 0.025, 0.025, 0.0, 0.0, -0.0, -0.025, -0.025, -0.0, -0.0]}, {\"customdata\": [[2, 0.32956362089137037, 0.17808928257067666, 32.58972765304033], [2, 0.32956362089137037, 0.17808928257067666, 32.58972765304033], [2, 0.32956362089137037, 0.17808928257067666, 32.58972765304033], [2, 0.32956362089137037, 0.17808928257067666, 32.58972765304033], [2, 0.32956362089137037, 0.17808928257067666, 32.58972765304033], [2, 0.32956362089137037, 0.17808928257067666, 32.58972765304033], [2, 0.32956362089137037, 0.17808928257067666, 32.58972765304033], [2, 0.32956362089137037, 0.17808928257067666, 32.58972765304033], [2, 0.32956362089137037, 0.17808928257067666, 32.58972765304033]], \"fill\": \"toself\", \"fillcolor\": \"Firebrick\", \"hoverinfo\": \"text\", \"hoverlabel\": {\"bgcolor\": \"Firebrick\"}, \"hoveron\": \"points+fills\", \"hovertemplate\": \"Disk Node: 2<br>Polar Inertia: 3.296e-01<br>Diametral Inertia: 1.781e-01<br>Disk mass: 32.590<br>\", \"legendgroup\": \"disks\", \"line\": {\"color\": \"Firebrick\", \"width\": 2.0}, \"mode\": \"lines\", \"name\": \"Disk 0\", \"showlegend\": false, \"text\": \"Disk Node: 2<br>Polar Inertia: 3.296e-01<br>Diametral Inertia: 1.781e-01<br>Disk mass: 32.590<br>\", \"type\": \"scatter\", \"x\": [0.5, 0.5083333333333333, 0.49166666666666664, 0.5, null, 0.5, 0.5083333333333333, 0.49166666666666664, 0.5], \"y\": [0.025, 0.125, 0.125, 0.025, null, -0.025, -0.125, -0.125, -0.025]}, {\"customdata\": [[4, 0.8050822048675969, 0.4235805840543383, 51.5252611115262], [4, 0.8050822048675969, 0.4235805840543383, 51.5252611115262], [4, 0.8050822048675969, 0.4235805840543383, 51.5252611115262], [4, 0.8050822048675969, 0.4235805840543383, 51.5252611115262], [4, 0.8050822048675969, 0.4235805840543383, 51.5252611115262], [4, 0.8050822048675969, 0.4235805840543383, 51.5252611115262], [4, 0.8050822048675969, 0.4235805840543383, 51.5252611115262], [4, 0.8050822048675969, 0.4235805840543383, 51.5252611115262], [4, 0.8050822048675969, 0.4235805840543383, 51.5252611115262]], \"fill\": \"toself\", \"fillcolor\": \"Firebrick\", \"hoverinfo\": \"text\", \"hoverlabel\": {\"bgcolor\": \"Firebrick\"}, \"hoveron\": \"points+fills\", \"hovertemplate\": \"Disk Node: 4<br>Polar Inertia: 8.051e-01<br>Diametral Inertia: 4.236e-01<br>Disk mass: 51.525<br>\", \"legendgroup\": \"disks\", \"line\": {\"color\": \"Firebrick\", \"width\": 2.0}, \"mode\": \"lines\", \"name\": \"Disk 1\", \"showlegend\": false, \"text\": \"Disk Node: 4<br>Polar Inertia: 8.051e-01<br>Diametral Inertia: 4.236e-01<br>Disk mass: 51.525<br>\", \"type\": \"scatter\", \"x\": [1.0, 1.0083333333333333, 0.9916666666666667, 1.0, null, 1.0, 1.0083333333333333, 0.9916666666666667, 1.0], \"y\": [0.025, 0.125, 0.125, 0.025, null, -0.025, -0.125, -0.125, -0.025]}, {\"hoverinfo\": \"none\", \"legendgroup\": \"bearings\", \"line\": {\"color\": \"#355d7a\", \"width\": 3.5}, \"mode\": \"lines\", \"name\": \"Bearing 0\", \"showlegend\": false, \"type\": \"scatter\", \"x\": [0.0, 0.0, -0.025, 0.025], \"y\": [0.025, 0.05, 0.05, 0.05]}, {\"hoverinfo\": \"none\", \"legendgroup\": \"bearings\", \"line\": {\"color\": \"#355d7a\", \"width\": 3.5}, \"mode\": \"lines\", \"name\": \"Bearing 0\", \"showlegend\": false, \"type\": \"scatter\", \"x\": [0.0, 0.0, -0.025, 0.025], \"y\": [-0.025, -0.05, -0.05, -0.05]}, {\"hoverinfo\": \"none\", \"legendgroup\": \"bearings\", \"line\": {\"color\": \"#355d7a\", \"width\": 3.5}, \"mode\": \"lines\", \"name\": \"Bearing 0\", \"showlegend\": false, \"type\": \"scatter\", \"x\": [0.0, 0.0, -0.025, 0.025], \"y\": [0.125, 0.1, 0.1, 0.1]}, {\"hoverinfo\": \"none\", \"legendgroup\": \"bearings\", \"line\": {\"color\": \"#355d7a\", \"width\": 3.5}, \"mode\": \"lines\", \"name\": \"Bearing 0\", \"showlegend\": false, \"type\": \"scatter\", \"x\": [0.0, 0.0, -0.025, 0.025], \"y\": [-0.125, -0.1, -0.1, -0.1]}, {\"hoverinfo\": \"none\", \"legendgroup\": \"bearings\", \"line\": {\"color\": \"#355d7a\", \"width\": 3.5}, \"mode\": \"lines\", \"name\": \"Bearing 0\", \"showlegend\": false, \"type\": \"scatter\", \"x\": [-0.03214285714285715, 0.03214285714285715], \"y\": [0.125, 0.125]}, {\"hoverinfo\": \"none\", \"legendgroup\": \"bearings\", \"line\": {\"color\": \"#355d7a\", \"width\": 3.5}, \"mode\": \"lines\", \"name\": \"Bearing 0\", \"showlegend\": false, \"type\": \"scatter\", \"x\": [-0.03214285714285715, 0.03214285714285715], \"y\": [-0.125, -0.125]}, {\"hoverinfo\": \"none\", \"legendgroup\": \"bearings\", \"line\": {\"color\": \"#355d7a\", \"width\": 3.5}, \"mode\": \"lines\", \"name\": \"Bearing 0\", \"showlegend\": false, \"type\": \"scatter\", \"x\": [-0.03214285714285715, -0.019285714285714288], \"y\": [0.125, 0.1375]}, {\"hoverinfo\": \"none\", \"legendgroup\": \"bearings\", \"line\": {\"color\": \"#355d7a\", \"width\": 3.5}, \"mode\": \"lines\", \"name\": \"Bearing 0\", \"showlegend\": false, \"type\": \"scatter\", \"x\": [-0.03214285714285715, -0.019285714285714288], \"y\": [-0.125, -0.1375]}, {\"hoverinfo\": \"none\", \"legendgroup\": \"bearings\", \"line\": {\"color\": \"#355d7a\", \"width\": 3.5}, \"mode\": \"lines\", \"name\": \"Bearing 0\", \"showlegend\": false, \"type\": \"scatter\", \"x\": [-0.019285714285714288, -0.006428571428571429], \"y\": [0.125, 0.1375]}, {\"hoverinfo\": \"none\", \"legendgroup\": \"bearings\", \"line\": {\"color\": \"#355d7a\", \"width\": 3.5}, \"mode\": \"lines\", \"name\": \"Bearing 0\", \"showlegend\": false, \"type\": \"scatter\", \"x\": [-0.019285714285714288, -0.006428571428571429], \"y\": [-0.125, -0.1375]}, {\"hoverinfo\": \"none\", \"legendgroup\": \"bearings\", \"line\": {\"color\": \"#355d7a\", \"width\": 3.5}, \"mode\": \"lines\", \"name\": \"Bearing 0\", \"showlegend\": false, \"type\": \"scatter\", \"x\": [-0.006428571428571429, 0.006428571428571429], \"y\": [0.125, 0.1375]}, {\"hoverinfo\": \"none\", \"legendgroup\": \"bearings\", \"line\": {\"color\": \"#355d7a\", \"width\": 3.5}, \"mode\": \"lines\", \"name\": \"Bearing 0\", \"showlegend\": false, \"type\": \"scatter\", \"x\": [-0.006428571428571429, 0.006428571428571429], \"y\": [-0.125, -0.1375]}, {\"hoverinfo\": \"none\", \"legendgroup\": \"bearings\", \"line\": {\"color\": \"#355d7a\", \"width\": 3.5}, \"mode\": \"lines\", \"name\": \"Bearing 0\", \"showlegend\": false, \"type\": \"scatter\", \"x\": [0.006428571428571429, 0.019285714285714288], \"y\": [0.125, 0.1375]}, {\"hoverinfo\": \"none\", \"legendgroup\": \"bearings\", \"line\": {\"color\": \"#355d7a\", \"width\": 3.5}, \"mode\": \"lines\", \"name\": \"Bearing 0\", \"showlegend\": false, \"type\": \"scatter\", \"x\": [0.006428571428571429, 0.019285714285714288], \"y\": [-0.125, -0.1375]}, {\"hoverinfo\": \"none\", \"legendgroup\": \"bearings\", \"line\": {\"color\": \"#355d7a\", \"width\": 3.5}, \"mode\": \"lines\", \"name\": \"Bearing 0\", \"showlegend\": false, \"type\": \"scatter\", \"x\": [0.019285714285714288, 0.03214285714285715], \"y\": [0.125, 0.1375]}, {\"hoverinfo\": \"none\", \"legendgroup\": \"bearings\", \"line\": {\"color\": \"#355d7a\", \"width\": 3.5}, \"mode\": \"lines\", \"name\": \"Bearing 0\", \"showlegend\": false, \"type\": \"scatter\", \"x\": [0.019285714285714288, 0.03214285714285715], \"y\": [-0.125, -0.1375]}, {\"hoverinfo\": \"none\", \"legendgroup\": \"bearings\", \"line\": {\"color\": \"#355d7a\", \"width\": 3.5}, \"mode\": \"lines\", \"name\": \"Bearing 0\", \"showlegend\": false, \"type\": \"scatter\", \"x\": [0.03214285714285715, 0.045000000000000005], \"y\": [0.125, 0.1375]}, {\"hoverinfo\": \"none\", \"legendgroup\": \"bearings\", \"line\": {\"color\": \"#355d7a\", \"width\": 3.5}, \"mode\": \"lines\", \"name\": \"Bearing 0\", \"showlegend\": false, \"type\": \"scatter\", \"x\": [0.03214285714285715, 0.045000000000000005], \"y\": [-0.125, -0.1375]}, {\"hoverinfo\": \"none\", \"legendgroup\": \"bearings\", \"line\": {\"color\": \"#355d7a\", \"width\": 3.5}, \"mode\": \"lines\", \"name\": \"Bearing 0\", \"showlegend\": false, \"type\": \"scatter\", \"x\": [-0.025, -0.025, -0.03214285714285715, -0.017857142857142856, -0.03214285714285715, -0.017857142857142856, -0.03214285714285715, -0.017857142857142856, -0.025, -0.025], \"y\": [0.05, 0.05714285714285715, 0.05714285714285715, 0.0642857142857143, 0.07142857142857142, 0.07857142857142857, 0.08571428571428572, 0.09285714285714286, 0.09285714285714286, 0.1]}, {\"hoverinfo\": \"none\", \"legendgroup\": \"bearings\", \"line\": {\"color\": \"#355d7a\", \"width\": 3.5}, \"mode\": \"lines\", \"name\": \"Bearing 0\", \"showlegend\": false, \"type\": \"scatter\", \"x\": [-0.025, -0.025, -0.03214285714285715, -0.017857142857142856, -0.03214285714285715, -0.017857142857142856, -0.03214285714285715, -0.017857142857142856, -0.025, -0.025], \"y\": [-0.05, -0.05714285714285715, -0.05714285714285715, -0.0642857142857143, -0.07142857142857142, -0.07857142857142857, -0.08571428571428572, -0.09285714285714286, -0.09285714285714286, -0.1]}, {\"hoverinfo\": \"none\", \"legendgroup\": \"bearings\", \"line\": {\"color\": \"#355d7a\", \"width\": 3.5}, \"mode\": \"lines\", \"name\": \"Bearing 0\", \"showlegend\": false, \"type\": \"scatter\", \"x\": [0.025, 0.025], \"y\": [0.05, 0.0642857142857143]}, {\"hoverinfo\": \"none\", \"legendgroup\": \"bearings\", \"line\": {\"color\": \"#355d7a\", \"width\": 3.5}, \"mode\": \"lines\", \"name\": \"Bearing 0\", \"showlegend\": false, \"type\": \"scatter\", \"x\": [0.025, 0.025], \"y\": [-0.05, -0.0642857142857143]}, {\"hoverinfo\": \"none\", \"legendgroup\": \"bearings\", \"line\": {\"color\": \"#355d7a\", \"width\": 3.5}, \"mode\": \"lines\", \"name\": \"Bearing 0\", \"showlegend\": false, \"type\": \"scatter\", \"x\": [0.010714285714285714, 0.010714285714285714, 0.039285714285714285, 0.039285714285714285], \"y\": [0.08571428571428572, 0.0642857142857143, 0.0642857142857143, 0.08571428571428572]}, {\"hoverinfo\": \"none\", \"legendgroup\": \"bearings\", \"line\": {\"color\": \"#355d7a\", \"width\": 3.5}, \"mode\": \"lines\", \"name\": \"Bearing 0\", \"showlegend\": false, \"type\": \"scatter\", \"x\": [0.010714285714285714, 0.010714285714285714, 0.039285714285714285, 0.039285714285714285], \"y\": [-0.08571428571428572, -0.0642857142857143, -0.0642857142857143, -0.08571428571428572]}, {\"hoverinfo\": \"none\", \"legendgroup\": \"bearings\", \"line\": {\"color\": \"#355d7a\", \"width\": 3.5}, \"mode\": \"lines\", \"name\": \"Bearing 0\", \"showlegend\": false, \"type\": \"scatter\", \"x\": [0.010714285714285714, 0.039285714285714285, 0.025, 0.025], \"y\": [0.07857142857142857, 0.07857142857142857, 0.07857142857142857, 0.1]}, {\"hoverinfo\": \"none\", \"legendgroup\": \"bearings\", \"line\": {\"color\": \"#355d7a\", \"width\": 3.5}, \"mode\": \"lines\", \"name\": \"Bearing 0\", \"showlegend\": false, \"type\": \"scatter\", \"x\": [0.010714285714285714, 0.039285714285714285, 0.025, 0.025], \"y\": [-0.07857142857142857, -0.07857142857142857, -0.07857142857142857, -0.1]}, {\"hoverinfo\": \"none\", \"legendgroup\": \"bearings\", \"line\": {\"color\": \"#355d7a\", \"width\": 3.5}, \"mode\": \"lines\", \"name\": \"Bearing 1\", \"showlegend\": false, \"type\": \"scatter\", \"x\": [1.5, 1.5, 1.475, 1.525], \"y\": [0.025, 0.05, 0.05, 0.05]}, {\"hoverinfo\": \"none\", \"legendgroup\": \"bearings\", \"line\": {\"color\": \"#355d7a\", \"width\": 3.5}, \"mode\": \"lines\", \"name\": \"Bearing 1\", \"showlegend\": false, \"type\": \"scatter\", \"x\": [1.5, 1.5, 1.475, 1.525], \"y\": [-0.025, -0.05, -0.05, -0.05]}, {\"hoverinfo\": \"none\", \"legendgroup\": \"bearings\", \"line\": {\"color\": \"#355d7a\", \"width\": 3.5}, \"mode\": \"lines\", \"name\": \"Bearing 1\", \"showlegend\": false, \"type\": \"scatter\", \"x\": [1.5, 1.5, 1.475, 1.525], \"y\": [0.125, 0.1, 0.1, 0.1]}, {\"hoverinfo\": \"none\", \"legendgroup\": \"bearings\", \"line\": {\"color\": \"#355d7a\", \"width\": 3.5}, \"mode\": \"lines\", \"name\": \"Bearing 1\", \"showlegend\": false, \"type\": \"scatter\", \"x\": [1.5, 1.5, 1.475, 1.525], \"y\": [-0.125, -0.1, -0.1, -0.1]}, {\"hoverinfo\": \"none\", \"legendgroup\": \"bearings\", \"line\": {\"color\": \"#355d7a\", \"width\": 3.5}, \"mode\": \"lines\", \"name\": \"Bearing 1\", \"showlegend\": false, \"type\": \"scatter\", \"x\": [1.467857142857143, 1.532142857142857], \"y\": [0.125, 0.125]}, {\"hoverinfo\": \"none\", \"legendgroup\": \"bearings\", \"line\": {\"color\": \"#355d7a\", \"width\": 3.5}, \"mode\": \"lines\", \"name\": \"Bearing 1\", \"showlegend\": false, \"type\": \"scatter\", \"x\": [1.467857142857143, 1.532142857142857], \"y\": [-0.125, -0.125]}, {\"hoverinfo\": \"none\", \"legendgroup\": \"bearings\", \"line\": {\"color\": \"#355d7a\", \"width\": 3.5}, \"mode\": \"lines\", \"name\": \"Bearing 1\", \"showlegend\": false, \"type\": \"scatter\", \"x\": [1.467857142857143, 1.4807142857142859], \"y\": [0.125, 0.1375]}, {\"hoverinfo\": \"none\", \"legendgroup\": \"bearings\", \"line\": {\"color\": \"#355d7a\", \"width\": 3.5}, \"mode\": \"lines\", \"name\": \"Bearing 1\", \"showlegend\": false, \"type\": \"scatter\", \"x\": [1.467857142857143, 1.4807142857142859], \"y\": [-0.125, -0.1375]}, {\"hoverinfo\": \"none\", \"legendgroup\": \"bearings\", \"line\": {\"color\": \"#355d7a\", \"width\": 3.5}, \"mode\": \"lines\", \"name\": \"Bearing 1\", \"showlegend\": false, \"type\": \"scatter\", \"x\": [1.4807142857142859, 1.4935714285714285], \"y\": [0.125, 0.1375]}, {\"hoverinfo\": \"none\", \"legendgroup\": \"bearings\", \"line\": {\"color\": \"#355d7a\", \"width\": 3.5}, \"mode\": \"lines\", \"name\": \"Bearing 1\", \"showlegend\": false, \"type\": \"scatter\", \"x\": [1.4807142857142859, 1.4935714285714285], \"y\": [-0.125, -0.1375]}, {\"hoverinfo\": \"none\", \"legendgroup\": \"bearings\", \"line\": {\"color\": \"#355d7a\", \"width\": 3.5}, \"mode\": \"lines\", \"name\": \"Bearing 1\", \"showlegend\": false, \"type\": \"scatter\", \"x\": [1.4935714285714285, 1.5064285714285715], \"y\": [0.125, 0.1375]}, {\"hoverinfo\": \"none\", \"legendgroup\": \"bearings\", \"line\": {\"color\": \"#355d7a\", \"width\": 3.5}, \"mode\": \"lines\", \"name\": \"Bearing 1\", \"showlegend\": false, \"type\": \"scatter\", \"x\": [1.4935714285714285, 1.5064285714285715], \"y\": [-0.125, -0.1375]}, {\"hoverinfo\": \"none\", \"legendgroup\": \"bearings\", \"line\": {\"color\": \"#355d7a\", \"width\": 3.5}, \"mode\": \"lines\", \"name\": \"Bearing 1\", \"showlegend\": false, \"type\": \"scatter\", \"x\": [1.5064285714285715, 1.5192857142857141], \"y\": [0.125, 0.1375]}, {\"hoverinfo\": \"none\", \"legendgroup\": \"bearings\", \"line\": {\"color\": \"#355d7a\", \"width\": 3.5}, \"mode\": \"lines\", \"name\": \"Bearing 1\", \"showlegend\": false, \"type\": \"scatter\", \"x\": [1.5064285714285715, 1.5192857142857141], \"y\": [-0.125, -0.1375]}, {\"hoverinfo\": \"none\", \"legendgroup\": \"bearings\", \"line\": {\"color\": \"#355d7a\", \"width\": 3.5}, \"mode\": \"lines\", \"name\": \"Bearing 1\", \"showlegend\": false, \"type\": \"scatter\", \"x\": [1.5192857142857141, 1.532142857142857], \"y\": [0.125, 0.1375]}, {\"hoverinfo\": \"none\", \"legendgroup\": \"bearings\", \"line\": {\"color\": \"#355d7a\", \"width\": 3.5}, \"mode\": \"lines\", \"name\": \"Bearing 1\", \"showlegend\": false, \"type\": \"scatter\", \"x\": [1.5192857142857141, 1.532142857142857], \"y\": [-0.125, -0.1375]}, {\"hoverinfo\": \"none\", \"legendgroup\": \"bearings\", \"line\": {\"color\": \"#355d7a\", \"width\": 3.5}, \"mode\": \"lines\", \"name\": \"Bearing 1\", \"showlegend\": false, \"type\": \"scatter\", \"x\": [1.532142857142857, 1.545], \"y\": [0.125, 0.1375]}, {\"hoverinfo\": \"none\", \"legendgroup\": \"bearings\", \"line\": {\"color\": \"#355d7a\", \"width\": 3.5}, \"mode\": \"lines\", \"name\": \"Bearing 1\", \"showlegend\": false, \"type\": \"scatter\", \"x\": [1.532142857142857, 1.545], \"y\": [-0.125, -0.1375]}, {\"hoverinfo\": \"none\", \"legendgroup\": \"bearings\", \"line\": {\"color\": \"#355d7a\", \"width\": 3.5}, \"mode\": \"lines\", \"name\": \"Bearing 1\", \"showlegend\": false, \"type\": \"scatter\", \"x\": [1.475, 1.475, 1.467857142857143, 1.4821428571428572, 1.467857142857143, 1.4821428571428572, 1.467857142857143, 1.4821428571428572, 1.475, 1.475], \"y\": [0.05, 0.05714285714285715, 0.05714285714285715, 0.0642857142857143, 0.07142857142857142, 0.07857142857142857, 0.08571428571428572, 0.09285714285714286, 0.09285714285714286, 0.1]}, {\"hoverinfo\": \"none\", \"legendgroup\": \"bearings\", \"line\": {\"color\": \"#355d7a\", \"width\": 3.5}, \"mode\": \"lines\", \"name\": \"Bearing 1\", \"showlegend\": false, \"type\": \"scatter\", \"x\": [1.475, 1.475, 1.467857142857143, 1.4821428571428572, 1.467857142857143, 1.4821428571428572, 1.467857142857143, 1.4821428571428572, 1.475, 1.475], \"y\": [-0.05, -0.05714285714285715, -0.05714285714285715, -0.0642857142857143, -0.07142857142857142, -0.07857142857142857, -0.08571428571428572, -0.09285714285714286, -0.09285714285714286, -0.1]}, {\"hoverinfo\": \"none\", \"legendgroup\": \"bearings\", \"line\": {\"color\": \"#355d7a\", \"width\": 3.5}, \"mode\": \"lines\", \"name\": \"Bearing 1\", \"showlegend\": false, \"type\": \"scatter\", \"x\": [1.525, 1.525], \"y\": [0.05, 0.0642857142857143]}, {\"hoverinfo\": \"none\", \"legendgroup\": \"bearings\", \"line\": {\"color\": \"#355d7a\", \"width\": 3.5}, \"mode\": \"lines\", \"name\": \"Bearing 1\", \"showlegend\": false, \"type\": \"scatter\", \"x\": [1.525, 1.525], \"y\": [-0.05, -0.0642857142857143]}, {\"hoverinfo\": \"none\", \"legendgroup\": \"bearings\", \"line\": {\"color\": \"#355d7a\", \"width\": 3.5}, \"mode\": \"lines\", \"name\": \"Bearing 1\", \"showlegend\": false, \"type\": \"scatter\", \"x\": [1.5107142857142857, 1.5107142857142857, 1.5392857142857141, 1.5392857142857141], \"y\": [0.08571428571428572, 0.0642857142857143, 0.0642857142857143, 0.08571428571428572]}, {\"hoverinfo\": \"none\", \"legendgroup\": \"bearings\", \"line\": {\"color\": \"#355d7a\", \"width\": 3.5}, \"mode\": \"lines\", \"name\": \"Bearing 1\", \"showlegend\": false, \"type\": \"scatter\", \"x\": [1.5107142857142857, 1.5107142857142857, 1.5392857142857141, 1.5392857142857141], \"y\": [-0.08571428571428572, -0.0642857142857143, -0.0642857142857143, -0.08571428571428572]}, {\"hoverinfo\": \"none\", \"legendgroup\": \"bearings\", \"line\": {\"color\": \"#355d7a\", \"width\": 3.5}, \"mode\": \"lines\", \"name\": \"Bearing 1\", \"showlegend\": false, \"type\": \"scatter\", \"x\": [1.5107142857142857, 1.5392857142857141, 1.525, 1.525], \"y\": [0.07857142857142857, 0.07857142857142857, 0.07857142857142857, 0.1]}, {\"hoverinfo\": \"none\", \"legendgroup\": \"bearings\", \"line\": {\"color\": \"#355d7a\", \"width\": 3.5}, \"mode\": \"lines\", \"name\": \"Bearing 1\", \"showlegend\": false, \"type\": \"scatter\", \"x\": [1.5107142857142857, 1.5392857142857141, 1.525, 1.525], \"y\": [-0.07857142857142857, -0.07857142857142857, -0.07857142857142857, -0.1]}],\n",
       "                        {\"shapes\": [{\"fillcolor\": \"Firebrick\", \"line\": {\"color\": \"Firebrick\"}, \"type\": \"circle\", \"x0\": 0.5083333333333333, \"x1\": 0.49166666666666664, \"xref\": \"x\", \"y0\": 0.11666666666666667, \"y1\": 0.13333333333333333, \"yref\": \"y\"}, {\"fillcolor\": \"Firebrick\", \"line\": {\"color\": \"Firebrick\"}, \"type\": \"circle\", \"x0\": 0.5083333333333333, \"x1\": 0.49166666666666664, \"xref\": \"x\", \"y0\": -0.11666666666666667, \"y1\": -0.13333333333333333, \"yref\": \"y\"}, {\"fillcolor\": \"Firebrick\", \"line\": {\"color\": \"Firebrick\"}, \"type\": \"circle\", \"x0\": 1.0083333333333333, \"x1\": 0.9916666666666667, \"xref\": \"x\", \"y0\": 0.11666666666666667, \"y1\": 0.13333333333333333, \"yref\": \"y\"}, {\"fillcolor\": \"Firebrick\", \"line\": {\"color\": \"Firebrick\"}, \"type\": \"circle\", \"x0\": 1.0083333333333333, \"x1\": 0.9916666666666667, \"xref\": \"x\", \"y0\": -0.11666666666666667, \"y1\": -0.13333333333333333, \"yref\": \"y\"}], \"template\": {\"data\": {\"bar\": [{\"error_x\": {\"color\": \"#2a3f5f\"}, \"error_y\": {\"color\": \"#2a3f5f\"}, \"marker\": {\"line\": {\"color\": \"white\", \"width\": 0.5}}, \"type\": \"bar\"}], \"barpolar\": [{\"marker\": {\"line\": {\"color\": \"white\", \"width\": 0.5}}, \"type\": \"barpolar\"}], \"carpet\": [{\"aaxis\": {\"endlinecolor\": \"#2a3f5f\", \"gridcolor\": \"#C8D4E3\", \"linecolor\": \"#C8D4E3\", \"minorgridcolor\": \"#C8D4E3\", \"startlinecolor\": \"#2a3f5f\"}, \"baxis\": {\"endlinecolor\": \"#2a3f5f\", \"gridcolor\": \"#C8D4E3\", \"linecolor\": \"#C8D4E3\", \"minorgridcolor\": \"#C8D4E3\", \"startlinecolor\": \"#2a3f5f\"}, \"type\": \"carpet\"}], \"choropleth\": [{\"colorbar\": {\"outlinewidth\": 0, \"ticks\": \"\"}, \"type\": \"choropleth\"}], \"contour\": [{\"colorbar\": {\"outlinewidth\": 0, \"ticks\": \"\"}, \"colorscale\": [[0.0, \"#0d0887\"], [0.1111111111111111, \"#46039f\"], [0.2222222222222222, \"#7201a8\"], [0.3333333333333333, \"#9c179e\"], [0.4444444444444444, \"#bd3786\"], [0.5555555555555556, \"#d8576b\"], [0.6666666666666666, \"#ed7953\"], [0.7777777777777778, \"#fb9f3a\"], [0.8888888888888888, \"#fdca26\"], [1.0, \"#f0f921\"]], \"type\": \"contour\"}], \"contourcarpet\": [{\"colorbar\": {\"outlinewidth\": 0, \"ticks\": \"\"}, \"type\": \"contourcarpet\"}], \"heatmap\": [{\"colorbar\": {\"outlinewidth\": 0, \"ticks\": \"\"}, \"colorscale\": [[0.0, \"#0d0887\"], [0.1111111111111111, \"#46039f\"], [0.2222222222222222, \"#7201a8\"], [0.3333333333333333, \"#9c179e\"], [0.4444444444444444, \"#bd3786\"], [0.5555555555555556, \"#d8576b\"], [0.6666666666666666, \"#ed7953\"], [0.7777777777777778, \"#fb9f3a\"], [0.8888888888888888, \"#fdca26\"], [1.0, \"#f0f921\"]], \"type\": \"heatmap\"}], \"heatmapgl\": [{\"colorbar\": {\"outlinewidth\": 0, \"ticks\": \"\"}, \"colorscale\": [[0.0, \"#0d0887\"], [0.1111111111111111, \"#46039f\"], [0.2222222222222222, \"#7201a8\"], [0.3333333333333333, \"#9c179e\"], [0.4444444444444444, \"#bd3786\"], [0.5555555555555556, \"#d8576b\"], [0.6666666666666666, \"#ed7953\"], [0.7777777777777778, \"#fb9f3a\"], [0.8888888888888888, \"#fdca26\"], [1.0, \"#f0f921\"]], \"type\": \"heatmapgl\"}], \"histogram\": [{\"marker\": {\"colorbar\": {\"outlinewidth\": 0, \"ticks\": \"\"}}, \"type\": \"histogram\"}], \"histogram2d\": [{\"colorbar\": {\"outlinewidth\": 0, \"ticks\": \"\"}, \"colorscale\": [[0.0, \"#0d0887\"], [0.1111111111111111, \"#46039f\"], [0.2222222222222222, \"#7201a8\"], [0.3333333333333333, \"#9c179e\"], [0.4444444444444444, \"#bd3786\"], [0.5555555555555556, \"#d8576b\"], [0.6666666666666666, \"#ed7953\"], [0.7777777777777778, \"#fb9f3a\"], [0.8888888888888888, \"#fdca26\"], [1.0, \"#f0f921\"]], \"type\": \"histogram2d\"}], \"histogram2dcontour\": [{\"colorbar\": {\"outlinewidth\": 0, \"ticks\": \"\"}, \"colorscale\": [[0.0, \"#0d0887\"], [0.1111111111111111, \"#46039f\"], [0.2222222222222222, \"#7201a8\"], [0.3333333333333333, \"#9c179e\"], [0.4444444444444444, \"#bd3786\"], [0.5555555555555556, \"#d8576b\"], [0.6666666666666666, \"#ed7953\"], [0.7777777777777778, \"#fb9f3a\"], [0.8888888888888888, \"#fdca26\"], [1.0, \"#f0f921\"]], \"type\": \"histogram2dcontour\"}], \"mesh3d\": [{\"colorbar\": {\"outlinewidth\": 0, \"ticks\": \"\"}, \"type\": \"mesh3d\"}], \"parcoords\": [{\"line\": {\"colorbar\": {\"outlinewidth\": 0, \"ticks\": \"\"}}, \"type\": \"parcoords\"}], \"pie\": [{\"automargin\": true, \"type\": \"pie\"}], \"scatter\": [{\"marker\": {\"colorbar\": {\"outlinewidth\": 0, \"ticks\": \"\"}}, \"type\": \"scatter\"}], \"scatter3d\": [{\"line\": {\"colorbar\": {\"outlinewidth\": 0, \"ticks\": \"\"}}, \"marker\": {\"colorbar\": {\"outlinewidth\": 0, \"ticks\": \"\"}}, \"type\": \"scatter3d\"}], \"scattercarpet\": [{\"marker\": {\"colorbar\": {\"outlinewidth\": 0, \"ticks\": \"\"}}, \"type\": \"scattercarpet\"}], \"scattergeo\": [{\"marker\": {\"colorbar\": {\"outlinewidth\": 0, \"ticks\": \"\"}}, \"type\": \"scattergeo\"}], \"scattergl\": [{\"marker\": {\"colorbar\": {\"outlinewidth\": 0, \"ticks\": \"\"}}, \"type\": \"scattergl\"}], \"scattermapbox\": [{\"marker\": {\"colorbar\": {\"outlinewidth\": 0, \"ticks\": \"\"}}, \"type\": \"scattermapbox\"}], \"scatterpolar\": [{\"marker\": {\"colorbar\": {\"outlinewidth\": 0, \"ticks\": \"\"}}, \"type\": \"scatterpolar\"}], \"scatterpolargl\": [{\"marker\": {\"colorbar\": {\"outlinewidth\": 0, \"ticks\": \"\"}}, \"type\": \"scatterpolargl\"}], \"scatterternary\": [{\"marker\": {\"colorbar\": {\"outlinewidth\": 0, \"ticks\": \"\"}}, \"type\": \"scatterternary\"}], \"surface\": [{\"colorbar\": {\"outlinewidth\": 0, \"ticks\": \"\"}, \"colorscale\": [[0.0, \"#0d0887\"], [0.1111111111111111, \"#46039f\"], [0.2222222222222222, \"#7201a8\"], [0.3333333333333333, \"#9c179e\"], [0.4444444444444444, \"#bd3786\"], [0.5555555555555556, \"#d8576b\"], [0.6666666666666666, \"#ed7953\"], [0.7777777777777778, \"#fb9f3a\"], [0.8888888888888888, \"#fdca26\"], [1.0, \"#f0f921\"]], \"type\": \"surface\"}], \"table\": [{\"cells\": {\"fill\": {\"color\": \"#EBF0F8\"}, \"line\": {\"color\": \"white\"}}, \"header\": {\"fill\": {\"color\": \"#C8D4E3\"}, \"line\": {\"color\": \"white\"}}, \"type\": \"table\"}]}, \"layout\": {\"annotationdefaults\": {\"arrowcolor\": \"#2a3f5f\", \"arrowhead\": 0, \"arrowwidth\": 1}, \"coloraxis\": {\"colorbar\": {\"outlinewidth\": 0, \"ticks\": \"\"}}, \"colorscale\": {\"diverging\": [[0, \"#8e0152\"], [0.1, \"#c51b7d\"], [0.2, \"#de77ae\"], [0.3, \"#f1b6da\"], [0.4, \"#fde0ef\"], [0.5, \"#f7f7f7\"], [0.6, \"#e6f5d0\"], [0.7, \"#b8e186\"], [0.8, \"#7fbc41\"], [0.9, \"#4d9221\"], [1, \"#276419\"]], \"sequential\": [[0.0, \"#0d0887\"], [0.1111111111111111, \"#46039f\"], [0.2222222222222222, \"#7201a8\"], [0.3333333333333333, \"#9c179e\"], [0.4444444444444444, \"#bd3786\"], [0.5555555555555556, \"#d8576b\"], [0.6666666666666666, \"#ed7953\"], [0.7777777777777778, \"#fb9f3a\"], [0.8888888888888888, \"#fdca26\"], [1.0, \"#f0f921\"]], \"sequentialminus\": [[0.0, \"#0d0887\"], [0.1111111111111111, \"#46039f\"], [0.2222222222222222, \"#7201a8\"], [0.3333333333333333, \"#9c179e\"], [0.4444444444444444, \"#bd3786\"], [0.5555555555555556, \"#d8576b\"], [0.6666666666666666, \"#ed7953\"], [0.7777777777777778, \"#fb9f3a\"], [0.8888888888888888, \"#fdca26\"], [1.0, \"#f0f921\"]]}, \"colorway\": [\"#1f77b4\", \"#ff7f0e\", \"#2ca02c\", \"#d62728\", \"#9467bd\", \"#8c564b\", \"#e377c2\", \"#7f7f7f\", \"#bcbd22\", \"#17becf\"], \"font\": {\"color\": \"#2a3f5f\"}, \"geo\": {\"bgcolor\": \"white\", \"lakecolor\": \"white\", \"landcolor\": \"white\", \"showlakes\": true, \"showland\": true, \"subunitcolor\": \"#C8D4E3\"}, \"hoverlabel\": {\"align\": \"left\"}, \"hovermode\": \"closest\", \"mapbox\": {\"style\": \"light\"}, \"paper_bgcolor\": \"white\", \"plot_bgcolor\": \"white\", \"polar\": {\"angularaxis\": {\"gridcolor\": \"#EBF0F8\", \"linecolor\": \"#EBF0F8\", \"ticks\": \"\"}, \"bgcolor\": \"white\", \"radialaxis\": {\"gridcolor\": \"#EBF0F8\", \"linecolor\": \"#EBF0F8\", \"ticks\": \"\"}}, \"scene\": {\"camera\": {\"center\": {\"x\": 0, \"y\": 0, \"z\": 0}, \"eye\": {\"x\": 2.0, \"y\": 2.0, \"z\": 2.0}, \"up\": {\"x\": 0, \"y\": 0, \"z\": 1}}, \"xaxis\": {\"backgroundcolor\": \"white\", \"gridcolor\": \"#DFE8F3\", \"gridwidth\": 2, \"linecolor\": \"#EBF0F8\", \"showbackground\": true, \"showspikes\": false, \"ticks\": \"\", \"zerolinecolor\": \"#EBF0F8\"}, \"yaxis\": {\"backgroundcolor\": \"white\", \"gridcolor\": \"#DFE8F3\", \"gridwidth\": 2, \"linecolor\": \"#EBF0F8\", \"showbackground\": true, \"showspikes\": false, \"ticks\": \"\", \"zerolinecolor\": \"#EBF0F8\"}, \"zaxis\": {\"backgroundcolor\": \"white\", \"gridcolor\": \"#DFE8F3\", \"gridwidth\": 2, \"linecolor\": \"#EBF0F8\", \"showbackground\": true, \"showspikes\": false, \"ticks\": \"\", \"zerolinecolor\": \"#EBF0F8\"}}, \"shapedefaults\": {\"line\": {\"color\": \"#2a3f5f\"}}, \"ternary\": {\"aaxis\": {\"gridcolor\": \"#DFE8F3\", \"linecolor\": \"#A2B1C6\", \"ticks\": \"\"}, \"baxis\": {\"gridcolor\": \"#DFE8F3\", \"linecolor\": \"#A2B1C6\", \"ticks\": \"\"}, \"bgcolor\": \"white\", \"caxis\": {\"gridcolor\": \"#DFE8F3\", \"linecolor\": \"#A2B1C6\", \"ticks\": \"\"}}, \"title\": {\"x\": 0.05}, \"xaxis\": {\"automargin\": true, \"gridcolor\": \"#EBF0F8\", \"linecolor\": \"black\", \"linewidth\": 2.0, \"mirror\": true, \"showline\": true, \"ticks\": \"\", \"title\": {\"standoff\": 15}, \"zeroline\": false, \"zerolinecolor\": \"#EBF0F8\", \"zerolinewidth\": 2}, \"yaxis\": {\"automargin\": true, \"gridcolor\": \"#EBF0F8\", \"linecolor\": \"black\", \"linewidth\": 2.0, \"mirror\": true, \"showline\": true, \"ticks\": \"\", \"title\": {\"standoff\": 15}, \"zeroline\": false, \"zerolinecolor\": \"#EBF0F8\", \"zerolinewidth\": 2}}}, \"title\": {\"text\": \"Rotor Model\"}, \"xaxis\": {\"mirror\": true, \"range\": [-0.15000000000000002, 1.6500000000000001], \"showgrid\": false, \"title\": {\"text\": \"Axial location (m)\"}}, \"yaxis\": {\"mirror\": true, \"range\": [-0.44999999999999996, 0.44999999999999996], \"showgrid\": false, \"title\": {\"text\": \"Shaft radius (m)\"}}},\n",
       "                        {\"responsive\": true}\n",
       "                    ).then(function(){\n",
       "                            \n",
       "var gd = document.getElementById('278065bd-9a02-4267-bc05-cc87b30c78a0');\n",
       "var x = new MutationObserver(function (mutations, observer) {{\n",
       "        var display = window.getComputedStyle(gd).display;\n",
       "        if (!display || display === 'none') {{\n",
       "            console.log([gd, 'removed!']);\n",
       "            Plotly.purge(gd);\n",
       "            observer.disconnect();\n",
       "        }}\n",
       "}});\n",
       "\n",
       "// Listen for the removal of the full notebook cells\n",
       "var notebookContainer = gd.closest('#notebook-container');\n",
       "if (notebookContainer) {{\n",
       "    x.observe(notebookContainer, {childList: true});\n",
       "}}\n",
       "\n",
       "// Listen for the clearing of the current output cell\n",
       "var outputEl = gd.closest('.output');\n",
       "if (outputEl) {{\n",
       "    x.observe(outputEl, {childList: true});\n",
       "}}\n",
       "\n",
       "                        })\n",
       "                };\n",
       "                });\n",
       "            </script>\n",
       "        </div>"
      ]
     },
     "metadata": {},
     "output_type": "display_data"
    }
   ],
   "source": [
    "#Classic Instantiation of the rotor\n",
    "shaft_elements = []\n",
    "bearing_seal_elements = []\n",
    "disk_elements = []\n",
    "steel = rs.steel\n",
    "for i in range(6):\n",
    "    shaft_elements.append(rs.ShaftElement(L=0.25, material=steel, n=i, idl=0, odl=0.05))\n",
    "\n",
    "disk_elements.append(rs.DiskElement.from_geometry(n=2,\n",
    "                                                  material=steel, \n",
    "                                                  width=0.07,\n",
    "                                                  i_d=0.05, \n",
    "                                                  o_d=0.28\n",
    "                                                 )\n",
    "                    )\n",
    "\n",
    "disk_elements.append(rs.DiskElement.from_geometry(n=4,\n",
    "                                                  material=steel, \n",
    "                                                  width=0.07,\n",
    "                                                  i_d=0.05, \n",
    "                                                  o_d=0.35\n",
    "                                                 )\n",
    "                    )\n",
    "bearing_seal_elements.append(rs.BearingElement(n=0, kxx=1e6, kyy=1e6, cxx=3e3, cyy=3e3))\n",
    "bearing_seal_elements.append(rs.BearingElement(n=6, kxx=1e6, kyy=1e6, cxx=3e3, cyy=3e3))\n",
    "\n",
    "rotor595c = rs.Rotor(shaft_elements=shaft_elements,\n",
    "                     bearing_elements=bearing_seal_elements,\n",
    "                     disk_elements=disk_elements)\n",
    "\n",
    "rotor595c.plot_rotor()"
   ]
  },
  {
   "cell_type": "code",
   "execution_count": 3,
   "metadata": {},
   "outputs": [
    {
     "data": {
      "application/vnd.plotly.v1+json": {
       "config": {
        "plotlyServerURL": "https://plot.ly"
       },
       "data": [
        {
         "hoverinfo": "none",
         "line": {
          "color": "black",
          "dash": "dashdot",
          "width": 3
         },
         "mode": "lines",
         "opacity": 0.7,
         "showlegend": false,
         "type": "scatter",
         "x": [
          -0.30000000000000004,
          1.7999999999999998
         ],
         "y": [
          0,
          0
         ]
        },
        {
         "hoverinfo": "none",
         "marker": {
          "color": "#ffcc99",
          "line": {
           "color": "black",
           "width": 1
          },
          "opacity": 0.7,
          "size": 20
         },
         "mode": "markers+text",
         "showlegend": false,
         "text": [
          "0",
          "1",
          "2",
          "3"
         ],
         "type": "scatter",
         "x": [
          0,
          0.5,
          1,
          1.5
         ],
         "y": [
          0,
          0,
          0,
          0
         ]
        },
        {
         "customdata": [
          [
           0,
           0.05,
           0,
           0.05,
           0,
           0.5,
           "Steel"
          ],
          [
           0,
           0.05,
           0,
           0.05,
           0,
           0.5,
           "Steel"
          ],
          [
           0,
           0.05,
           0,
           0.05,
           0,
           0.5,
           "Steel"
          ],
          [
           0,
           0.05,
           0,
           0.05,
           0,
           0.5,
           "Steel"
          ],
          [
           0,
           0.05,
           0,
           0.05,
           0,
           0.5,
           "Steel"
          ],
          [
           0,
           0.05,
           0,
           0.05,
           0,
           0.5,
           "Steel"
          ],
          [
           0,
           0.05,
           0,
           0.05,
           0,
           0.5,
           "Steel"
          ],
          [
           0,
           0.05,
           0,
           0.05,
           0,
           0.5,
           "Steel"
          ],
          [
           0,
           0.05,
           0,
           0.05,
           0,
           0.5,
           "Steel"
          ],
          [
           0,
           0.05,
           0,
           0.05,
           0,
           0.5,
           "Steel"
          ]
         ],
         "fill": "toself",
         "fillcolor": "#525252",
         "hoverinfo": "text",
         "hoverlabel": {
          "bgcolor": "#525252"
         },
         "hoveron": "points+fills",
         "hovertemplate": "Element Number: 0<br>Left Outer Diameter: 0.05 m<br>Left Inner Diameter: 0.0 m<br>Right Outer Diameter: 0.05 m<br>Right Inner Diameter: 0.0 m<br>Element Length: 0.5 m<br>Material: Steel<br>",
         "legendgroup": "Shaft",
         "line": {
          "color": "black",
          "width": 1.5
         },
         "mode": "lines",
         "name": "ShaftElement 0",
         "opacity": 0.5,
         "showlegend": false,
         "text": "Element Number: 0<br>Left Outer Diameter: 0.05 m<br>Left Inner Diameter: 0.0 m<br>Right Outer Diameter: 0.05 m<br>Right Inner Diameter: 0.0 m<br>Element Length: 0.5 m<br>Material: Steel<br>",
         "type": "scatter",
         "x": [
          0,
          0,
          0.5,
          0.5,
          0,
          0,
          0,
          0.5,
          0.5,
          0
         ],
         "y": [
          0,
          0.025,
          0.025,
          0,
          0,
          0,
          -0.025,
          -0.025,
          0,
          0
         ]
        },
        {
         "customdata": [
          [
           1,
           0.05,
           0,
           0.05,
           0,
           0.5,
           "Steel"
          ],
          [
           1,
           0.05,
           0,
           0.05,
           0,
           0.5,
           "Steel"
          ],
          [
           1,
           0.05,
           0,
           0.05,
           0,
           0.5,
           "Steel"
          ],
          [
           1,
           0.05,
           0,
           0.05,
           0,
           0.5,
           "Steel"
          ],
          [
           1,
           0.05,
           0,
           0.05,
           0,
           0.5,
           "Steel"
          ],
          [
           1,
           0.05,
           0,
           0.05,
           0,
           0.5,
           "Steel"
          ],
          [
           1,
           0.05,
           0,
           0.05,
           0,
           0.5,
           "Steel"
          ],
          [
           1,
           0.05,
           0,
           0.05,
           0,
           0.5,
           "Steel"
          ],
          [
           1,
           0.05,
           0,
           0.05,
           0,
           0.5,
           "Steel"
          ],
          [
           1,
           0.05,
           0,
           0.05,
           0,
           0.5,
           "Steel"
          ]
         ],
         "fill": "toself",
         "fillcolor": "#525252",
         "hoverinfo": "text",
         "hoverlabel": {
          "bgcolor": "#525252"
         },
         "hoveron": "points+fills",
         "hovertemplate": "Element Number: 1<br>Left Outer Diameter: 0.05 m<br>Left Inner Diameter: 0.0 m<br>Right Outer Diameter: 0.05 m<br>Right Inner Diameter: 0.0 m<br>Element Length: 0.5 m<br>Material: Steel<br>",
         "legendgroup": "Shaft",
         "line": {
          "color": "black",
          "width": 1.5
         },
         "mode": "lines",
         "name": "ShaftElement 1",
         "opacity": 0.5,
         "showlegend": false,
         "text": "Element Number: 1<br>Left Outer Diameter: 0.05 m<br>Left Inner Diameter: 0.0 m<br>Right Outer Diameter: 0.05 m<br>Right Inner Diameter: 0.0 m<br>Element Length: 0.5 m<br>Material: Steel<br>",
         "type": "scatter",
         "x": [
          0.5,
          0.5,
          1,
          1,
          0.5,
          0.5,
          0.5,
          1,
          1,
          0.5
         ],
         "y": [
          0,
          0.025,
          0.025,
          0,
          0,
          0,
          -0.025,
          -0.025,
          0,
          0
         ]
        },
        {
         "customdata": [
          [
           2,
           0.05,
           0,
           0.05,
           0,
           0.5,
           "Steel"
          ],
          [
           2,
           0.05,
           0,
           0.05,
           0,
           0.5,
           "Steel"
          ],
          [
           2,
           0.05,
           0,
           0.05,
           0,
           0.5,
           "Steel"
          ],
          [
           2,
           0.05,
           0,
           0.05,
           0,
           0.5,
           "Steel"
          ],
          [
           2,
           0.05,
           0,
           0.05,
           0,
           0.5,
           "Steel"
          ],
          [
           2,
           0.05,
           0,
           0.05,
           0,
           0.5,
           "Steel"
          ],
          [
           2,
           0.05,
           0,
           0.05,
           0,
           0.5,
           "Steel"
          ],
          [
           2,
           0.05,
           0,
           0.05,
           0,
           0.5,
           "Steel"
          ],
          [
           2,
           0.05,
           0,
           0.05,
           0,
           0.5,
           "Steel"
          ],
          [
           2,
           0.05,
           0,
           0.05,
           0,
           0.5,
           "Steel"
          ]
         ],
         "fill": "toself",
         "fillcolor": "#525252",
         "hoverinfo": "text",
         "hoverlabel": {
          "bgcolor": "#525252"
         },
         "hoveron": "points+fills",
         "hovertemplate": "Element Number: 2<br>Left Outer Diameter: 0.05 m<br>Left Inner Diameter: 0.0 m<br>Right Outer Diameter: 0.05 m<br>Right Inner Diameter: 0.0 m<br>Element Length: 0.5 m<br>Material: Steel<br>",
         "legendgroup": "Shaft",
         "line": {
          "color": "black",
          "width": 1.5
         },
         "mode": "lines",
         "name": "ShaftElement 2",
         "opacity": 0.5,
         "showlegend": false,
         "text": "Element Number: 2<br>Left Outer Diameter: 0.05 m<br>Left Inner Diameter: 0.0 m<br>Right Outer Diameter: 0.05 m<br>Right Inner Diameter: 0.0 m<br>Element Length: 0.5 m<br>Material: Steel<br>",
         "type": "scatter",
         "x": [
          1,
          1,
          1.5,
          1.5,
          1,
          1,
          1,
          1.5,
          1.5,
          1
         ],
         "y": [
          0,
          0.025,
          0.025,
          0,
          0,
          0,
          -0.025,
          -0.025,
          0,
          0
         ]
        },
        {
         "customdata": [
          [
           1,
           0.32956362089137037,
           0.17808928257067666,
           32.58972765304033
          ],
          [
           1,
           0.32956362089137037,
           0.17808928257067666,
           32.58972765304033
          ],
          [
           1,
           0.32956362089137037,
           0.17808928257067666,
           32.58972765304033
          ],
          [
           1,
           0.32956362089137037,
           0.17808928257067666,
           32.58972765304033
          ],
          [
           1,
           0.32956362089137037,
           0.17808928257067666,
           32.58972765304033
          ],
          [
           1,
           0.32956362089137037,
           0.17808928257067666,
           32.58972765304033
          ],
          [
           1,
           0.32956362089137037,
           0.17808928257067666,
           32.58972765304033
          ],
          [
           1,
           0.32956362089137037,
           0.17808928257067666,
           32.58972765304033
          ],
          [
           1,
           0.32956362089137037,
           0.17808928257067666,
           32.58972765304033
          ]
         ],
         "fill": "toself",
         "fillcolor": "Firebrick",
         "hoverinfo": "text",
         "hoverlabel": {
          "bgcolor": "Firebrick"
         },
         "hoveron": "points+fills",
         "hovertemplate": "Disk Node: 1<br>Polar Inertia: 3.296e-01<br>Diametral Inertia: 1.781e-01<br>Disk mass: 32.590<br>",
         "legendgroup": "disks",
         "line": {
          "color": "Firebrick",
          "width": 2
         },
         "mode": "lines",
         "name": "Disk 0",
         "showlegend": false,
         "text": "Disk Node: 1<br>Polar Inertia: 3.296e-01<br>Diametral Inertia: 1.781e-01<br>Disk mass: 32.590<br>",
         "type": "scatter",
         "x": [
          0.5,
          0.5083333333333333,
          0.49166666666666664,
          0.5,
          null,
          0.5,
          0.5083333333333333,
          0.49166666666666664,
          0.5
         ],
         "y": [
          0.025,
          0.125,
          0.125,
          0.025,
          null,
          -0.025,
          -0.125,
          -0.125,
          -0.025
         ]
        },
        {
         "customdata": [
          [
           2,
           0.8050822048675969,
           0.4235805840543383,
           51.5252611115262
          ],
          [
           2,
           0.8050822048675969,
           0.4235805840543383,
           51.5252611115262
          ],
          [
           2,
           0.8050822048675969,
           0.4235805840543383,
           51.5252611115262
          ],
          [
           2,
           0.8050822048675969,
           0.4235805840543383,
           51.5252611115262
          ],
          [
           2,
           0.8050822048675969,
           0.4235805840543383,
           51.5252611115262
          ],
          [
           2,
           0.8050822048675969,
           0.4235805840543383,
           51.5252611115262
          ],
          [
           2,
           0.8050822048675969,
           0.4235805840543383,
           51.5252611115262
          ],
          [
           2,
           0.8050822048675969,
           0.4235805840543383,
           51.5252611115262
          ],
          [
           2,
           0.8050822048675969,
           0.4235805840543383,
           51.5252611115262
          ]
         ],
         "fill": "toself",
         "fillcolor": "Firebrick",
         "hoverinfo": "text",
         "hoverlabel": {
          "bgcolor": "Firebrick"
         },
         "hoveron": "points+fills",
         "hovertemplate": "Disk Node: 2<br>Polar Inertia: 8.051e-01<br>Diametral Inertia: 4.236e-01<br>Disk mass: 51.525<br>",
         "legendgroup": "disks",
         "line": {
          "color": "Firebrick",
          "width": 2
         },
         "mode": "lines",
         "name": "Disk 1",
         "showlegend": false,
         "text": "Disk Node: 2<br>Polar Inertia: 8.051e-01<br>Diametral Inertia: 4.236e-01<br>Disk mass: 51.525<br>",
         "type": "scatter",
         "x": [
          1,
          1.0083333333333333,
          0.9916666666666667,
          1,
          null,
          1,
          1.0083333333333333,
          0.9916666666666667,
          1
         ],
         "y": [
          0.025,
          0.125,
          0.125,
          0.025,
          null,
          -0.025,
          -0.125,
          -0.125,
          -0.025
         ]
        },
        {
         "hoverinfo": "none",
         "legendgroup": "bearings",
         "line": {
          "color": "#355d7a",
          "width": 3.5
         },
         "mode": "lines",
         "name": "Bearing 0",
         "showlegend": false,
         "type": "scatter",
         "x": [
          0,
          0,
          -0.025,
          0.025
         ],
         "y": [
          0.025,
          0.05,
          0.05,
          0.05
         ]
        },
        {
         "hoverinfo": "none",
         "legendgroup": "bearings",
         "line": {
          "color": "#355d7a",
          "width": 3.5
         },
         "mode": "lines",
         "name": "Bearing 0",
         "showlegend": false,
         "type": "scatter",
         "x": [
          0,
          0,
          -0.025,
          0.025
         ],
         "y": [
          -0.025,
          -0.05,
          -0.05,
          -0.05
         ]
        },
        {
         "hoverinfo": "none",
         "legendgroup": "bearings",
         "line": {
          "color": "#355d7a",
          "width": 3.5
         },
         "mode": "lines",
         "name": "Bearing 0",
         "showlegend": false,
         "type": "scatter",
         "x": [
          0,
          0,
          -0.025,
          0.025
         ],
         "y": [
          0.125,
          0.1,
          0.1,
          0.1
         ]
        },
        {
         "hoverinfo": "none",
         "legendgroup": "bearings",
         "line": {
          "color": "#355d7a",
          "width": 3.5
         },
         "mode": "lines",
         "name": "Bearing 0",
         "showlegend": false,
         "type": "scatter",
         "x": [
          0,
          0,
          -0.025,
          0.025
         ],
         "y": [
          -0.125,
          -0.1,
          -0.1,
          -0.1
         ]
        },
        {
         "hoverinfo": "none",
         "legendgroup": "bearings",
         "line": {
          "color": "#355d7a",
          "width": 3.5
         },
         "mode": "lines",
         "name": "Bearing 0",
         "showlegend": false,
         "type": "scatter",
         "x": [
          -0.03214285714285715,
          0.03214285714285715
         ],
         "y": [
          0.125,
          0.125
         ]
        },
        {
         "hoverinfo": "none",
         "legendgroup": "bearings",
         "line": {
          "color": "#355d7a",
          "width": 3.5
         },
         "mode": "lines",
         "name": "Bearing 0",
         "showlegend": false,
         "type": "scatter",
         "x": [
          -0.03214285714285715,
          0.03214285714285715
         ],
         "y": [
          -0.125,
          -0.125
         ]
        },
        {
         "hoverinfo": "none",
         "legendgroup": "bearings",
         "line": {
          "color": "#355d7a",
          "width": 3.5
         },
         "mode": "lines",
         "name": "Bearing 0",
         "showlegend": false,
         "type": "scatter",
         "x": [
          -0.03214285714285715,
          -0.019285714285714288
         ],
         "y": [
          0.125,
          0.1375
         ]
        },
        {
         "hoverinfo": "none",
         "legendgroup": "bearings",
         "line": {
          "color": "#355d7a",
          "width": 3.5
         },
         "mode": "lines",
         "name": "Bearing 0",
         "showlegend": false,
         "type": "scatter",
         "x": [
          -0.03214285714285715,
          -0.019285714285714288
         ],
         "y": [
          -0.125,
          -0.1375
         ]
        },
        {
         "hoverinfo": "none",
         "legendgroup": "bearings",
         "line": {
          "color": "#355d7a",
          "width": 3.5
         },
         "mode": "lines",
         "name": "Bearing 0",
         "showlegend": false,
         "type": "scatter",
         "x": [
          -0.019285714285714288,
          -0.006428571428571429
         ],
         "y": [
          0.125,
          0.1375
         ]
        },
        {
         "hoverinfo": "none",
         "legendgroup": "bearings",
         "line": {
          "color": "#355d7a",
          "width": 3.5
         },
         "mode": "lines",
         "name": "Bearing 0",
         "showlegend": false,
         "type": "scatter",
         "x": [
          -0.019285714285714288,
          -0.006428571428571429
         ],
         "y": [
          -0.125,
          -0.1375
         ]
        },
        {
         "hoverinfo": "none",
         "legendgroup": "bearings",
         "line": {
          "color": "#355d7a",
          "width": 3.5
         },
         "mode": "lines",
         "name": "Bearing 0",
         "showlegend": false,
         "type": "scatter",
         "x": [
          -0.006428571428571429,
          0.006428571428571429
         ],
         "y": [
          0.125,
          0.1375
         ]
        },
        {
         "hoverinfo": "none",
         "legendgroup": "bearings",
         "line": {
          "color": "#355d7a",
          "width": 3.5
         },
         "mode": "lines",
         "name": "Bearing 0",
         "showlegend": false,
         "type": "scatter",
         "x": [
          -0.006428571428571429,
          0.006428571428571429
         ],
         "y": [
          -0.125,
          -0.1375
         ]
        },
        {
         "hoverinfo": "none",
         "legendgroup": "bearings",
         "line": {
          "color": "#355d7a",
          "width": 3.5
         },
         "mode": "lines",
         "name": "Bearing 0",
         "showlegend": false,
         "type": "scatter",
         "x": [
          0.006428571428571429,
          0.019285714285714288
         ],
         "y": [
          0.125,
          0.1375
         ]
        },
        {
         "hoverinfo": "none",
         "legendgroup": "bearings",
         "line": {
          "color": "#355d7a",
          "width": 3.5
         },
         "mode": "lines",
         "name": "Bearing 0",
         "showlegend": false,
         "type": "scatter",
         "x": [
          0.006428571428571429,
          0.019285714285714288
         ],
         "y": [
          -0.125,
          -0.1375
         ]
        },
        {
         "hoverinfo": "none",
         "legendgroup": "bearings",
         "line": {
          "color": "#355d7a",
          "width": 3.5
         },
         "mode": "lines",
         "name": "Bearing 0",
         "showlegend": false,
         "type": "scatter",
         "x": [
          0.019285714285714288,
          0.03214285714285715
         ],
         "y": [
          0.125,
          0.1375
         ]
        },
        {
         "hoverinfo": "none",
         "legendgroup": "bearings",
         "line": {
          "color": "#355d7a",
          "width": 3.5
         },
         "mode": "lines",
         "name": "Bearing 0",
         "showlegend": false,
         "type": "scatter",
         "x": [
          0.019285714285714288,
          0.03214285714285715
         ],
         "y": [
          -0.125,
          -0.1375
         ]
        },
        {
         "hoverinfo": "none",
         "legendgroup": "bearings",
         "line": {
          "color": "#355d7a",
          "width": 3.5
         },
         "mode": "lines",
         "name": "Bearing 0",
         "showlegend": false,
         "type": "scatter",
         "x": [
          0.03214285714285715,
          0.045000000000000005
         ],
         "y": [
          0.125,
          0.1375
         ]
        },
        {
         "hoverinfo": "none",
         "legendgroup": "bearings",
         "line": {
          "color": "#355d7a",
          "width": 3.5
         },
         "mode": "lines",
         "name": "Bearing 0",
         "showlegend": false,
         "type": "scatter",
         "x": [
          0.03214285714285715,
          0.045000000000000005
         ],
         "y": [
          -0.125,
          -0.1375
         ]
        },
        {
         "hoverinfo": "none",
         "legendgroup": "bearings",
         "line": {
          "color": "#355d7a",
          "width": 3.5
         },
         "mode": "lines",
         "name": "Bearing 0",
         "showlegend": false,
         "type": "scatter",
         "x": [
          -0.025,
          -0.025,
          -0.03214285714285715,
          -0.017857142857142856,
          -0.03214285714285715,
          -0.017857142857142856,
          -0.03214285714285715,
          -0.017857142857142856,
          -0.025,
          -0.025
         ],
         "y": [
          0.05,
          0.05714285714285715,
          0.05714285714285715,
          0.0642857142857143,
          0.07142857142857142,
          0.07857142857142857,
          0.08571428571428572,
          0.09285714285714286,
          0.09285714285714286,
          0.1
         ]
        },
        {
         "hoverinfo": "none",
         "legendgroup": "bearings",
         "line": {
          "color": "#355d7a",
          "width": 3.5
         },
         "mode": "lines",
         "name": "Bearing 0",
         "showlegend": false,
         "type": "scatter",
         "x": [
          -0.025,
          -0.025,
          -0.03214285714285715,
          -0.017857142857142856,
          -0.03214285714285715,
          -0.017857142857142856,
          -0.03214285714285715,
          -0.017857142857142856,
          -0.025,
          -0.025
         ],
         "y": [
          -0.05,
          -0.05714285714285715,
          -0.05714285714285715,
          -0.0642857142857143,
          -0.07142857142857142,
          -0.07857142857142857,
          -0.08571428571428572,
          -0.09285714285714286,
          -0.09285714285714286,
          -0.1
         ]
        },
        {
         "hoverinfo": "none",
         "legendgroup": "bearings",
         "line": {
          "color": "#355d7a",
          "width": 3.5
         },
         "mode": "lines",
         "name": "Bearing 0",
         "showlegend": false,
         "type": "scatter",
         "x": [
          0.025,
          0.025
         ],
         "y": [
          0.05,
          0.0642857142857143
         ]
        },
        {
         "hoverinfo": "none",
         "legendgroup": "bearings",
         "line": {
          "color": "#355d7a",
          "width": 3.5
         },
         "mode": "lines",
         "name": "Bearing 0",
         "showlegend": false,
         "type": "scatter",
         "x": [
          0.025,
          0.025
         ],
         "y": [
          -0.05,
          -0.0642857142857143
         ]
        },
        {
         "hoverinfo": "none",
         "legendgroup": "bearings",
         "line": {
          "color": "#355d7a",
          "width": 3.5
         },
         "mode": "lines",
         "name": "Bearing 0",
         "showlegend": false,
         "type": "scatter",
         "x": [
          0.010714285714285714,
          0.010714285714285714,
          0.039285714285714285,
          0.039285714285714285
         ],
         "y": [
          0.08571428571428572,
          0.0642857142857143,
          0.0642857142857143,
          0.08571428571428572
         ]
        },
        {
         "hoverinfo": "none",
         "legendgroup": "bearings",
         "line": {
          "color": "#355d7a",
          "width": 3.5
         },
         "mode": "lines",
         "name": "Bearing 0",
         "showlegend": false,
         "type": "scatter",
         "x": [
          0.010714285714285714,
          0.010714285714285714,
          0.039285714285714285,
          0.039285714285714285
         ],
         "y": [
          -0.08571428571428572,
          -0.0642857142857143,
          -0.0642857142857143,
          -0.08571428571428572
         ]
        },
        {
         "hoverinfo": "none",
         "legendgroup": "bearings",
         "line": {
          "color": "#355d7a",
          "width": 3.5
         },
         "mode": "lines",
         "name": "Bearing 0",
         "showlegend": false,
         "type": "scatter",
         "x": [
          0.010714285714285714,
          0.039285714285714285,
          0.025,
          0.025
         ],
         "y": [
          0.07857142857142857,
          0.07857142857142857,
          0.07857142857142857,
          0.1
         ]
        },
        {
         "hoverinfo": "none",
         "legendgroup": "bearings",
         "line": {
          "color": "#355d7a",
          "width": 3.5
         },
         "mode": "lines",
         "name": "Bearing 0",
         "showlegend": false,
         "type": "scatter",
         "x": [
          0.010714285714285714,
          0.039285714285714285,
          0.025,
          0.025
         ],
         "y": [
          -0.07857142857142857,
          -0.07857142857142857,
          -0.07857142857142857,
          -0.1
         ]
        },
        {
         "hoverinfo": "none",
         "legendgroup": "bearings",
         "line": {
          "color": "#355d7a",
          "width": 3.5
         },
         "mode": "lines",
         "name": "Bearing 1",
         "showlegend": false,
         "type": "scatter",
         "x": [
          1.5,
          1.5,
          1.475,
          1.525
         ],
         "y": [
          0.025,
          0.05,
          0.05,
          0.05
         ]
        },
        {
         "hoverinfo": "none",
         "legendgroup": "bearings",
         "line": {
          "color": "#355d7a",
          "width": 3.5
         },
         "mode": "lines",
         "name": "Bearing 1",
         "showlegend": false,
         "type": "scatter",
         "x": [
          1.5,
          1.5,
          1.475,
          1.525
         ],
         "y": [
          -0.025,
          -0.05,
          -0.05,
          -0.05
         ]
        },
        {
         "hoverinfo": "none",
         "legendgroup": "bearings",
         "line": {
          "color": "#355d7a",
          "width": 3.5
         },
         "mode": "lines",
         "name": "Bearing 1",
         "showlegend": false,
         "type": "scatter",
         "x": [
          1.5,
          1.5,
          1.475,
          1.525
         ],
         "y": [
          0.125,
          0.1,
          0.1,
          0.1
         ]
        },
        {
         "hoverinfo": "none",
         "legendgroup": "bearings",
         "line": {
          "color": "#355d7a",
          "width": 3.5
         },
         "mode": "lines",
         "name": "Bearing 1",
         "showlegend": false,
         "type": "scatter",
         "x": [
          1.5,
          1.5,
          1.475,
          1.525
         ],
         "y": [
          -0.125,
          -0.1,
          -0.1,
          -0.1
         ]
        },
        {
         "hoverinfo": "none",
         "legendgroup": "bearings",
         "line": {
          "color": "#355d7a",
          "width": 3.5
         },
         "mode": "lines",
         "name": "Bearing 1",
         "showlegend": false,
         "type": "scatter",
         "x": [
          1.467857142857143,
          1.532142857142857
         ],
         "y": [
          0.125,
          0.125
         ]
        },
        {
         "hoverinfo": "none",
         "legendgroup": "bearings",
         "line": {
          "color": "#355d7a",
          "width": 3.5
         },
         "mode": "lines",
         "name": "Bearing 1",
         "showlegend": false,
         "type": "scatter",
         "x": [
          1.467857142857143,
          1.532142857142857
         ],
         "y": [
          -0.125,
          -0.125
         ]
        },
        {
         "hoverinfo": "none",
         "legendgroup": "bearings",
         "line": {
          "color": "#355d7a",
          "width": 3.5
         },
         "mode": "lines",
         "name": "Bearing 1",
         "showlegend": false,
         "type": "scatter",
         "x": [
          1.467857142857143,
          1.4807142857142859
         ],
         "y": [
          0.125,
          0.1375
         ]
        },
        {
         "hoverinfo": "none",
         "legendgroup": "bearings",
         "line": {
          "color": "#355d7a",
          "width": 3.5
         },
         "mode": "lines",
         "name": "Bearing 1",
         "showlegend": false,
         "type": "scatter",
         "x": [
          1.467857142857143,
          1.4807142857142859
         ],
         "y": [
          -0.125,
          -0.1375
         ]
        },
        {
         "hoverinfo": "none",
         "legendgroup": "bearings",
         "line": {
          "color": "#355d7a",
          "width": 3.5
         },
         "mode": "lines",
         "name": "Bearing 1",
         "showlegend": false,
         "type": "scatter",
         "x": [
          1.4807142857142859,
          1.4935714285714285
         ],
         "y": [
          0.125,
          0.1375
         ]
        },
        {
         "hoverinfo": "none",
         "legendgroup": "bearings",
         "line": {
          "color": "#355d7a",
          "width": 3.5
         },
         "mode": "lines",
         "name": "Bearing 1",
         "showlegend": false,
         "type": "scatter",
         "x": [
          1.4807142857142859,
          1.4935714285714285
         ],
         "y": [
          -0.125,
          -0.1375
         ]
        },
        {
         "hoverinfo": "none",
         "legendgroup": "bearings",
         "line": {
          "color": "#355d7a",
          "width": 3.5
         },
         "mode": "lines",
         "name": "Bearing 1",
         "showlegend": false,
         "type": "scatter",
         "x": [
          1.4935714285714285,
          1.5064285714285715
         ],
         "y": [
          0.125,
          0.1375
         ]
        },
        {
         "hoverinfo": "none",
         "legendgroup": "bearings",
         "line": {
          "color": "#355d7a",
          "width": 3.5
         },
         "mode": "lines",
         "name": "Bearing 1",
         "showlegend": false,
         "type": "scatter",
         "x": [
          1.4935714285714285,
          1.5064285714285715
         ],
         "y": [
          -0.125,
          -0.1375
         ]
        },
        {
         "hoverinfo": "none",
         "legendgroup": "bearings",
         "line": {
          "color": "#355d7a",
          "width": 3.5
         },
         "mode": "lines",
         "name": "Bearing 1",
         "showlegend": false,
         "type": "scatter",
         "x": [
          1.5064285714285715,
          1.5192857142857141
         ],
         "y": [
          0.125,
          0.1375
         ]
        },
        {
         "hoverinfo": "none",
         "legendgroup": "bearings",
         "line": {
          "color": "#355d7a",
          "width": 3.5
         },
         "mode": "lines",
         "name": "Bearing 1",
         "showlegend": false,
         "type": "scatter",
         "x": [
          1.5064285714285715,
          1.5192857142857141
         ],
         "y": [
          -0.125,
          -0.1375
         ]
        },
        {
         "hoverinfo": "none",
         "legendgroup": "bearings",
         "line": {
          "color": "#355d7a",
          "width": 3.5
         },
         "mode": "lines",
         "name": "Bearing 1",
         "showlegend": false,
         "type": "scatter",
         "x": [
          1.5192857142857141,
          1.532142857142857
         ],
         "y": [
          0.125,
          0.1375
         ]
        },
        {
         "hoverinfo": "none",
         "legendgroup": "bearings",
         "line": {
          "color": "#355d7a",
          "width": 3.5
         },
         "mode": "lines",
         "name": "Bearing 1",
         "showlegend": false,
         "type": "scatter",
         "x": [
          1.5192857142857141,
          1.532142857142857
         ],
         "y": [
          -0.125,
          -0.1375
         ]
        },
        {
         "hoverinfo": "none",
         "legendgroup": "bearings",
         "line": {
          "color": "#355d7a",
          "width": 3.5
         },
         "mode": "lines",
         "name": "Bearing 1",
         "showlegend": false,
         "type": "scatter",
         "x": [
          1.532142857142857,
          1.545
         ],
         "y": [
          0.125,
          0.1375
         ]
        },
        {
         "hoverinfo": "none",
         "legendgroup": "bearings",
         "line": {
          "color": "#355d7a",
          "width": 3.5
         },
         "mode": "lines",
         "name": "Bearing 1",
         "showlegend": false,
         "type": "scatter",
         "x": [
          1.532142857142857,
          1.545
         ],
         "y": [
          -0.125,
          -0.1375
         ]
        },
        {
         "hoverinfo": "none",
         "legendgroup": "bearings",
         "line": {
          "color": "#355d7a",
          "width": 3.5
         },
         "mode": "lines",
         "name": "Bearing 1",
         "showlegend": false,
         "type": "scatter",
         "x": [
          1.475,
          1.475,
          1.467857142857143,
          1.4821428571428572,
          1.467857142857143,
          1.4821428571428572,
          1.467857142857143,
          1.4821428571428572,
          1.475,
          1.475
         ],
         "y": [
          0.05,
          0.05714285714285715,
          0.05714285714285715,
          0.0642857142857143,
          0.07142857142857142,
          0.07857142857142857,
          0.08571428571428572,
          0.09285714285714286,
          0.09285714285714286,
          0.1
         ]
        },
        {
         "hoverinfo": "none",
         "legendgroup": "bearings",
         "line": {
          "color": "#355d7a",
          "width": 3.5
         },
         "mode": "lines",
         "name": "Bearing 1",
         "showlegend": false,
         "type": "scatter",
         "x": [
          1.475,
          1.475,
          1.467857142857143,
          1.4821428571428572,
          1.467857142857143,
          1.4821428571428572,
          1.467857142857143,
          1.4821428571428572,
          1.475,
          1.475
         ],
         "y": [
          -0.05,
          -0.05714285714285715,
          -0.05714285714285715,
          -0.0642857142857143,
          -0.07142857142857142,
          -0.07857142857142857,
          -0.08571428571428572,
          -0.09285714285714286,
          -0.09285714285714286,
          -0.1
         ]
        },
        {
         "hoverinfo": "none",
         "legendgroup": "bearings",
         "line": {
          "color": "#355d7a",
          "width": 3.5
         },
         "mode": "lines",
         "name": "Bearing 1",
         "showlegend": false,
         "type": "scatter",
         "x": [
          1.525,
          1.525
         ],
         "y": [
          0.05,
          0.0642857142857143
         ]
        },
        {
         "hoverinfo": "none",
         "legendgroup": "bearings",
         "line": {
          "color": "#355d7a",
          "width": 3.5
         },
         "mode": "lines",
         "name": "Bearing 1",
         "showlegend": false,
         "type": "scatter",
         "x": [
          1.525,
          1.525
         ],
         "y": [
          -0.05,
          -0.0642857142857143
         ]
        },
        {
         "hoverinfo": "none",
         "legendgroup": "bearings",
         "line": {
          "color": "#355d7a",
          "width": 3.5
         },
         "mode": "lines",
         "name": "Bearing 1",
         "showlegend": false,
         "type": "scatter",
         "x": [
          1.5107142857142857,
          1.5107142857142857,
          1.5392857142857141,
          1.5392857142857141
         ],
         "y": [
          0.08571428571428572,
          0.0642857142857143,
          0.0642857142857143,
          0.08571428571428572
         ]
        },
        {
         "hoverinfo": "none",
         "legendgroup": "bearings",
         "line": {
          "color": "#355d7a",
          "width": 3.5
         },
         "mode": "lines",
         "name": "Bearing 1",
         "showlegend": false,
         "type": "scatter",
         "x": [
          1.5107142857142857,
          1.5107142857142857,
          1.5392857142857141,
          1.5392857142857141
         ],
         "y": [
          -0.08571428571428572,
          -0.0642857142857143,
          -0.0642857142857143,
          -0.08571428571428572
         ]
        },
        {
         "hoverinfo": "none",
         "legendgroup": "bearings",
         "line": {
          "color": "#355d7a",
          "width": 3.5
         },
         "mode": "lines",
         "name": "Bearing 1",
         "showlegend": false,
         "type": "scatter",
         "x": [
          1.5107142857142857,
          1.5392857142857141,
          1.525,
          1.525
         ],
         "y": [
          0.07857142857142857,
          0.07857142857142857,
          0.07857142857142857,
          0.1
         ]
        },
        {
         "hoverinfo": "none",
         "legendgroup": "bearings",
         "line": {
          "color": "#355d7a",
          "width": 3.5
         },
         "mode": "lines",
         "name": "Bearing 1",
         "showlegend": false,
         "type": "scatter",
         "x": [
          1.5107142857142857,
          1.5392857142857141,
          1.525,
          1.525
         ],
         "y": [
          -0.07857142857142857,
          -0.07857142857142857,
          -0.07857142857142857,
          -0.1
         ]
        }
       ],
       "layout": {
        "shapes": [
         {
          "fillcolor": "Firebrick",
          "line": {
           "color": "Firebrick"
          },
          "type": "circle",
          "x0": 0.5083333333333333,
          "x1": 0.49166666666666664,
          "xref": "x",
          "y0": 0.11666666666666667,
          "y1": 0.13333333333333333,
          "yref": "y"
         },
         {
          "fillcolor": "Firebrick",
          "line": {
           "color": "Firebrick"
          },
          "type": "circle",
          "x0": 0.5083333333333333,
          "x1": 0.49166666666666664,
          "xref": "x",
          "y0": -0.11666666666666667,
          "y1": -0.13333333333333333,
          "yref": "y"
         },
         {
          "fillcolor": "Firebrick",
          "line": {
           "color": "Firebrick"
          },
          "type": "circle",
          "x0": 1.0083333333333333,
          "x1": 0.9916666666666667,
          "xref": "x",
          "y0": 0.11666666666666667,
          "y1": 0.13333333333333333,
          "yref": "y"
         },
         {
          "fillcolor": "Firebrick",
          "line": {
           "color": "Firebrick"
          },
          "type": "circle",
          "x0": 1.0083333333333333,
          "x1": 0.9916666666666667,
          "xref": "x",
          "y0": -0.11666666666666667,
          "y1": -0.13333333333333333,
          "yref": "y"
         }
        ],
        "template": {
         "data": {
          "bar": [
           {
            "error_x": {
             "color": "#2a3f5f"
            },
            "error_y": {
             "color": "#2a3f5f"
            },
            "marker": {
             "line": {
              "color": "white",
              "width": 0.5
             }
            },
            "type": "bar"
           }
          ],
          "barpolar": [
           {
            "marker": {
             "line": {
              "color": "white",
              "width": 0.5
             }
            },
            "type": "barpolar"
           }
          ],
          "carpet": [
           {
            "aaxis": {
             "endlinecolor": "#2a3f5f",
             "gridcolor": "#C8D4E3",
             "linecolor": "#C8D4E3",
             "minorgridcolor": "#C8D4E3",
             "startlinecolor": "#2a3f5f"
            },
            "baxis": {
             "endlinecolor": "#2a3f5f",
             "gridcolor": "#C8D4E3",
             "linecolor": "#C8D4E3",
             "minorgridcolor": "#C8D4E3",
             "startlinecolor": "#2a3f5f"
            },
            "type": "carpet"
           }
          ],
          "choropleth": [
           {
            "colorbar": {
             "outlinewidth": 0,
             "ticks": ""
            },
            "type": "choropleth"
           }
          ],
          "contour": [
           {
            "colorbar": {
             "outlinewidth": 0,
             "ticks": ""
            },
            "colorscale": [
             [
              0,
              "#0d0887"
             ],
             [
              0.1111111111111111,
              "#46039f"
             ],
             [
              0.2222222222222222,
              "#7201a8"
             ],
             [
              0.3333333333333333,
              "#9c179e"
             ],
             [
              0.4444444444444444,
              "#bd3786"
             ],
             [
              0.5555555555555556,
              "#d8576b"
             ],
             [
              0.6666666666666666,
              "#ed7953"
             ],
             [
              0.7777777777777778,
              "#fb9f3a"
             ],
             [
              0.8888888888888888,
              "#fdca26"
             ],
             [
              1,
              "#f0f921"
             ]
            ],
            "type": "contour"
           }
          ],
          "contourcarpet": [
           {
            "colorbar": {
             "outlinewidth": 0,
             "ticks": ""
            },
            "type": "contourcarpet"
           }
          ],
          "heatmap": [
           {
            "colorbar": {
             "outlinewidth": 0,
             "ticks": ""
            },
            "colorscale": [
             [
              0,
              "#0d0887"
             ],
             [
              0.1111111111111111,
              "#46039f"
             ],
             [
              0.2222222222222222,
              "#7201a8"
             ],
             [
              0.3333333333333333,
              "#9c179e"
             ],
             [
              0.4444444444444444,
              "#bd3786"
             ],
             [
              0.5555555555555556,
              "#d8576b"
             ],
             [
              0.6666666666666666,
              "#ed7953"
             ],
             [
              0.7777777777777778,
              "#fb9f3a"
             ],
             [
              0.8888888888888888,
              "#fdca26"
             ],
             [
              1,
              "#f0f921"
             ]
            ],
            "type": "heatmap"
           }
          ],
          "heatmapgl": [
           {
            "colorbar": {
             "outlinewidth": 0,
             "ticks": ""
            },
            "colorscale": [
             [
              0,
              "#0d0887"
             ],
             [
              0.1111111111111111,
              "#46039f"
             ],
             [
              0.2222222222222222,
              "#7201a8"
             ],
             [
              0.3333333333333333,
              "#9c179e"
             ],
             [
              0.4444444444444444,
              "#bd3786"
             ],
             [
              0.5555555555555556,
              "#d8576b"
             ],
             [
              0.6666666666666666,
              "#ed7953"
             ],
             [
              0.7777777777777778,
              "#fb9f3a"
             ],
             [
              0.8888888888888888,
              "#fdca26"
             ],
             [
              1,
              "#f0f921"
             ]
            ],
            "type": "heatmapgl"
           }
          ],
          "histogram": [
           {
            "marker": {
             "colorbar": {
              "outlinewidth": 0,
              "ticks": ""
             }
            },
            "type": "histogram"
           }
          ],
          "histogram2d": [
           {
            "colorbar": {
             "outlinewidth": 0,
             "ticks": ""
            },
            "colorscale": [
             [
              0,
              "#0d0887"
             ],
             [
              0.1111111111111111,
              "#46039f"
             ],
             [
              0.2222222222222222,
              "#7201a8"
             ],
             [
              0.3333333333333333,
              "#9c179e"
             ],
             [
              0.4444444444444444,
              "#bd3786"
             ],
             [
              0.5555555555555556,
              "#d8576b"
             ],
             [
              0.6666666666666666,
              "#ed7953"
             ],
             [
              0.7777777777777778,
              "#fb9f3a"
             ],
             [
              0.8888888888888888,
              "#fdca26"
             ],
             [
              1,
              "#f0f921"
             ]
            ],
            "type": "histogram2d"
           }
          ],
          "histogram2dcontour": [
           {
            "colorbar": {
             "outlinewidth": 0,
             "ticks": ""
            },
            "colorscale": [
             [
              0,
              "#0d0887"
             ],
             [
              0.1111111111111111,
              "#46039f"
             ],
             [
              0.2222222222222222,
              "#7201a8"
             ],
             [
              0.3333333333333333,
              "#9c179e"
             ],
             [
              0.4444444444444444,
              "#bd3786"
             ],
             [
              0.5555555555555556,
              "#d8576b"
             ],
             [
              0.6666666666666666,
              "#ed7953"
             ],
             [
              0.7777777777777778,
              "#fb9f3a"
             ],
             [
              0.8888888888888888,
              "#fdca26"
             ],
             [
              1,
              "#f0f921"
             ]
            ],
            "type": "histogram2dcontour"
           }
          ],
          "mesh3d": [
           {
            "colorbar": {
             "outlinewidth": 0,
             "ticks": ""
            },
            "type": "mesh3d"
           }
          ],
          "parcoords": [
           {
            "line": {
             "colorbar": {
              "outlinewidth": 0,
              "ticks": ""
             }
            },
            "type": "parcoords"
           }
          ],
          "pie": [
           {
            "automargin": true,
            "type": "pie"
           }
          ],
          "scatter": [
           {
            "marker": {
             "colorbar": {
              "outlinewidth": 0,
              "ticks": ""
             }
            },
            "type": "scatter"
           }
          ],
          "scatter3d": [
           {
            "line": {
             "colorbar": {
              "outlinewidth": 0,
              "ticks": ""
             }
            },
            "marker": {
             "colorbar": {
              "outlinewidth": 0,
              "ticks": ""
             }
            },
            "type": "scatter3d"
           }
          ],
          "scattercarpet": [
           {
            "marker": {
             "colorbar": {
              "outlinewidth": 0,
              "ticks": ""
             }
            },
            "type": "scattercarpet"
           }
          ],
          "scattergeo": [
           {
            "marker": {
             "colorbar": {
              "outlinewidth": 0,
              "ticks": ""
             }
            },
            "type": "scattergeo"
           }
          ],
          "scattergl": [
           {
            "marker": {
             "colorbar": {
              "outlinewidth": 0,
              "ticks": ""
             }
            },
            "type": "scattergl"
           }
          ],
          "scattermapbox": [
           {
            "marker": {
             "colorbar": {
              "outlinewidth": 0,
              "ticks": ""
             }
            },
            "type": "scattermapbox"
           }
          ],
          "scatterpolar": [
           {
            "marker": {
             "colorbar": {
              "outlinewidth": 0,
              "ticks": ""
             }
            },
            "type": "scatterpolar"
           }
          ],
          "scatterpolargl": [
           {
            "marker": {
             "colorbar": {
              "outlinewidth": 0,
              "ticks": ""
             }
            },
            "type": "scatterpolargl"
           }
          ],
          "scatterternary": [
           {
            "marker": {
             "colorbar": {
              "outlinewidth": 0,
              "ticks": ""
             }
            },
            "type": "scatterternary"
           }
          ],
          "surface": [
           {
            "colorbar": {
             "outlinewidth": 0,
             "ticks": ""
            },
            "colorscale": [
             [
              0,
              "#0d0887"
             ],
             [
              0.1111111111111111,
              "#46039f"
             ],
             [
              0.2222222222222222,
              "#7201a8"
             ],
             [
              0.3333333333333333,
              "#9c179e"
             ],
             [
              0.4444444444444444,
              "#bd3786"
             ],
             [
              0.5555555555555556,
              "#d8576b"
             ],
             [
              0.6666666666666666,
              "#ed7953"
             ],
             [
              0.7777777777777778,
              "#fb9f3a"
             ],
             [
              0.8888888888888888,
              "#fdca26"
             ],
             [
              1,
              "#f0f921"
             ]
            ],
            "type": "surface"
           }
          ],
          "table": [
           {
            "cells": {
             "fill": {
              "color": "#EBF0F8"
             },
             "line": {
              "color": "white"
             }
            },
            "header": {
             "fill": {
              "color": "#C8D4E3"
             },
             "line": {
              "color": "white"
             }
            },
            "type": "table"
           }
          ]
         },
         "layout": {
          "annotationdefaults": {
           "arrowcolor": "#2a3f5f",
           "arrowhead": 0,
           "arrowwidth": 1
          },
          "coloraxis": {
           "colorbar": {
            "outlinewidth": 0,
            "ticks": ""
           }
          },
          "colorscale": {
           "diverging": [
            [
             0,
             "#8e0152"
            ],
            [
             0.1,
             "#c51b7d"
            ],
            [
             0.2,
             "#de77ae"
            ],
            [
             0.3,
             "#f1b6da"
            ],
            [
             0.4,
             "#fde0ef"
            ],
            [
             0.5,
             "#f7f7f7"
            ],
            [
             0.6,
             "#e6f5d0"
            ],
            [
             0.7,
             "#b8e186"
            ],
            [
             0.8,
             "#7fbc41"
            ],
            [
             0.9,
             "#4d9221"
            ],
            [
             1,
             "#276419"
            ]
           ],
           "sequential": [
            [
             0,
             "#0d0887"
            ],
            [
             0.1111111111111111,
             "#46039f"
            ],
            [
             0.2222222222222222,
             "#7201a8"
            ],
            [
             0.3333333333333333,
             "#9c179e"
            ],
            [
             0.4444444444444444,
             "#bd3786"
            ],
            [
             0.5555555555555556,
             "#d8576b"
            ],
            [
             0.6666666666666666,
             "#ed7953"
            ],
            [
             0.7777777777777778,
             "#fb9f3a"
            ],
            [
             0.8888888888888888,
             "#fdca26"
            ],
            [
             1,
             "#f0f921"
            ]
           ],
           "sequentialminus": [
            [
             0,
             "#0d0887"
            ],
            [
             0.1111111111111111,
             "#46039f"
            ],
            [
             0.2222222222222222,
             "#7201a8"
            ],
            [
             0.3333333333333333,
             "#9c179e"
            ],
            [
             0.4444444444444444,
             "#bd3786"
            ],
            [
             0.5555555555555556,
             "#d8576b"
            ],
            [
             0.6666666666666666,
             "#ed7953"
            ],
            [
             0.7777777777777778,
             "#fb9f3a"
            ],
            [
             0.8888888888888888,
             "#fdca26"
            ],
            [
             1,
             "#f0f921"
            ]
           ]
          },
          "colorway": [
           "#1f77b4",
           "#ff7f0e",
           "#2ca02c",
           "#d62728",
           "#9467bd",
           "#8c564b",
           "#e377c2",
           "#7f7f7f",
           "#bcbd22",
           "#17becf"
          ],
          "font": {
           "color": "#2a3f5f"
          },
          "geo": {
           "bgcolor": "white",
           "lakecolor": "white",
           "landcolor": "white",
           "showlakes": true,
           "showland": true,
           "subunitcolor": "#C8D4E3"
          },
          "hoverlabel": {
           "align": "left"
          },
          "hovermode": "closest",
          "mapbox": {
           "style": "light"
          },
          "paper_bgcolor": "white",
          "plot_bgcolor": "white",
          "polar": {
           "angularaxis": {
            "gridcolor": "#EBF0F8",
            "linecolor": "#EBF0F8",
            "ticks": ""
           },
           "bgcolor": "white",
           "radialaxis": {
            "gridcolor": "#EBF0F8",
            "linecolor": "#EBF0F8",
            "ticks": ""
           }
          },
          "scene": {
           "camera": {
            "center": {
             "x": 0,
             "y": 0,
             "z": 0
            },
            "eye": {
             "x": 2,
             "y": 2,
             "z": 2
            },
            "up": {
             "x": 0,
             "y": 0,
             "z": 1
            }
           },
           "xaxis": {
            "backgroundcolor": "white",
            "gridcolor": "#DFE8F3",
            "gridwidth": 2,
            "linecolor": "#EBF0F8",
            "showbackground": true,
            "showspikes": false,
            "ticks": "",
            "zerolinecolor": "#EBF0F8"
           },
           "yaxis": {
            "backgroundcolor": "white",
            "gridcolor": "#DFE8F3",
            "gridwidth": 2,
            "linecolor": "#EBF0F8",
            "showbackground": true,
            "showspikes": false,
            "ticks": "",
            "zerolinecolor": "#EBF0F8"
           },
           "zaxis": {
            "backgroundcolor": "white",
            "gridcolor": "#DFE8F3",
            "gridwidth": 2,
            "linecolor": "#EBF0F8",
            "showbackground": true,
            "showspikes": false,
            "ticks": "",
            "zerolinecolor": "#EBF0F8"
           }
          },
          "shapedefaults": {
           "line": {
            "color": "#2a3f5f"
           }
          },
          "ternary": {
           "aaxis": {
            "gridcolor": "#DFE8F3",
            "linecolor": "#A2B1C6",
            "ticks": ""
           },
           "baxis": {
            "gridcolor": "#DFE8F3",
            "linecolor": "#A2B1C6",
            "ticks": ""
           },
           "bgcolor": "white",
           "caxis": {
            "gridcolor": "#DFE8F3",
            "linecolor": "#A2B1C6",
            "ticks": ""
           }
          },
          "title": {
           "x": 0.05
          },
          "xaxis": {
           "automargin": true,
           "gridcolor": "#EBF0F8",
           "linecolor": "black",
           "linewidth": 2,
           "mirror": true,
           "showline": true,
           "ticks": "",
           "title": {
            "standoff": 15
           },
           "zeroline": false,
           "zerolinecolor": "#EBF0F8",
           "zerolinewidth": 2
          },
          "yaxis": {
           "automargin": true,
           "gridcolor": "#EBF0F8",
           "linecolor": "black",
           "linewidth": 2,
           "mirror": true,
           "showline": true,
           "ticks": "",
           "title": {
            "standoff": 15
           },
           "zeroline": false,
           "zerolinecolor": "#EBF0F8",
           "zerolinewidth": 2
          }
         }
        },
        "title": {
         "text": "Rotor Model"
        },
        "xaxis": {
         "mirror": true,
         "range": [
          -0.15000000000000002,
          1.6500000000000001
         ],
         "showgrid": false,
         "title": {
          "text": "Axial location (m)"
         }
        },
        "yaxis": {
         "mirror": true,
         "range": [
          -0.44999999999999996,
          0.44999999999999996
         ],
         "showgrid": false,
         "title": {
          "text": "Shaft radius (m)"
         }
        }
       }
      },
      "text/html": [
       "<div>\n",
       "        \n",
       "        \n",
       "            <div id=\"9a715aae-5902-4f78-b516-6dbbca139a34\" class=\"plotly-graph-div\" style=\"height:525px; width:100%;\"></div>\n",
       "            <script type=\"text/javascript\">\n",
       "                require([\"plotly\"], function(Plotly) {\n",
       "                    window.PLOTLYENV=window.PLOTLYENV || {};\n",
       "                    \n",
       "                if (document.getElementById(\"9a715aae-5902-4f78-b516-6dbbca139a34\")) {\n",
       "                    Plotly.newPlot(\n",
       "                        '9a715aae-5902-4f78-b516-6dbbca139a34',\n",
       "                        [{\"hoverinfo\": \"none\", \"line\": {\"color\": \"black\", \"dash\": \"dashdot\", \"width\": 3.0}, \"mode\": \"lines\", \"opacity\": 0.7, \"showlegend\": false, \"type\": \"scatter\", \"x\": [-0.30000000000000004, 1.7999999999999998], \"y\": [0, 0]}, {\"hoverinfo\": \"none\", \"marker\": {\"color\": \"#ffcc99\", \"line\": {\"color\": \"black\", \"width\": 1.0}, \"opacity\": 0.7, \"size\": 20}, \"mode\": \"markers+text\", \"showlegend\": false, \"text\": [\"0\", \"1\", \"2\", \"3\"], \"type\": \"scatter\", \"x\": [0.0, 0.5, 1.0, 1.5], \"y\": [0.0, 0.0, 0.0, 0.0]}, {\"customdata\": [[0, 0.05, 0.0, 0.05, 0.0, 0.5, \"Steel\"], [0, 0.05, 0.0, 0.05, 0.0, 0.5, \"Steel\"], [0, 0.05, 0.0, 0.05, 0.0, 0.5, \"Steel\"], [0, 0.05, 0.0, 0.05, 0.0, 0.5, \"Steel\"], [0, 0.05, 0.0, 0.05, 0.0, 0.5, \"Steel\"], [0, 0.05, 0.0, 0.05, 0.0, 0.5, \"Steel\"], [0, 0.05, 0.0, 0.05, 0.0, 0.5, \"Steel\"], [0, 0.05, 0.0, 0.05, 0.0, 0.5, \"Steel\"], [0, 0.05, 0.0, 0.05, 0.0, 0.5, \"Steel\"], [0, 0.05, 0.0, 0.05, 0.0, 0.5, \"Steel\"]], \"fill\": \"toself\", \"fillcolor\": \"#525252\", \"hoverinfo\": \"text\", \"hoverlabel\": {\"bgcolor\": \"#525252\"}, \"hoveron\": \"points+fills\", \"hovertemplate\": \"Element Number: 0<br>Left Outer Diameter: 0.05 m<br>Left Inner Diameter: 0.0 m<br>Right Outer Diameter: 0.05 m<br>Right Inner Diameter: 0.0 m<br>Element Length: 0.5 m<br>Material: Steel<br>\", \"legendgroup\": \"Shaft\", \"line\": {\"color\": \"black\", \"width\": 1.5}, \"mode\": \"lines\", \"name\": \"ShaftElement 0\", \"opacity\": 0.5, \"showlegend\": false, \"text\": \"Element Number: 0<br>Left Outer Diameter: 0.05 m<br>Left Inner Diameter: 0.0 m<br>Right Outer Diameter: 0.05 m<br>Right Inner Diameter: 0.0 m<br>Element Length: 0.5 m<br>Material: Steel<br>\", \"type\": \"scatter\", \"x\": [0.0, 0.0, 0.5, 0.5, 0.0, 0.0, 0.0, 0.5, 0.5, 0.0], \"y\": [0.0, 0.025, 0.025, 0.0, 0.0, -0.0, -0.025, -0.025, -0.0, -0.0]}, {\"customdata\": [[1, 0.05, 0.0, 0.05, 0.0, 0.5, \"Steel\"], [1, 0.05, 0.0, 0.05, 0.0, 0.5, \"Steel\"], [1, 0.05, 0.0, 0.05, 0.0, 0.5, \"Steel\"], [1, 0.05, 0.0, 0.05, 0.0, 0.5, \"Steel\"], [1, 0.05, 0.0, 0.05, 0.0, 0.5, \"Steel\"], [1, 0.05, 0.0, 0.05, 0.0, 0.5, \"Steel\"], [1, 0.05, 0.0, 0.05, 0.0, 0.5, \"Steel\"], [1, 0.05, 0.0, 0.05, 0.0, 0.5, \"Steel\"], [1, 0.05, 0.0, 0.05, 0.0, 0.5, \"Steel\"], [1, 0.05, 0.0, 0.05, 0.0, 0.5, \"Steel\"]], \"fill\": \"toself\", \"fillcolor\": \"#525252\", \"hoverinfo\": \"text\", \"hoverlabel\": {\"bgcolor\": \"#525252\"}, \"hoveron\": \"points+fills\", \"hovertemplate\": \"Element Number: 1<br>Left Outer Diameter: 0.05 m<br>Left Inner Diameter: 0.0 m<br>Right Outer Diameter: 0.05 m<br>Right Inner Diameter: 0.0 m<br>Element Length: 0.5 m<br>Material: Steel<br>\", \"legendgroup\": \"Shaft\", \"line\": {\"color\": \"black\", \"width\": 1.5}, \"mode\": \"lines\", \"name\": \"ShaftElement 1\", \"opacity\": 0.5, \"showlegend\": false, \"text\": \"Element Number: 1<br>Left Outer Diameter: 0.05 m<br>Left Inner Diameter: 0.0 m<br>Right Outer Diameter: 0.05 m<br>Right Inner Diameter: 0.0 m<br>Element Length: 0.5 m<br>Material: Steel<br>\", \"type\": \"scatter\", \"x\": [0.5, 0.5, 1.0, 1.0, 0.5, 0.5, 0.5, 1.0, 1.0, 0.5], \"y\": [0.0, 0.025, 0.025, 0.0, 0.0, -0.0, -0.025, -0.025, -0.0, -0.0]}, {\"customdata\": [[2, 0.05, 0.0, 0.05, 0.0, 0.5, \"Steel\"], [2, 0.05, 0.0, 0.05, 0.0, 0.5, \"Steel\"], [2, 0.05, 0.0, 0.05, 0.0, 0.5, \"Steel\"], [2, 0.05, 0.0, 0.05, 0.0, 0.5, \"Steel\"], [2, 0.05, 0.0, 0.05, 0.0, 0.5, \"Steel\"], [2, 0.05, 0.0, 0.05, 0.0, 0.5, \"Steel\"], [2, 0.05, 0.0, 0.05, 0.0, 0.5, \"Steel\"], [2, 0.05, 0.0, 0.05, 0.0, 0.5, \"Steel\"], [2, 0.05, 0.0, 0.05, 0.0, 0.5, \"Steel\"], [2, 0.05, 0.0, 0.05, 0.0, 0.5, \"Steel\"]], \"fill\": \"toself\", \"fillcolor\": \"#525252\", \"hoverinfo\": \"text\", \"hoverlabel\": {\"bgcolor\": \"#525252\"}, \"hoveron\": \"points+fills\", \"hovertemplate\": \"Element Number: 2<br>Left Outer Diameter: 0.05 m<br>Left Inner Diameter: 0.0 m<br>Right Outer Diameter: 0.05 m<br>Right Inner Diameter: 0.0 m<br>Element Length: 0.5 m<br>Material: Steel<br>\", \"legendgroup\": \"Shaft\", \"line\": {\"color\": \"black\", \"width\": 1.5}, \"mode\": \"lines\", \"name\": \"ShaftElement 2\", \"opacity\": 0.5, \"showlegend\": false, \"text\": \"Element Number: 2<br>Left Outer Diameter: 0.05 m<br>Left Inner Diameter: 0.0 m<br>Right Outer Diameter: 0.05 m<br>Right Inner Diameter: 0.0 m<br>Element Length: 0.5 m<br>Material: Steel<br>\", \"type\": \"scatter\", \"x\": [1.0, 1.0, 1.5, 1.5, 1.0, 1.0, 1.0, 1.5, 1.5, 1.0], \"y\": [0.0, 0.025, 0.025, 0.0, 0.0, -0.0, -0.025, -0.025, -0.0, -0.0]}, {\"customdata\": [[1, 0.32956362089137037, 0.17808928257067666, 32.58972765304033], [1, 0.32956362089137037, 0.17808928257067666, 32.58972765304033], [1, 0.32956362089137037, 0.17808928257067666, 32.58972765304033], [1, 0.32956362089137037, 0.17808928257067666, 32.58972765304033], [1, 0.32956362089137037, 0.17808928257067666, 32.58972765304033], [1, 0.32956362089137037, 0.17808928257067666, 32.58972765304033], [1, 0.32956362089137037, 0.17808928257067666, 32.58972765304033], [1, 0.32956362089137037, 0.17808928257067666, 32.58972765304033], [1, 0.32956362089137037, 0.17808928257067666, 32.58972765304033]], \"fill\": \"toself\", \"fillcolor\": \"Firebrick\", \"hoverinfo\": \"text\", \"hoverlabel\": {\"bgcolor\": \"Firebrick\"}, \"hoveron\": \"points+fills\", \"hovertemplate\": \"Disk Node: 1<br>Polar Inertia: 3.296e-01<br>Diametral Inertia: 1.781e-01<br>Disk mass: 32.590<br>\", \"legendgroup\": \"disks\", \"line\": {\"color\": \"Firebrick\", \"width\": 2.0}, \"mode\": \"lines\", \"name\": \"Disk 0\", \"showlegend\": false, \"text\": \"Disk Node: 1<br>Polar Inertia: 3.296e-01<br>Diametral Inertia: 1.781e-01<br>Disk mass: 32.590<br>\", \"type\": \"scatter\", \"x\": [0.5, 0.5083333333333333, 0.49166666666666664, 0.5, null, 0.5, 0.5083333333333333, 0.49166666666666664, 0.5], \"y\": [0.025, 0.125, 0.125, 0.025, null, -0.025, -0.125, -0.125, -0.025]}, {\"customdata\": [[2, 0.8050822048675969, 0.4235805840543383, 51.5252611115262], [2, 0.8050822048675969, 0.4235805840543383, 51.5252611115262], [2, 0.8050822048675969, 0.4235805840543383, 51.5252611115262], [2, 0.8050822048675969, 0.4235805840543383, 51.5252611115262], [2, 0.8050822048675969, 0.4235805840543383, 51.5252611115262], [2, 0.8050822048675969, 0.4235805840543383, 51.5252611115262], [2, 0.8050822048675969, 0.4235805840543383, 51.5252611115262], [2, 0.8050822048675969, 0.4235805840543383, 51.5252611115262], [2, 0.8050822048675969, 0.4235805840543383, 51.5252611115262]], \"fill\": \"toself\", \"fillcolor\": \"Firebrick\", \"hoverinfo\": \"text\", \"hoverlabel\": {\"bgcolor\": \"Firebrick\"}, \"hoveron\": \"points+fills\", \"hovertemplate\": \"Disk Node: 2<br>Polar Inertia: 8.051e-01<br>Diametral Inertia: 4.236e-01<br>Disk mass: 51.525<br>\", \"legendgroup\": \"disks\", \"line\": {\"color\": \"Firebrick\", \"width\": 2.0}, \"mode\": \"lines\", \"name\": \"Disk 1\", \"showlegend\": false, \"text\": \"Disk Node: 2<br>Polar Inertia: 8.051e-01<br>Diametral Inertia: 4.236e-01<br>Disk mass: 51.525<br>\", \"type\": \"scatter\", \"x\": [1.0, 1.0083333333333333, 0.9916666666666667, 1.0, null, 1.0, 1.0083333333333333, 0.9916666666666667, 1.0], \"y\": [0.025, 0.125, 0.125, 0.025, null, -0.025, -0.125, -0.125, -0.025]}, {\"hoverinfo\": \"none\", \"legendgroup\": \"bearings\", \"line\": {\"color\": \"#355d7a\", \"width\": 3.5}, \"mode\": \"lines\", \"name\": \"Bearing 0\", \"showlegend\": false, \"type\": \"scatter\", \"x\": [0.0, 0.0, -0.025, 0.025], \"y\": [0.025, 0.05, 0.05, 0.05]}, {\"hoverinfo\": \"none\", \"legendgroup\": \"bearings\", \"line\": {\"color\": \"#355d7a\", \"width\": 3.5}, \"mode\": \"lines\", \"name\": \"Bearing 0\", \"showlegend\": false, \"type\": \"scatter\", \"x\": [0.0, 0.0, -0.025, 0.025], \"y\": [-0.025, -0.05, -0.05, -0.05]}, {\"hoverinfo\": \"none\", \"legendgroup\": \"bearings\", \"line\": {\"color\": \"#355d7a\", \"width\": 3.5}, \"mode\": \"lines\", \"name\": \"Bearing 0\", \"showlegend\": false, \"type\": \"scatter\", \"x\": [0.0, 0.0, -0.025, 0.025], \"y\": [0.125, 0.1, 0.1, 0.1]}, {\"hoverinfo\": \"none\", \"legendgroup\": \"bearings\", \"line\": {\"color\": \"#355d7a\", \"width\": 3.5}, \"mode\": \"lines\", \"name\": \"Bearing 0\", \"showlegend\": false, \"type\": \"scatter\", \"x\": [0.0, 0.0, -0.025, 0.025], \"y\": [-0.125, -0.1, -0.1, -0.1]}, {\"hoverinfo\": \"none\", \"legendgroup\": \"bearings\", \"line\": {\"color\": \"#355d7a\", \"width\": 3.5}, \"mode\": \"lines\", \"name\": \"Bearing 0\", \"showlegend\": false, \"type\": \"scatter\", \"x\": [-0.03214285714285715, 0.03214285714285715], \"y\": [0.125, 0.125]}, {\"hoverinfo\": \"none\", \"legendgroup\": \"bearings\", \"line\": {\"color\": \"#355d7a\", \"width\": 3.5}, \"mode\": \"lines\", \"name\": \"Bearing 0\", \"showlegend\": false, \"type\": \"scatter\", \"x\": [-0.03214285714285715, 0.03214285714285715], \"y\": [-0.125, -0.125]}, {\"hoverinfo\": \"none\", \"legendgroup\": \"bearings\", \"line\": {\"color\": \"#355d7a\", \"width\": 3.5}, \"mode\": \"lines\", \"name\": \"Bearing 0\", \"showlegend\": false, \"type\": \"scatter\", \"x\": [-0.03214285714285715, -0.019285714285714288], \"y\": [0.125, 0.1375]}, {\"hoverinfo\": \"none\", \"legendgroup\": \"bearings\", \"line\": {\"color\": \"#355d7a\", \"width\": 3.5}, \"mode\": \"lines\", \"name\": \"Bearing 0\", \"showlegend\": false, \"type\": \"scatter\", \"x\": [-0.03214285714285715, -0.019285714285714288], \"y\": [-0.125, -0.1375]}, {\"hoverinfo\": \"none\", \"legendgroup\": \"bearings\", \"line\": {\"color\": \"#355d7a\", \"width\": 3.5}, \"mode\": \"lines\", \"name\": \"Bearing 0\", \"showlegend\": false, \"type\": \"scatter\", \"x\": [-0.019285714285714288, -0.006428571428571429], \"y\": [0.125, 0.1375]}, {\"hoverinfo\": \"none\", \"legendgroup\": \"bearings\", \"line\": {\"color\": \"#355d7a\", \"width\": 3.5}, \"mode\": \"lines\", \"name\": \"Bearing 0\", \"showlegend\": false, \"type\": \"scatter\", \"x\": [-0.019285714285714288, -0.006428571428571429], \"y\": [-0.125, -0.1375]}, {\"hoverinfo\": \"none\", \"legendgroup\": \"bearings\", \"line\": {\"color\": \"#355d7a\", \"width\": 3.5}, \"mode\": \"lines\", \"name\": \"Bearing 0\", \"showlegend\": false, \"type\": \"scatter\", \"x\": [-0.006428571428571429, 0.006428571428571429], \"y\": [0.125, 0.1375]}, {\"hoverinfo\": \"none\", \"legendgroup\": \"bearings\", \"line\": {\"color\": \"#355d7a\", \"width\": 3.5}, \"mode\": \"lines\", \"name\": \"Bearing 0\", \"showlegend\": false, \"type\": \"scatter\", \"x\": [-0.006428571428571429, 0.006428571428571429], \"y\": [-0.125, -0.1375]}, {\"hoverinfo\": \"none\", \"legendgroup\": \"bearings\", \"line\": {\"color\": \"#355d7a\", \"width\": 3.5}, \"mode\": \"lines\", \"name\": \"Bearing 0\", \"showlegend\": false, \"type\": \"scatter\", \"x\": [0.006428571428571429, 0.019285714285714288], \"y\": [0.125, 0.1375]}, {\"hoverinfo\": \"none\", \"legendgroup\": \"bearings\", \"line\": {\"color\": \"#355d7a\", \"width\": 3.5}, \"mode\": \"lines\", \"name\": \"Bearing 0\", \"showlegend\": false, \"type\": \"scatter\", \"x\": [0.006428571428571429, 0.019285714285714288], \"y\": [-0.125, -0.1375]}, {\"hoverinfo\": \"none\", \"legendgroup\": \"bearings\", \"line\": {\"color\": \"#355d7a\", \"width\": 3.5}, \"mode\": \"lines\", \"name\": \"Bearing 0\", \"showlegend\": false, \"type\": \"scatter\", \"x\": [0.019285714285714288, 0.03214285714285715], \"y\": [0.125, 0.1375]}, {\"hoverinfo\": \"none\", \"legendgroup\": \"bearings\", \"line\": {\"color\": \"#355d7a\", \"width\": 3.5}, \"mode\": \"lines\", \"name\": \"Bearing 0\", \"showlegend\": false, \"type\": \"scatter\", \"x\": [0.019285714285714288, 0.03214285714285715], \"y\": [-0.125, -0.1375]}, {\"hoverinfo\": \"none\", \"legendgroup\": \"bearings\", \"line\": {\"color\": \"#355d7a\", \"width\": 3.5}, \"mode\": \"lines\", \"name\": \"Bearing 0\", \"showlegend\": false, \"type\": \"scatter\", \"x\": [0.03214285714285715, 0.045000000000000005], \"y\": [0.125, 0.1375]}, {\"hoverinfo\": \"none\", \"legendgroup\": \"bearings\", \"line\": {\"color\": \"#355d7a\", \"width\": 3.5}, \"mode\": \"lines\", \"name\": \"Bearing 0\", \"showlegend\": false, \"type\": \"scatter\", \"x\": [0.03214285714285715, 0.045000000000000005], \"y\": [-0.125, -0.1375]}, {\"hoverinfo\": \"none\", \"legendgroup\": \"bearings\", \"line\": {\"color\": \"#355d7a\", \"width\": 3.5}, \"mode\": \"lines\", \"name\": \"Bearing 0\", \"showlegend\": false, \"type\": \"scatter\", \"x\": [-0.025, -0.025, -0.03214285714285715, -0.017857142857142856, -0.03214285714285715, -0.017857142857142856, -0.03214285714285715, -0.017857142857142856, -0.025, -0.025], \"y\": [0.05, 0.05714285714285715, 0.05714285714285715, 0.0642857142857143, 0.07142857142857142, 0.07857142857142857, 0.08571428571428572, 0.09285714285714286, 0.09285714285714286, 0.1]}, {\"hoverinfo\": \"none\", \"legendgroup\": \"bearings\", \"line\": {\"color\": \"#355d7a\", \"width\": 3.5}, \"mode\": \"lines\", \"name\": \"Bearing 0\", \"showlegend\": false, \"type\": \"scatter\", \"x\": [-0.025, -0.025, -0.03214285714285715, -0.017857142857142856, -0.03214285714285715, -0.017857142857142856, -0.03214285714285715, -0.017857142857142856, -0.025, -0.025], \"y\": [-0.05, -0.05714285714285715, -0.05714285714285715, -0.0642857142857143, -0.07142857142857142, -0.07857142857142857, -0.08571428571428572, -0.09285714285714286, -0.09285714285714286, -0.1]}, {\"hoverinfo\": \"none\", \"legendgroup\": \"bearings\", \"line\": {\"color\": \"#355d7a\", \"width\": 3.5}, \"mode\": \"lines\", \"name\": \"Bearing 0\", \"showlegend\": false, \"type\": \"scatter\", \"x\": [0.025, 0.025], \"y\": [0.05, 0.0642857142857143]}, {\"hoverinfo\": \"none\", \"legendgroup\": \"bearings\", \"line\": {\"color\": \"#355d7a\", \"width\": 3.5}, \"mode\": \"lines\", \"name\": \"Bearing 0\", \"showlegend\": false, \"type\": \"scatter\", \"x\": [0.025, 0.025], \"y\": [-0.05, -0.0642857142857143]}, {\"hoverinfo\": \"none\", \"legendgroup\": \"bearings\", \"line\": {\"color\": \"#355d7a\", \"width\": 3.5}, \"mode\": \"lines\", \"name\": \"Bearing 0\", \"showlegend\": false, \"type\": \"scatter\", \"x\": [0.010714285714285714, 0.010714285714285714, 0.039285714285714285, 0.039285714285714285], \"y\": [0.08571428571428572, 0.0642857142857143, 0.0642857142857143, 0.08571428571428572]}, {\"hoverinfo\": \"none\", \"legendgroup\": \"bearings\", \"line\": {\"color\": \"#355d7a\", \"width\": 3.5}, \"mode\": \"lines\", \"name\": \"Bearing 0\", \"showlegend\": false, \"type\": \"scatter\", \"x\": [0.010714285714285714, 0.010714285714285714, 0.039285714285714285, 0.039285714285714285], \"y\": [-0.08571428571428572, -0.0642857142857143, -0.0642857142857143, -0.08571428571428572]}, {\"hoverinfo\": \"none\", \"legendgroup\": \"bearings\", \"line\": {\"color\": \"#355d7a\", \"width\": 3.5}, \"mode\": \"lines\", \"name\": \"Bearing 0\", \"showlegend\": false, \"type\": \"scatter\", \"x\": [0.010714285714285714, 0.039285714285714285, 0.025, 0.025], \"y\": [0.07857142857142857, 0.07857142857142857, 0.07857142857142857, 0.1]}, {\"hoverinfo\": \"none\", \"legendgroup\": \"bearings\", \"line\": {\"color\": \"#355d7a\", \"width\": 3.5}, \"mode\": \"lines\", \"name\": \"Bearing 0\", \"showlegend\": false, \"type\": \"scatter\", \"x\": [0.010714285714285714, 0.039285714285714285, 0.025, 0.025], \"y\": [-0.07857142857142857, -0.07857142857142857, -0.07857142857142857, -0.1]}, {\"hoverinfo\": \"none\", \"legendgroup\": \"bearings\", \"line\": {\"color\": \"#355d7a\", \"width\": 3.5}, \"mode\": \"lines\", \"name\": \"Bearing 1\", \"showlegend\": false, \"type\": \"scatter\", \"x\": [1.5, 1.5, 1.475, 1.525], \"y\": [0.025, 0.05, 0.05, 0.05]}, {\"hoverinfo\": \"none\", \"legendgroup\": \"bearings\", \"line\": {\"color\": \"#355d7a\", \"width\": 3.5}, \"mode\": \"lines\", \"name\": \"Bearing 1\", \"showlegend\": false, \"type\": \"scatter\", \"x\": [1.5, 1.5, 1.475, 1.525], \"y\": [-0.025, -0.05, -0.05, -0.05]}, {\"hoverinfo\": \"none\", \"legendgroup\": \"bearings\", \"line\": {\"color\": \"#355d7a\", \"width\": 3.5}, \"mode\": \"lines\", \"name\": \"Bearing 1\", \"showlegend\": false, \"type\": \"scatter\", \"x\": [1.5, 1.5, 1.475, 1.525], \"y\": [0.125, 0.1, 0.1, 0.1]}, {\"hoverinfo\": \"none\", \"legendgroup\": \"bearings\", \"line\": {\"color\": \"#355d7a\", \"width\": 3.5}, \"mode\": \"lines\", \"name\": \"Bearing 1\", \"showlegend\": false, \"type\": \"scatter\", \"x\": [1.5, 1.5, 1.475, 1.525], \"y\": [-0.125, -0.1, -0.1, -0.1]}, {\"hoverinfo\": \"none\", \"legendgroup\": \"bearings\", \"line\": {\"color\": \"#355d7a\", \"width\": 3.5}, \"mode\": \"lines\", \"name\": \"Bearing 1\", \"showlegend\": false, \"type\": \"scatter\", \"x\": [1.467857142857143, 1.532142857142857], \"y\": [0.125, 0.125]}, {\"hoverinfo\": \"none\", \"legendgroup\": \"bearings\", \"line\": {\"color\": \"#355d7a\", \"width\": 3.5}, \"mode\": \"lines\", \"name\": \"Bearing 1\", \"showlegend\": false, \"type\": \"scatter\", \"x\": [1.467857142857143, 1.532142857142857], \"y\": [-0.125, -0.125]}, {\"hoverinfo\": \"none\", \"legendgroup\": \"bearings\", \"line\": {\"color\": \"#355d7a\", \"width\": 3.5}, \"mode\": \"lines\", \"name\": \"Bearing 1\", \"showlegend\": false, \"type\": \"scatter\", \"x\": [1.467857142857143, 1.4807142857142859], \"y\": [0.125, 0.1375]}, {\"hoverinfo\": \"none\", \"legendgroup\": \"bearings\", \"line\": {\"color\": \"#355d7a\", \"width\": 3.5}, \"mode\": \"lines\", \"name\": \"Bearing 1\", \"showlegend\": false, \"type\": \"scatter\", \"x\": [1.467857142857143, 1.4807142857142859], \"y\": [-0.125, -0.1375]}, {\"hoverinfo\": \"none\", \"legendgroup\": \"bearings\", \"line\": {\"color\": \"#355d7a\", \"width\": 3.5}, \"mode\": \"lines\", \"name\": \"Bearing 1\", \"showlegend\": false, \"type\": \"scatter\", \"x\": [1.4807142857142859, 1.4935714285714285], \"y\": [0.125, 0.1375]}, {\"hoverinfo\": \"none\", \"legendgroup\": \"bearings\", \"line\": {\"color\": \"#355d7a\", \"width\": 3.5}, \"mode\": \"lines\", \"name\": \"Bearing 1\", \"showlegend\": false, \"type\": \"scatter\", \"x\": [1.4807142857142859, 1.4935714285714285], \"y\": [-0.125, -0.1375]}, {\"hoverinfo\": \"none\", \"legendgroup\": \"bearings\", \"line\": {\"color\": \"#355d7a\", \"width\": 3.5}, \"mode\": \"lines\", \"name\": \"Bearing 1\", \"showlegend\": false, \"type\": \"scatter\", \"x\": [1.4935714285714285, 1.5064285714285715], \"y\": [0.125, 0.1375]}, {\"hoverinfo\": \"none\", \"legendgroup\": \"bearings\", \"line\": {\"color\": \"#355d7a\", \"width\": 3.5}, \"mode\": \"lines\", \"name\": \"Bearing 1\", \"showlegend\": false, \"type\": \"scatter\", \"x\": [1.4935714285714285, 1.5064285714285715], \"y\": [-0.125, -0.1375]}, {\"hoverinfo\": \"none\", \"legendgroup\": \"bearings\", \"line\": {\"color\": \"#355d7a\", \"width\": 3.5}, \"mode\": \"lines\", \"name\": \"Bearing 1\", \"showlegend\": false, \"type\": \"scatter\", \"x\": [1.5064285714285715, 1.5192857142857141], \"y\": [0.125, 0.1375]}, {\"hoverinfo\": \"none\", \"legendgroup\": \"bearings\", \"line\": {\"color\": \"#355d7a\", \"width\": 3.5}, \"mode\": \"lines\", \"name\": \"Bearing 1\", \"showlegend\": false, \"type\": \"scatter\", \"x\": [1.5064285714285715, 1.5192857142857141], \"y\": [-0.125, -0.1375]}, {\"hoverinfo\": \"none\", \"legendgroup\": \"bearings\", \"line\": {\"color\": \"#355d7a\", \"width\": 3.5}, \"mode\": \"lines\", \"name\": \"Bearing 1\", \"showlegend\": false, \"type\": \"scatter\", \"x\": [1.5192857142857141, 1.532142857142857], \"y\": [0.125, 0.1375]}, {\"hoverinfo\": \"none\", \"legendgroup\": \"bearings\", \"line\": {\"color\": \"#355d7a\", \"width\": 3.5}, \"mode\": \"lines\", \"name\": \"Bearing 1\", \"showlegend\": false, \"type\": \"scatter\", \"x\": [1.5192857142857141, 1.532142857142857], \"y\": [-0.125, -0.1375]}, {\"hoverinfo\": \"none\", \"legendgroup\": \"bearings\", \"line\": {\"color\": \"#355d7a\", \"width\": 3.5}, \"mode\": \"lines\", \"name\": \"Bearing 1\", \"showlegend\": false, \"type\": \"scatter\", \"x\": [1.532142857142857, 1.545], \"y\": [0.125, 0.1375]}, {\"hoverinfo\": \"none\", \"legendgroup\": \"bearings\", \"line\": {\"color\": \"#355d7a\", \"width\": 3.5}, \"mode\": \"lines\", \"name\": \"Bearing 1\", \"showlegend\": false, \"type\": \"scatter\", \"x\": [1.532142857142857, 1.545], \"y\": [-0.125, -0.1375]}, {\"hoverinfo\": \"none\", \"legendgroup\": \"bearings\", \"line\": {\"color\": \"#355d7a\", \"width\": 3.5}, \"mode\": \"lines\", \"name\": \"Bearing 1\", \"showlegend\": false, \"type\": \"scatter\", \"x\": [1.475, 1.475, 1.467857142857143, 1.4821428571428572, 1.467857142857143, 1.4821428571428572, 1.467857142857143, 1.4821428571428572, 1.475, 1.475], \"y\": [0.05, 0.05714285714285715, 0.05714285714285715, 0.0642857142857143, 0.07142857142857142, 0.07857142857142857, 0.08571428571428572, 0.09285714285714286, 0.09285714285714286, 0.1]}, {\"hoverinfo\": \"none\", \"legendgroup\": \"bearings\", \"line\": {\"color\": \"#355d7a\", \"width\": 3.5}, \"mode\": \"lines\", \"name\": \"Bearing 1\", \"showlegend\": false, \"type\": \"scatter\", \"x\": [1.475, 1.475, 1.467857142857143, 1.4821428571428572, 1.467857142857143, 1.4821428571428572, 1.467857142857143, 1.4821428571428572, 1.475, 1.475], \"y\": [-0.05, -0.05714285714285715, -0.05714285714285715, -0.0642857142857143, -0.07142857142857142, -0.07857142857142857, -0.08571428571428572, -0.09285714285714286, -0.09285714285714286, -0.1]}, {\"hoverinfo\": \"none\", \"legendgroup\": \"bearings\", \"line\": {\"color\": \"#355d7a\", \"width\": 3.5}, \"mode\": \"lines\", \"name\": \"Bearing 1\", \"showlegend\": false, \"type\": \"scatter\", \"x\": [1.525, 1.525], \"y\": [0.05, 0.0642857142857143]}, {\"hoverinfo\": \"none\", \"legendgroup\": \"bearings\", \"line\": {\"color\": \"#355d7a\", \"width\": 3.5}, \"mode\": \"lines\", \"name\": \"Bearing 1\", \"showlegend\": false, \"type\": \"scatter\", \"x\": [1.525, 1.525], \"y\": [-0.05, -0.0642857142857143]}, {\"hoverinfo\": \"none\", \"legendgroup\": \"bearings\", \"line\": {\"color\": \"#355d7a\", \"width\": 3.5}, \"mode\": \"lines\", \"name\": \"Bearing 1\", \"showlegend\": false, \"type\": \"scatter\", \"x\": [1.5107142857142857, 1.5107142857142857, 1.5392857142857141, 1.5392857142857141], \"y\": [0.08571428571428572, 0.0642857142857143, 0.0642857142857143, 0.08571428571428572]}, {\"hoverinfo\": \"none\", \"legendgroup\": \"bearings\", \"line\": {\"color\": \"#355d7a\", \"width\": 3.5}, \"mode\": \"lines\", \"name\": \"Bearing 1\", \"showlegend\": false, \"type\": \"scatter\", \"x\": [1.5107142857142857, 1.5107142857142857, 1.5392857142857141, 1.5392857142857141], \"y\": [-0.08571428571428572, -0.0642857142857143, -0.0642857142857143, -0.08571428571428572]}, {\"hoverinfo\": \"none\", \"legendgroup\": \"bearings\", \"line\": {\"color\": \"#355d7a\", \"width\": 3.5}, \"mode\": \"lines\", \"name\": \"Bearing 1\", \"showlegend\": false, \"type\": \"scatter\", \"x\": [1.5107142857142857, 1.5392857142857141, 1.525, 1.525], \"y\": [0.07857142857142857, 0.07857142857142857, 0.07857142857142857, 0.1]}, {\"hoverinfo\": \"none\", \"legendgroup\": \"bearings\", \"line\": {\"color\": \"#355d7a\", \"width\": 3.5}, \"mode\": \"lines\", \"name\": \"Bearing 1\", \"showlegend\": false, \"type\": \"scatter\", \"x\": [1.5107142857142857, 1.5392857142857141, 1.525, 1.525], \"y\": [-0.07857142857142857, -0.07857142857142857, -0.07857142857142857, -0.1]}],\n",
       "                        {\"shapes\": [{\"fillcolor\": \"Firebrick\", \"line\": {\"color\": \"Firebrick\"}, \"type\": \"circle\", \"x0\": 0.5083333333333333, \"x1\": 0.49166666666666664, \"xref\": \"x\", \"y0\": 0.11666666666666667, \"y1\": 0.13333333333333333, \"yref\": \"y\"}, {\"fillcolor\": \"Firebrick\", \"line\": {\"color\": \"Firebrick\"}, \"type\": \"circle\", \"x0\": 0.5083333333333333, \"x1\": 0.49166666666666664, \"xref\": \"x\", \"y0\": -0.11666666666666667, \"y1\": -0.13333333333333333, \"yref\": \"y\"}, {\"fillcolor\": \"Firebrick\", \"line\": {\"color\": \"Firebrick\"}, \"type\": \"circle\", \"x0\": 1.0083333333333333, \"x1\": 0.9916666666666667, \"xref\": \"x\", \"y0\": 0.11666666666666667, \"y1\": 0.13333333333333333, \"yref\": \"y\"}, {\"fillcolor\": \"Firebrick\", \"line\": {\"color\": \"Firebrick\"}, \"type\": \"circle\", \"x0\": 1.0083333333333333, \"x1\": 0.9916666666666667, \"xref\": \"x\", \"y0\": -0.11666666666666667, \"y1\": -0.13333333333333333, \"yref\": \"y\"}], \"template\": {\"data\": {\"bar\": [{\"error_x\": {\"color\": \"#2a3f5f\"}, \"error_y\": {\"color\": \"#2a3f5f\"}, \"marker\": {\"line\": {\"color\": \"white\", \"width\": 0.5}}, \"type\": \"bar\"}], \"barpolar\": [{\"marker\": {\"line\": {\"color\": \"white\", \"width\": 0.5}}, \"type\": \"barpolar\"}], \"carpet\": [{\"aaxis\": {\"endlinecolor\": \"#2a3f5f\", \"gridcolor\": \"#C8D4E3\", \"linecolor\": \"#C8D4E3\", \"minorgridcolor\": \"#C8D4E3\", \"startlinecolor\": \"#2a3f5f\"}, \"baxis\": {\"endlinecolor\": \"#2a3f5f\", \"gridcolor\": \"#C8D4E3\", \"linecolor\": \"#C8D4E3\", \"minorgridcolor\": \"#C8D4E3\", \"startlinecolor\": \"#2a3f5f\"}, \"type\": \"carpet\"}], \"choropleth\": [{\"colorbar\": {\"outlinewidth\": 0, \"ticks\": \"\"}, \"type\": \"choropleth\"}], \"contour\": [{\"colorbar\": {\"outlinewidth\": 0, \"ticks\": \"\"}, \"colorscale\": [[0.0, \"#0d0887\"], [0.1111111111111111, \"#46039f\"], [0.2222222222222222, \"#7201a8\"], [0.3333333333333333, \"#9c179e\"], [0.4444444444444444, \"#bd3786\"], [0.5555555555555556, \"#d8576b\"], [0.6666666666666666, \"#ed7953\"], [0.7777777777777778, \"#fb9f3a\"], [0.8888888888888888, \"#fdca26\"], [1.0, \"#f0f921\"]], \"type\": \"contour\"}], \"contourcarpet\": [{\"colorbar\": {\"outlinewidth\": 0, \"ticks\": \"\"}, \"type\": \"contourcarpet\"}], \"heatmap\": [{\"colorbar\": {\"outlinewidth\": 0, \"ticks\": \"\"}, \"colorscale\": [[0.0, \"#0d0887\"], [0.1111111111111111, \"#46039f\"], [0.2222222222222222, \"#7201a8\"], [0.3333333333333333, \"#9c179e\"], [0.4444444444444444, \"#bd3786\"], [0.5555555555555556, \"#d8576b\"], [0.6666666666666666, \"#ed7953\"], [0.7777777777777778, \"#fb9f3a\"], [0.8888888888888888, \"#fdca26\"], [1.0, \"#f0f921\"]], \"type\": \"heatmap\"}], \"heatmapgl\": [{\"colorbar\": {\"outlinewidth\": 0, \"ticks\": \"\"}, \"colorscale\": [[0.0, \"#0d0887\"], [0.1111111111111111, \"#46039f\"], [0.2222222222222222, \"#7201a8\"], [0.3333333333333333, \"#9c179e\"], [0.4444444444444444, \"#bd3786\"], [0.5555555555555556, \"#d8576b\"], [0.6666666666666666, \"#ed7953\"], [0.7777777777777778, \"#fb9f3a\"], [0.8888888888888888, \"#fdca26\"], [1.0, \"#f0f921\"]], \"type\": \"heatmapgl\"}], \"histogram\": [{\"marker\": {\"colorbar\": {\"outlinewidth\": 0, \"ticks\": \"\"}}, \"type\": \"histogram\"}], \"histogram2d\": [{\"colorbar\": {\"outlinewidth\": 0, \"ticks\": \"\"}, \"colorscale\": [[0.0, \"#0d0887\"], [0.1111111111111111, \"#46039f\"], [0.2222222222222222, \"#7201a8\"], [0.3333333333333333, \"#9c179e\"], [0.4444444444444444, \"#bd3786\"], [0.5555555555555556, \"#d8576b\"], [0.6666666666666666, \"#ed7953\"], [0.7777777777777778, \"#fb9f3a\"], [0.8888888888888888, \"#fdca26\"], [1.0, \"#f0f921\"]], \"type\": \"histogram2d\"}], \"histogram2dcontour\": [{\"colorbar\": {\"outlinewidth\": 0, \"ticks\": \"\"}, \"colorscale\": [[0.0, \"#0d0887\"], [0.1111111111111111, \"#46039f\"], [0.2222222222222222, \"#7201a8\"], [0.3333333333333333, \"#9c179e\"], [0.4444444444444444, \"#bd3786\"], [0.5555555555555556, \"#d8576b\"], [0.6666666666666666, \"#ed7953\"], [0.7777777777777778, \"#fb9f3a\"], [0.8888888888888888, \"#fdca26\"], [1.0, \"#f0f921\"]], \"type\": \"histogram2dcontour\"}], \"mesh3d\": [{\"colorbar\": {\"outlinewidth\": 0, \"ticks\": \"\"}, \"type\": \"mesh3d\"}], \"parcoords\": [{\"line\": {\"colorbar\": {\"outlinewidth\": 0, \"ticks\": \"\"}}, \"type\": \"parcoords\"}], \"pie\": [{\"automargin\": true, \"type\": \"pie\"}], \"scatter\": [{\"marker\": {\"colorbar\": {\"outlinewidth\": 0, \"ticks\": \"\"}}, \"type\": \"scatter\"}], \"scatter3d\": [{\"line\": {\"colorbar\": {\"outlinewidth\": 0, \"ticks\": \"\"}}, \"marker\": {\"colorbar\": {\"outlinewidth\": 0, \"ticks\": \"\"}}, \"type\": \"scatter3d\"}], \"scattercarpet\": [{\"marker\": {\"colorbar\": {\"outlinewidth\": 0, \"ticks\": \"\"}}, \"type\": \"scattercarpet\"}], \"scattergeo\": [{\"marker\": {\"colorbar\": {\"outlinewidth\": 0, \"ticks\": \"\"}}, \"type\": \"scattergeo\"}], \"scattergl\": [{\"marker\": {\"colorbar\": {\"outlinewidth\": 0, \"ticks\": \"\"}}, \"type\": \"scattergl\"}], \"scattermapbox\": [{\"marker\": {\"colorbar\": {\"outlinewidth\": 0, \"ticks\": \"\"}}, \"type\": \"scattermapbox\"}], \"scatterpolar\": [{\"marker\": {\"colorbar\": {\"outlinewidth\": 0, \"ticks\": \"\"}}, \"type\": \"scatterpolar\"}], \"scatterpolargl\": [{\"marker\": {\"colorbar\": {\"outlinewidth\": 0, \"ticks\": \"\"}}, \"type\": \"scatterpolargl\"}], \"scatterternary\": [{\"marker\": {\"colorbar\": {\"outlinewidth\": 0, \"ticks\": \"\"}}, \"type\": \"scatterternary\"}], \"surface\": [{\"colorbar\": {\"outlinewidth\": 0, \"ticks\": \"\"}, \"colorscale\": [[0.0, \"#0d0887\"], [0.1111111111111111, \"#46039f\"], [0.2222222222222222, \"#7201a8\"], [0.3333333333333333, \"#9c179e\"], [0.4444444444444444, \"#bd3786\"], [0.5555555555555556, \"#d8576b\"], [0.6666666666666666, \"#ed7953\"], [0.7777777777777778, \"#fb9f3a\"], [0.8888888888888888, \"#fdca26\"], [1.0, \"#f0f921\"]], \"type\": \"surface\"}], \"table\": [{\"cells\": {\"fill\": {\"color\": \"#EBF0F8\"}, \"line\": {\"color\": \"white\"}}, \"header\": {\"fill\": {\"color\": \"#C8D4E3\"}, \"line\": {\"color\": \"white\"}}, \"type\": \"table\"}]}, \"layout\": {\"annotationdefaults\": {\"arrowcolor\": \"#2a3f5f\", \"arrowhead\": 0, \"arrowwidth\": 1}, \"coloraxis\": {\"colorbar\": {\"outlinewidth\": 0, \"ticks\": \"\"}}, \"colorscale\": {\"diverging\": [[0, \"#8e0152\"], [0.1, \"#c51b7d\"], [0.2, \"#de77ae\"], [0.3, \"#f1b6da\"], [0.4, \"#fde0ef\"], [0.5, \"#f7f7f7\"], [0.6, \"#e6f5d0\"], [0.7, \"#b8e186\"], [0.8, \"#7fbc41\"], [0.9, \"#4d9221\"], [1, \"#276419\"]], \"sequential\": [[0.0, \"#0d0887\"], [0.1111111111111111, \"#46039f\"], [0.2222222222222222, \"#7201a8\"], [0.3333333333333333, \"#9c179e\"], [0.4444444444444444, \"#bd3786\"], [0.5555555555555556, \"#d8576b\"], [0.6666666666666666, \"#ed7953\"], [0.7777777777777778, \"#fb9f3a\"], [0.8888888888888888, \"#fdca26\"], [1.0, \"#f0f921\"]], \"sequentialminus\": [[0.0, \"#0d0887\"], [0.1111111111111111, \"#46039f\"], [0.2222222222222222, \"#7201a8\"], [0.3333333333333333, \"#9c179e\"], [0.4444444444444444, \"#bd3786\"], [0.5555555555555556, \"#d8576b\"], [0.6666666666666666, \"#ed7953\"], [0.7777777777777778, \"#fb9f3a\"], [0.8888888888888888, \"#fdca26\"], [1.0, \"#f0f921\"]]}, \"colorway\": [\"#1f77b4\", \"#ff7f0e\", \"#2ca02c\", \"#d62728\", \"#9467bd\", \"#8c564b\", \"#e377c2\", \"#7f7f7f\", \"#bcbd22\", \"#17becf\"], \"font\": {\"color\": \"#2a3f5f\"}, \"geo\": {\"bgcolor\": \"white\", \"lakecolor\": \"white\", \"landcolor\": \"white\", \"showlakes\": true, \"showland\": true, \"subunitcolor\": \"#C8D4E3\"}, \"hoverlabel\": {\"align\": \"left\"}, \"hovermode\": \"closest\", \"mapbox\": {\"style\": \"light\"}, \"paper_bgcolor\": \"white\", \"plot_bgcolor\": \"white\", \"polar\": {\"angularaxis\": {\"gridcolor\": \"#EBF0F8\", \"linecolor\": \"#EBF0F8\", \"ticks\": \"\"}, \"bgcolor\": \"white\", \"radialaxis\": {\"gridcolor\": \"#EBF0F8\", \"linecolor\": \"#EBF0F8\", \"ticks\": \"\"}}, \"scene\": {\"camera\": {\"center\": {\"x\": 0, \"y\": 0, \"z\": 0}, \"eye\": {\"x\": 2.0, \"y\": 2.0, \"z\": 2.0}, \"up\": {\"x\": 0, \"y\": 0, \"z\": 1}}, \"xaxis\": {\"backgroundcolor\": \"white\", \"gridcolor\": \"#DFE8F3\", \"gridwidth\": 2, \"linecolor\": \"#EBF0F8\", \"showbackground\": true, \"showspikes\": false, \"ticks\": \"\", \"zerolinecolor\": \"#EBF0F8\"}, \"yaxis\": {\"backgroundcolor\": \"white\", \"gridcolor\": \"#DFE8F3\", \"gridwidth\": 2, \"linecolor\": \"#EBF0F8\", \"showbackground\": true, \"showspikes\": false, \"ticks\": \"\", \"zerolinecolor\": \"#EBF0F8\"}, \"zaxis\": {\"backgroundcolor\": \"white\", \"gridcolor\": \"#DFE8F3\", \"gridwidth\": 2, \"linecolor\": \"#EBF0F8\", \"showbackground\": true, \"showspikes\": false, \"ticks\": \"\", \"zerolinecolor\": \"#EBF0F8\"}}, \"shapedefaults\": {\"line\": {\"color\": \"#2a3f5f\"}}, \"ternary\": {\"aaxis\": {\"gridcolor\": \"#DFE8F3\", \"linecolor\": \"#A2B1C6\", \"ticks\": \"\"}, \"baxis\": {\"gridcolor\": \"#DFE8F3\", \"linecolor\": \"#A2B1C6\", \"ticks\": \"\"}, \"bgcolor\": \"white\", \"caxis\": {\"gridcolor\": \"#DFE8F3\", \"linecolor\": \"#A2B1C6\", \"ticks\": \"\"}}, \"title\": {\"x\": 0.05}, \"xaxis\": {\"automargin\": true, \"gridcolor\": \"#EBF0F8\", \"linecolor\": \"black\", \"linewidth\": 2.0, \"mirror\": true, \"showline\": true, \"ticks\": \"\", \"title\": {\"standoff\": 15}, \"zeroline\": false, \"zerolinecolor\": \"#EBF0F8\", \"zerolinewidth\": 2}, \"yaxis\": {\"automargin\": true, \"gridcolor\": \"#EBF0F8\", \"linecolor\": \"black\", \"linewidth\": 2.0, \"mirror\": true, \"showline\": true, \"ticks\": \"\", \"title\": {\"standoff\": 15}, \"zeroline\": false, \"zerolinecolor\": \"#EBF0F8\", \"zerolinewidth\": 2}}}, \"title\": {\"text\": \"Rotor Model\"}, \"xaxis\": {\"mirror\": true, \"range\": [-0.15000000000000002, 1.6500000000000001], \"showgrid\": false, \"title\": {\"text\": \"Axial location (m)\"}}, \"yaxis\": {\"mirror\": true, \"range\": [-0.44999999999999996, 0.44999999999999996], \"showgrid\": false, \"title\": {\"text\": \"Shaft radius (m)\"}}},\n",
       "                        {\"responsive\": true}\n",
       "                    ).then(function(){\n",
       "                            \n",
       "var gd = document.getElementById('9a715aae-5902-4f78-b516-6dbbca139a34');\n",
       "var x = new MutationObserver(function (mutations, observer) {{\n",
       "        var display = window.getComputedStyle(gd).display;\n",
       "        if (!display || display === 'none') {{\n",
       "            console.log([gd, 'removed!']);\n",
       "            Plotly.purge(gd);\n",
       "            observer.disconnect();\n",
       "        }}\n",
       "}});\n",
       "\n",
       "// Listen for the removal of the full notebook cells\n",
       "var notebookContainer = gd.closest('#notebook-container');\n",
       "if (notebookContainer) {{\n",
       "    x.observe(notebookContainer, {childList: true});\n",
       "}}\n",
       "\n",
       "// Listen for the clearing of the current output cell\n",
       "var outputEl = gd.closest('.output');\n",
       "if (outputEl) {{\n",
       "    x.observe(outputEl, {childList: true});\n",
       "}}\n",
       "\n",
       "                        })\n",
       "                };\n",
       "                });\n",
       "            </script>\n",
       "        </div>"
      ]
     },
     "metadata": {},
     "output_type": "display_data"
    }
   ],
   "source": [
    "#From_section class method instantiation.\n",
    "bearing_seal_elements = []\n",
    "disk_elements = []\n",
    "shaft_length_data = 3*[0.5]\n",
    "i_d = 3*[0]\n",
    "o_d = 3*[0.05]\n",
    "\n",
    "disk_elements.append(rs.DiskElement.from_geometry(n=1,\n",
    "                                                  material=steel, \n",
    "                                                  width=0.07,\n",
    "                                                  i_d=0.05, \n",
    "                                                  o_d=0.28\n",
    "                                                 )\n",
    "                    )\n",
    "\n",
    "disk_elements.append(rs.DiskElement.from_geometry(n=2,\n",
    "                                                  material=steel, \n",
    "                                                  width=0.07,\n",
    "                                                  i_d=0.05, \n",
    "                                                  o_d=0.35\n",
    "                                                 )\n",
    "                    )\n",
    "bearing_seal_elements.append(rs.BearingElement(n=0, kxx=1e6, kyy=1e6, cxx=3e3, cyy=3e3))\n",
    "bearing_seal_elements.append(rs.BearingElement(n=3, kxx=1e6, kyy=1e6, cxx=3e3, cyy=3e3))\n",
    "\n",
    "rotor595fs = rs.Rotor.from_section(brg_seal_data=bearing_seal_elements,\n",
    "                                   disk_data=disk_elements,leng_data=shaft_length_data,\n",
    "                                   idl_data=i_d,odl_data=o_d, material_data=steel\n",
    "                                  )\n",
    "rotor595fs.plot_rotor()"
   ]
  },
  {
   "cell_type": "code",
   "execution_count": 4,
   "metadata": {},
   "outputs": [
    {
     "name": "stdout",
     "output_type": "stream",
     "text": [
      "Normal Instantiation = [ 834.32208726  834.32208726 2890.65742361 2890.65742361 8223.63465109\n",
      " 8223.63465124] [RPM]\n",
      "\n",
      "\n",
      "From Section Instantiation = [ 834.33341919  834.33341919 2891.57258897 2891.57258897 8174.61783181\n",
      " 8174.61783194] [RPM]\n"
     ]
    }
   ],
   "source": [
    "#Obtaining results for w=0\n",
    "\n",
    "modal595c = rotor595c.run_modal(0)\n",
    "modal595fs = rotor595fs.run_modal(0)\n",
    "\n",
    "print('Normal Instantiation =', modal595c.wn * 60 /(2*np.pi),'[RPM]')\n",
    "print('\\n')\n",
    "print('From Section Instantiation =', modal595fs.wn * 60 /(2*np.pi),'[RPM]')"
   ]
  },
  {
   "cell_type": "code",
   "execution_count": 8,
   "metadata": {},
   "outputs": [
    {
     "name": "stdout",
     "output_type": "stream",
     "text": [
      "Normal Instantiation = [ 821.83844862  845.51158264 2616.47783213 3130.72229886 7341.91366689\n",
      " 8988.3623389 ] [RPM]\n"
     ]
    }
   ],
   "source": [
    "#Obtaining results for w=4000RPM \n",
    "\n",
    "modal595c = rotor595c.run_modal(4000*np.pi/30)  # speed input in rad/s\n",
    "print('Normal Instantiation =', modal595c.wn * 60 /(2*np.pi),'[RPM]')"
   ]
  },
  {
   "cell_type": "code",
   "execution_count": 10,
   "metadata": {},
   "outputs": [
    {
     "data": {
      "application/vnd.plotly.v1+json": {
       "config": {
        "plotlyServerURL": "https://plot.ly"
       },
       "data": [
        {
         "hovertemplate": "Frequency (rpm): %{x:.2f}<br>Critical Speed (rpm): %{y:.2f}",
         "legendgroup": "Crit. Speed",
         "marker": {
          "color": "black",
          "symbol": "x"
         },
         "mode": "markers",
         "name": "Crit. Speed",
         "showlegend": false,
         "type": "scatter",
         "x": [
          830.8023007064226
         ],
         "y": [
          830.8023007064226
         ]
        },
        {
         "hoverinfo": "none",
         "legendgroup": "Foward",
         "marker": {
          "color": [],
          "coloraxis": "coloraxis",
          "symbol": "triangle-up"
         },
         "mode": "markers",
         "name": "Foward",
         "showlegend": false,
         "type": "scatter",
         "x": [],
         "y": []
        },
        {
         "hovertemplate": "Frequency (rpm): %{x:.2f}<br>Critical Speed (rpm): %{y:.2f}",
         "legendgroup": "Crit. Speed",
         "marker": {
          "color": "black",
          "symbol": "x"
         },
         "mode": "markers",
         "name": "Crit. Speed",
         "showlegend": false,
         "type": "scatter",
         "x": [
          835.6596264283542
         ],
         "y": [
          835.6596264283542
         ]
        },
        {
         "hoverinfo": "none",
         "legendgroup": "Foward",
         "marker": {
          "color": [
           0.3189400275877789,
           0.31933212624105595,
           0.31972351690238876,
           0.32011419994422957,
           0.3205041757563358,
           0.3208934447437148,
           0.3212820073281286,
           0.32166986394627783,
           0.32205701505074463,
           0.3224434611092964,
           0.32282920260488424,
           0.32321424003473737,
           0.3235985739115033,
           0.3239822047612613,
           0.32436513312546444,
           0.324747359558373,
           0.32512888462810474,
           0.3255097089172507,
           0.32588983302113533,
           0.3262692575482556,
           0.3266479831202153,
           0.3270260103709033,
           0.3274033399476477,
           0.327779972509069,
           0.3281559087269691,
           0.32853114928477134,
           0.32890569487738375,
           0.32927954621172856,
           0.3296527040060384,
           0.3300251689899037,
           0.33039694190395263,
           0.3307680234994499,
           0.33113841453892756,
           0.33150811579506023,
           0.33187712805092157,
           0.3322454521001401,
           0.3326130887460426,
           0.33298003880218796,
           0.33334630309107904,
           0.3337118824460853,
           0.33407677770871047,
           0.3344409897303626,
           0.33480451937153416,
           0.3351673675014991,
           0.3355295349981949,
           0.3358910227486973,
           0.33625183164775996,
           0.33661196259898823,
           0.3369714165141619
          ],
          "coloraxis": "coloraxis",
          "symbol": "triangle-up"
         },
         "mode": "markers",
         "name": "Foward",
         "showlegend": false,
         "type": "scatter",
         "x": [
          81.63265306122449,
          163.26530612244898,
          244.89795918367346,
          326.53061224489795,
          408.1632653061224,
          489.7959183673469,
          571.4285714285714,
          653.0612244897959,
          734.6938775510204,
          816.3265306122448,
          897.9591836734694,
          979.5918367346939,
          1061.2244897959183,
          1142.857142857143,
          1224.4897959183672,
          1306.1224489795918,
          1387.7551020408164,
          1469.3877551020407,
          1551.020408163265,
          1632.6530612244896,
          1714.2857142857144,
          1795.9183673469388,
          1877.5510204081631,
          1959.1836734693877,
          2040.8163265306123,
          2122.4489795918366,
          2204.081632653061,
          2285.714285714286,
          2367.3469387755104,
          2448.9795918367345,
          2530.612244897959,
          2612.2448979591836,
          2693.877551020408,
          2775.5102040816328,
          2857.142857142857,
          2938.7755102040815,
          3020.408163265306,
          3102.04081632653,
          3183.6734693877547,
          3265.3061224489793,
          3346.9387755102043,
          3428.571428571429,
          3510.204081632653,
          3591.8367346938776,
          3673.469387755102,
          3755.1020408163263,
          3836.734693877551,
          3918.3673469387754,
          4000
         ],
         "y": [
          833.4895674304535,
          833.7266887243345,
          833.963276345375,
          834.1993320272587,
          834.4348574978059,
          834.6698544788718,
          834.9043246863861,
          835.1382698303314,
          835.3716916148348,
          835.6045917379876,
          835.8369718920904,
          836.0688337635142,
          836.3001790326708,
          836.5310093741928,
          836.7613264567266,
          836.9911319430792,
          837.2204274902452,
          837.4492147492706,
          837.67749536544,
          837.9052709781525,
          838.1325432209859,
          838.3593137216232,
          838.5855841021137,
          838.8113559785178,
          839.0366309612435,
          839.2614106547999,
          839.4856966579846,
          839.7094905638372,
          839.9327939596427,
          840.1556084268898,
          840.3779355414562,
          840.599776873365,
          840.8211339870379,
          841.0420084411446,
          841.262401788705,
          841.4823155770143,
          841.701751347824,
          841.9207106370919,
          842.1391949752787,
          842.3572058871035,
          842.5747448917526,
          842.7918135028078,
          843.008413228257,
          843.2245455705511,
          843.4402120265356,
          843.6554140875417,
          843.8701532393986,
          844.0844309623349,
          844.2982487312191
         ]
        },
        {
         "hovertemplate": "Frequency (rpm): %{x:.2f}<br>Critical Speed (rpm): %{y:.2f}",
         "legendgroup": "Crit. Speed",
         "marker": {
          "color": "black",
          "symbol": "x"
         },
         "mode": "markers",
         "name": "Crit. Speed",
         "showlegend": false,
         "type": "scatter",
         "x": [
          2615.541435983441
         ],
         "y": [
          2615.541435983441
         ]
        },
        {
         "hoverinfo": "none",
         "legendgroup": "Foward",
         "marker": {
          "color": [],
          "coloraxis": "coloraxis",
          "symbol": "triangle-up"
         },
         "mode": "markers",
         "name": "Foward",
         "showlegend": false,
         "type": "scatter",
         "x": [],
         "y": []
        },
        {
         "hovertemplate": "Frequency (rpm): %{x:.2f}<br>Critical Speed (rpm): %{y:.2f}",
         "legendgroup": "Crit. Speed",
         "marker": {
          "color": "black",
          "symbol": "x"
         },
         "mode": "markers",
         "name": "Crit. Speed",
         "showlegend": false,
         "type": "scatter",
         "x": [
          2979.2853336655644
         ],
         "y": [
          2979.2853336655644
         ]
        },
        {
         "hoverinfo": "none",
         "legendgroup": "Foward",
         "marker": {
          "color": [
           1.6811331632224586,
           1.6788572169849807,
           1.6765647122553033,
           1.6742559961462207,
           1.6719314140155543,
           1.6695913093592913,
           1.6672360237633688,
           1.6648658967349854,
           1.6624812656799803,
           1.660082465775761,
           1.657669829901517,
           1.6552436885958606,
           1.6528043698969261,
           1.6503521993675645,
           1.647887499968323,
           1.645410592001298,
           1.6429217930551876,
           1.6404214179596581,
           1.6379097787251515,
           1.635387184452988,
           1.6328539413652146,
           1.6303103527026588,
           1.6277567186654434,
           1.6251933364344577,
           1.622620500089106,
           1.6200385006089895,
           1.6174476258064954,
           1.614848160320242,
           1.6122403855790728,
           1.609624579807272,
           1.6070010179655472,
           1.60436997175652,
           1.6017317096019288,
           1.5990864966354208,
           1.5964345946762786,
           1.5937762622495106,
           1.5911117545426785,
           1.5884413234230674,
           1.5857652174444878,
           1.5830836818255989,
           1.5803969584536868,
           1.5777052858897835,
           1.575008899381071,
           1.5723080308598214,
           1.569602908950678,
           1.5668937589652348,
           1.5641808029512474,
           1.561464259659571,
           1.558744344593886,
           1.5560212699832376
          ],
          "coloraxis": "coloraxis",
          "symbol": "triangle-up"
         },
         "mode": "markers",
         "name": "Foward",
         "showlegend": false,
         "type": "scatter",
         "x": [
          0,
          81.63265306122449,
          163.26530612244898,
          244.89795918367346,
          326.53061224489795,
          408.1632653061224,
          489.7959183673469,
          571.4285714285714,
          653.0612244897959,
          734.6938775510204,
          816.3265306122448,
          897.9591836734694,
          979.5918367346939,
          1061.2244897959183,
          1142.857142857143,
          1224.4897959183672,
          1306.1224489795918,
          1387.7551020408164,
          1469.3877551020407,
          1551.020408163265,
          1632.6530612244896,
          1714.2857142857144,
          1795.9183673469388,
          1877.5510204081631,
          1959.1836734693877,
          2040.8163265306123,
          2122.4489795918366,
          2204.081632653061,
          2285.714285714286,
          2367.3469387755104,
          2448.9795918367345,
          2530.612244897959,
          2612.2448979591836,
          2693.877551020408,
          2775.5102040816328,
          2857.142857142857,
          2938.7755102040815,
          3020.408163265306,
          3102.04081632653,
          3183.6734693877547,
          3265.3061224489793,
          3346.9387755102043,
          3428.571428571429,
          3510.204081632653,
          3591.8367346938776,
          3673.469387755102,
          3755.1020408163263,
          3836.734693877551,
          3918.3673469387754,
          4000
         ],
         "y": [
          2792.431719429874,
          2797.784489973193,
          2803.125345522406,
          2808.4541574977106,
          2813.7708001820783,
          2819.075150749527,
          2824.3670892388204,
          2829.6464985417965,
          2834.913264406154,
          2840.1672754251545,
          2845.408423025427,
          2850.6366014459913,
          2855.8517077259958,
          2861.0536416980844,
          2866.2423059710527,
          2871.417605898563,
          2876.579449593481,
          2881.727747855252,
          2886.86241419926,
          2891.98336481034,
          2897.0905185359525,
          2902.183796831183,
          2907.2631237774995,
          2912.3284260427654,
          2917.379632828591,
          2922.4166758826696,
          2927.439489447911,
          2932.44801026195,
          2937.442177488218,
          2942.421932722848,
          2947.387219951265,
          2952.337985524541,
          2957.2741781220648,
          2962.1957487381555,
          2967.1026506309718,
          2971.9948392983088,
          2976.872272454156,
          2981.734910003631,
          2986.582713988574,
          2991.4156485699546,
          2996.2336800012035,
          3001.03677659809,
          3005.8249086795213,
          3010.5980485737523,
          3015.356170569291,
          3020.0992508713657,
          3024.827267591724,
          3029.540200703714,
          3034.238032010061,
          3038.920745123143
         ]
        },
        {
         "hovertemplate": "Frequency (rpm): %{x:.2f}<br>Critical Speed (rpm): %{y:.2f}",
         "legendgroup": "Crit. Speed",
         "marker": {
          "color": "black",
          "symbol": "x"
         },
         "mode": "markers",
         "name": "Crit. Speed",
         "showlegend": false,
         "type": "scatter",
         "x": [],
         "y": []
        },
        {
         "hoverinfo": "none",
         "legendgroup": "Foward",
         "marker": {
          "color": [
           5.488406171434096
          ],
          "coloraxis": "coloraxis",
          "symbol": "triangle-up"
         },
         "mode": "markers",
         "name": "Foward",
         "showlegend": false,
         "type": "scatter",
         "x": [
          0
         ],
         "y": [
          6193.496184024019
         ]
        },
        {
         "hovertemplate": "Frequency (rpm): %{x:.2f}<br>Critical Speed (rpm): %{y:.2f}",
         "legendgroup": "Crit. Speed",
         "marker": {
          "color": "black",
          "symbol": "x"
         },
         "mode": "markers",
         "name": "Crit. Speed",
         "showlegend": false,
         "type": "scatter",
         "x": [],
         "y": []
        },
        {
         "hoverinfo": "none",
         "legendgroup": "Foward",
         "marker": {
          "color": [
           5.51268539747102,
           5.536628074511135,
           5.560235866780335,
           5.583510422631582,
           5.606453377497845,
           5.6290663578515465,
           5.651350984533358,
           5.673308875989687,
           5.694941651702036,
           5.71625093567891,
           5.7372383588957705,
           5.757905562719432,
           5.778254201513273,
           5.798285945075343,
           5.818002481478396,
           5.837405519070954,
           5.856496788799975,
           5.875278045808249,
           5.8937510718017325,
           5.9119176761632435,
           5.929779697786816,
           5.947339006105644,
           5.964597502372834,
           5.981557120744243,
           5.99821982871956,
           6.014587628313432,
           6.03066255629574,
           6.046446684661972,
           6.061942120878977,
           6.0771510078186735,
           6.092075524130921,
           6.106717884187869,
           6.1210803368774584,
           6.135165166542327,
           6.148974691697969,
           6.162511264759787,
           6.175777271369528,
           6.1887751296118205,
           6.201507289348475,
           6.213976231074152,
           6.2261844650669556,
           6.238134530631315,
           6.249828994367424,
           6.261270449673194,
           6.2724615154194145,
           6.283404834249547,
           6.294103072052043,
           6.304558915893019,
           6.314775073300487
          ],
          "coloraxis": "coloraxis",
          "symbol": "triangle-up"
         },
         "mode": "markers",
         "name": "Foward",
         "showlegend": false,
         "type": "scatter",
         "x": [
          81.63265306122449,
          163.26530612244898,
          244.89795918367346,
          326.53061224489795,
          408.1632653061224,
          489.7959183673469,
          571.4285714285714,
          653.0612244897959,
          734.6938775510204,
          816.3265306122448,
          897.9591836734694,
          979.5918367346939,
          1061.2244897959183,
          1142.857142857143,
          1224.4897959183672,
          1306.1224489795918,
          1387.7551020408164,
          1469.3877551020407,
          1551.020408163265,
          1632.6530612244896,
          1714.2857142857144,
          1795.9183673469388,
          1877.5510204081631,
          1959.1836734693877,
          2040.8163265306123,
          2122.4489795918366,
          2204.081632653061,
          2285.714285714286,
          2367.3469387755104,
          2448.9795918367345,
          2530.612244897959,
          2612.2448979591836,
          2693.877551020408,
          2775.5102040816328,
          2857.142857142857,
          2938.7755102040815,
          3020.408163265306,
          3102.04081632653,
          3183.6734693877547,
          3265.3061224489793,
          3346.9387755102043,
          3428.571428571429,
          3510.204081632653,
          3591.8367346938776,
          3673.469387755102,
          3755.1020408163263,
          3836.734693877551,
          3918.3673469387754,
          4000
         ],
         "y": [
          6193.630748940765,
          6193.898202883105,
          6194.298470460914,
          6194.831359740353,
          6195.496570514246,
          6196.293701263109,
          6197.222255732064,
          6198.281649038081,
          6199.471213283949,
          6200.790202706418,
          6202.237798341519,
          6203.813112846516,
          6205.515194265287,
          6207.343029999377,
          6209.29555065149,
          6211.371632966275,
          6213.570103495189,
          6215.889741234294,
          6218.329280643219,
          6220.887414263714,
          6223.562795154619,
          6226.354039511933,
          6229.25972893195,
          6232.2784121732075,
          6235.408607987211,
          6238.648806534485,
          6241.997471510472,
          6245.453042087604,
          6249.013934580537,
          6252.6785442623695,
          6256.445246885974,
          6260.312400248869,
          6264.278346313409,
          6268.341411870916,
          6272.49991061423,
          6276.752144350116,
          6281.096404284503,
          6285.530972690886,
          6290.054123700428,
          6294.6641251495685,
          6299.359239292988,
          6304.137724373394,
          6308.99783554759,
          6313.9378261646225,
          6318.955948701035,
          6324.0504560405925,
          6329.219602224198,
          6334.461643793811,
          6339.7748404647955
         ]
        },
        {
         "hovertemplate": "Frequency (rpm): %{x:.2f}<br>Critical Speed (rpm): %{y:.2f}",
         "legendgroup": "Crit. Speed",
         "marker": {
          "color": "black",
          "symbol": "x"
         },
         "mode": "markers",
         "name": "Crit. Speed",
         "showlegend": false,
         "type": "scatter",
         "x": [
          830.8023007064226
         ],
         "y": [
          830.8023007064226
         ]
        },
        {
         "hoverinfo": "none",
         "legendgroup": "Mixed",
         "marker": {
          "color": [],
          "coloraxis": "coloraxis",
          "symbol": "circle"
         },
         "mode": "markers",
         "name": "Mixed",
         "showlegend": false,
         "type": "scatter",
         "x": [],
         "y": []
        },
        {
         "hovertemplate": "Frequency (rpm): %{x:.2f}<br>Critical Speed (rpm): %{y:.2f}",
         "legendgroup": "Crit. Speed",
         "marker": {
          "color": "black",
          "symbol": "x"
         },
         "mode": "markers",
         "name": "Crit. Speed",
         "showlegend": false,
         "type": "scatter",
         "x": [
          835.6596264283542
         ],
         "y": [
          835.6596264283542
         ]
        },
        {
         "hoverinfo": "none",
         "legendgroup": "Mixed",
         "marker": {
          "color": [],
          "coloraxis": "coloraxis",
          "symbol": "circle"
         },
         "mode": "markers",
         "name": "Mixed",
         "showlegend": false,
         "type": "scatter",
         "x": [],
         "y": []
        },
        {
         "hovertemplate": "Frequency (rpm): %{x:.2f}<br>Critical Speed (rpm): %{y:.2f}",
         "legendgroup": "Crit. Speed",
         "marker": {
          "color": "black",
          "symbol": "x"
         },
         "mode": "markers",
         "name": "Crit. Speed",
         "showlegend": false,
         "type": "scatter",
         "x": [
          2615.541435983441
         ],
         "y": [
          2615.541435983441
         ]
        },
        {
         "hoverinfo": "none",
         "legendgroup": "Mixed",
         "marker": {
          "color": [],
          "coloraxis": "coloraxis",
          "symbol": "circle"
         },
         "mode": "markers",
         "name": "Mixed",
         "showlegend": false,
         "type": "scatter",
         "x": [],
         "y": []
        },
        {
         "hovertemplate": "Frequency (rpm): %{x:.2f}<br>Critical Speed (rpm): %{y:.2f}",
         "legendgroup": "Crit. Speed",
         "marker": {
          "color": "black",
          "symbol": "x"
         },
         "mode": "markers",
         "name": "Crit. Speed",
         "showlegend": false,
         "type": "scatter",
         "x": [
          2979.2853336655644
         ],
         "y": [
          2979.2853336655644
         ]
        },
        {
         "hoverinfo": "none",
         "legendgroup": "Mixed",
         "marker": {
          "color": [],
          "coloraxis": "coloraxis",
          "symbol": "circle"
         },
         "mode": "markers",
         "name": "Mixed",
         "showlegend": false,
         "type": "scatter",
         "x": [],
         "y": []
        },
        {
         "hovertemplate": "Frequency (rpm): %{x:.2f}<br>Critical Speed (rpm): %{y:.2f}",
         "legendgroup": "Crit. Speed",
         "marker": {
          "color": "black",
          "symbol": "x"
         },
         "mode": "markers",
         "name": "Crit. Speed",
         "showlegend": false,
         "type": "scatter",
         "x": [],
         "y": []
        },
        {
         "hoverinfo": "none",
         "legendgroup": "Mixed",
         "marker": {
          "color": [],
          "coloraxis": "coloraxis",
          "symbol": "circle"
         },
         "mode": "markers",
         "name": "Mixed",
         "showlegend": false,
         "type": "scatter",
         "x": [],
         "y": []
        },
        {
         "hovertemplate": "Frequency (rpm): %{x:.2f}<br>Critical Speed (rpm): %{y:.2f}",
         "legendgroup": "Crit. Speed",
         "marker": {
          "color": "black",
          "symbol": "x"
         },
         "mode": "markers",
         "name": "Crit. Speed",
         "showlegend": false,
         "type": "scatter",
         "x": [],
         "y": []
        },
        {
         "hoverinfo": "none",
         "legendgroup": "Mixed",
         "marker": {
          "color": [],
          "coloraxis": "coloraxis",
          "symbol": "circle"
         },
         "mode": "markers",
         "name": "Mixed",
         "showlegend": false,
         "type": "scatter",
         "x": [],
         "y": []
        },
        {
         "hovertemplate": "Frequency (rpm): %{x:.2f}<br>Critical Speed (rpm): %{y:.2f}",
         "legendgroup": "Crit. Speed",
         "marker": {
          "color": "black",
          "symbol": "x"
         },
         "mode": "markers",
         "name": "Crit. Speed",
         "showlegend": false,
         "type": "scatter",
         "x": [
          830.8023007064226
         ],
         "y": [
          830.8023007064226
         ]
        },
        {
         "hoverinfo": "none",
         "legendgroup": "Backward",
         "marker": {
          "color": [
           0.3185472205859085,
           0.31815370489616024,
           0.3177594801963465,
           0.31736454618100013,
           0.316968902563147,
           0.3165725490726549,
           0.31617548545826085,
           0.31577771148617384,
           0.315379226942091,
           0.31498003162994825,
           0.31458012537260255,
           0.31417950801264855,
           0.3137781794121653,
           0.31337613945258685,
           0.312973388036455,
           0.3125699250852558,
           0.3121657505425132,
           0.31176086437225387,
           0.31135526655921436,
           0.3109489571098256,
           0.310541936052441,
           0.3101342034371912,
           0.30972575933722984,
           0.30931660384709153,
           0.3089067370854433,
           0.3084961591932093,
           0.3080848703350825,
           0.30767287069989707,
           0.30726016050006316,
           0.3068467399725837,
           0.30643260937908834,
           0.306017769006155,
           0.30560221916589814,
           0.3051859601956799,
           0.3047689924590267,
           0.3043513163457695,
           0.30393293227193885,
           0.3035138406808311,
           0.3030940420426091,
           0.30267353685562265,
           0.30225232564500326,
           0.3018304089652277,
           0.301407787398524,
           0.30098446155625563,
           0.30056043207898997,
           0.30013569963689,
           0.2997102649296722,
           0.29928412868796894,
           0.29885729167262903,
           0.29842975467514365
          ],
          "coloraxis": "coloraxis",
          "symbol": "triangle-down"
         },
         "mode": "markers",
         "name": "Backward",
         "showlegend": false,
         "type": "scatter",
         "x": [
          0,
          81.63265306122449,
          163.26530612244898,
          244.89795918367346,
          326.53061224489795,
          408.1632653061224,
          489.7959183673469,
          571.4285714285714,
          653.0612244897959,
          734.6938775510204,
          816.3265306122448,
          897.9591836734694,
          979.5918367346939,
          1061.2244897959183,
          1142.857142857143,
          1224.4897959183672,
          1306.1224489795918,
          1387.7551020408164,
          1469.3877551020407,
          1551.020408163265,
          1632.6530612244896,
          1714.2857142857144,
          1795.9183673469388,
          1877.5510204081631,
          1959.1836734693877,
          2040.8163265306123,
          2122.4489795918366,
          2204.081632653061,
          2285.714285714286,
          2367.3469387755104,
          2448.9795918367345,
          2530.612244897959,
          2612.2448979591836,
          2693.877551020408,
          2775.5102040816328,
          2857.142857142857,
          2938.7755102040815,
          3020.408163265306,
          3102.04081632653,
          3183.6734693877547,
          3265.3061224489793,
          3346.9387755102043,
          3428.571428571429,
          3510.204081632653,
          3591.8367346938776,
          3673.469387755102,
          3755.1020408163263,
          3836.734693877551,
          3918.3673469387754,
          4000
         ],
         "y": [
          833.2519107240179,
          833.0137168593877,
          832.7749840849928,
          832.5357106433321,
          832.2958947708455,
          832.0555346981217,
          831.8146286497322,
          831.5731748442901,
          831.3311714944331,
          831.0886168068674,
          830.8455089822892,
          830.601846215456,
          830.3576266951378,
          830.1128486041587,
          829.8675101193822,
          829.6216094117115,
          829.3751446459862,
          829.1281139812718,
          828.8805155705331,
          828.6323475608216,
          828.383608093296,
          828.1342953031005,
          827.8844073194176,
          827.6339422656386,
          827.3828982590744,
          827.1312734112264,
          826.8790658275929,
          826.6262736078261,
          826.3728948456674,
          826.11892762897,
          825.864370039693,
          825.6092201539956,
          825.3534760420505,
          825.0971357683178,
          824.8401973913409,
          824.5826589638871,
          824.3245185328547,
          824.0657741394427,
          823.8064238189719,
          823.5464656010494,
          823.2858975095332,
          823.0247175625195,
          822.762923772419,
          822.500514145921,
          822.2374866840647,
          821.973839382202,
          821.7095702300539,
          821.444677211716,
          821.1791583056598,
          820.9130114848855
         ]
        },
        {
         "hovertemplate": "Frequency (rpm): %{x:.2f}<br>Critical Speed (rpm): %{y:.2f}",
         "legendgroup": "Crit. Speed",
         "marker": {
          "color": "black",
          "symbol": "x"
         },
         "mode": "markers",
         "name": "Crit. Speed",
         "showlegend": false,
         "type": "scatter",
         "x": [
          835.6596264283542
         ],
         "y": [
          835.6596264283542
         ]
        },
        {
         "hoverinfo": "none",
         "legendgroup": "Backward",
         "marker": {
          "color": [
           0.318547220585912
          ],
          "coloraxis": "coloraxis",
          "symbol": "triangle-down"
         },
         "mode": "markers",
         "name": "Backward",
         "showlegend": false,
         "type": "scatter",
         "x": [
          0
         ],
         "y": [
          833.2519107240228
         ]
        },
        {
         "hovertemplate": "Frequency (rpm): %{x:.2f}<br>Critical Speed (rpm): %{y:.2f}",
         "legendgroup": "Crit. Speed",
         "marker": {
          "color": "black",
          "symbol": "x"
         },
         "mode": "markers",
         "name": "Crit. Speed",
         "showlegend": false,
         "type": "scatter",
         "x": [
          2615.541435983441
         ],
         "y": [
          2615.541435983441
         ]
        },
        {
         "hoverinfo": "none",
         "legendgroup": "Backward",
         "marker": {
          "color": [
           1.681133163224793,
           1.6833922022112884,
           1.6856339836537737,
           1.687858155826597,
           1.6900643656957772,
           1.6922522590443903,
           1.6944214805752478,
           1.6965716740314236,
           1.698702482364843,
           1.7008135478278585,
           1.7029045121632143,
           1.7049750166386308,
           1.7070247023340546,
           1.7090532101696698,
           1.7110601811365453,
           1.713045256382525,
           1.7150080774455898,
           1.716948286345181,
           1.7188655257573946,
           1.7207594392425412,
           1.7226296713431797,
           1.7244758677654335,
           1.7262976755935717,
           1.7280947434535314,
           1.729866721650938,
           1.7316132623845581,
           1.733334019948223,
           1.7350286508931991,
           1.7366968141897716,
           1.7383381714587618,
           1.7399523871538636,
           1.7415391287341757,
           1.7430980668491545,
           1.7446288755668191,
           1.7461312325373173,
           1.7476048191833553,
           1.7490493209213602,
           1.7504644273221532,
           1.7518498323221563,
           1.7532052344157447,
           1.7545303368248546,
           1.7558248477339966,
           1.7570884804355928,
           1.7583209535192708,
           1.7595219910992954,
           1.7606913229504113,
           1.7618286847196805,
           1.7629338180817156,
           1.764006470945165,
           1.7650463976065185
          ],
          "coloraxis": "coloraxis",
          "symbol": "triangle-down"
         },
         "mode": "markers",
         "name": "Backward",
         "showlegend": false,
         "type": "scatter",
         "x": [
          0,
          81.63265306122449,
          163.26530612244898,
          244.89795918367346,
          326.53061224489795,
          408.1632653061224,
          489.7959183673469,
          571.4285714285714,
          653.0612244897959,
          734.6938775510204,
          816.3265306122448,
          897.9591836734694,
          979.5918367346939,
          1061.2244897959183,
          1142.857142857143,
          1224.4897959183672,
          1306.1224489795918,
          1387.7551020408164,
          1469.3877551020407,
          1551.020408163265,
          1632.6530612244896,
          1714.2857142857144,
          1795.9183673469388,
          1877.5510204081631,
          1959.1836734693877,
          2040.8163265306123,
          2122.4489795918366,
          2204.081632653061,
          2285.714285714286,
          2367.3469387755104,
          2448.9795918367345,
          2530.612244897959,
          2612.2448979591836,
          2693.877551020408,
          2775.5102040816328,
          2857.142857142857,
          2938.7755102040815,
          3020.408163265306,
          3102.04081632653,
          3183.6734693877547,
          3265.3061224489793,
          3346.9387755102043,
          3428.571428571429,
          3510.204081632653,
          3591.8367346938776,
          3673.469387755102,
          3755.1020408163263,
          3836.734693877551,
          3918.3673469387754,
          4000
         ],
         "y": [
          2792.431719428615,
          2787.0671653617737,
          2781.6909621158043,
          2776.303246930344,
          2770.9041599124193,
          2765.4938440577366,
          2760.0724452260242,
          2754.6401121374993,
          2749.1969963759375,
          2743.743252366123,
          2738.2790373638527,
          2732.80451144162,
          2727.319837463544,
          2721.825181089679,
          2716.3207107368767,
          2710.8065975484087,
          2705.2830153961127,
          2699.750140828804,
          2694.2081530581027,
          2688.657233916669,
          2683.0975678431946,
          2677.5293418254455,
          2671.952745375654,
          2666.3679704935766,
          2660.7752116141774,
          2655.1746655767047,
          2649.5665315738956,
          2643.951011102128,
          2638.328307913361,
          2632.698627967501,
          2627.0621793761866,
          2621.4191723495055,
          2615.769819127242,
          2610.1143339467944,
          2604.4529329465763,
          2598.785834134673,
          2593.113257302157,
          2587.4354239731388,
          2581.7525573222106,
          2576.0648821191435,
          2570.3726246466563,
          2564.676012634262,
          2558.9752751779,
          2553.2706426761274,
          2547.5623467410187,
          2541.850620127185,
          2536.135696653834,
          2530.4178111212636,
          2524.6971992286176,
          2518.974097498873
         ]
        },
        {
         "hovertemplate": "Frequency (rpm): %{x:.2f}<br>Critical Speed (rpm): %{y:.2f}",
         "legendgroup": "Crit. Speed",
         "marker": {
          "color": "black",
          "symbol": "x"
         },
         "mode": "markers",
         "name": "Crit. Speed",
         "showlegend": false,
         "type": "scatter",
         "x": [
          2979.2853336655644
         ],
         "y": [
          2979.2853336655644
         ]
        },
        {
         "hoverinfo": "none",
         "legendgroup": "Backward",
         "marker": {
          "color": [],
          "coloraxis": "coloraxis",
          "symbol": "triangle-down"
         },
         "mode": "markers",
         "name": "Backward",
         "showlegend": false,
         "type": "scatter",
         "x": [],
         "y": []
        },
        {
         "hovertemplate": "Frequency (rpm): %{x:.2f}<br>Critical Speed (rpm): %{y:.2f}",
         "legendgroup": "Crit. Speed",
         "marker": {
          "color": "black",
          "symbol": "x"
         },
         "mode": "markers",
         "name": "Crit. Speed",
         "showlegend": false,
         "type": "scatter",
         "x": [],
         "y": []
        },
        {
         "hoverinfo": "none",
         "legendgroup": "Backward",
         "marker": {
          "color": [
           5.463788712209823,
           5.438831312306875,
           5.413532237622207,
           5.387889724077667,
           5.361901974725211,
           5.335567156588331,
           5.308883398688579,
           5.281848789456637,
           5.2544613760375105,
           5.2267191632349395,
           5.19862011318652,
           5.1701621476596324,
           5.141343149489484,
           5.112160966393486,
           5.082613417548393,
           5.052698299681868,
           5.022413398685,
           4.9917565008400615,
           4.960725410046456,
           4.929317966999381,
           4.897532073443548,
           4.865365721488953,
           4.832817028825043,
           4.799884279780291,
           4.766565975388953,
           4.732860891374894,
           4.698768145209682,
           4.664287275996746,
           4.629418334923033,
           4.594161991176774,
           4.558519651204501,
           4.5224935959290065,
           4.486087135116766,
           4.449304780222119,
           4.412152437155444,
           4.374637618230752,
           4.336769672701008,
           4.298560035944618,
           4.260022490524771,
           4.221173440355039,
           4.182032184864762,
           4.142621191173062,
           4.102966347353891,
           4.063097187141612,
           4.0230470684154005,
           3.982853287147391,
           3.942557108639535,
           3.9022036967223577,
           3.861841922581648
          ],
          "coloraxis": "coloraxis",
          "symbol": "triangle-down"
         },
         "mode": "markers",
         "name": "Backward",
         "showlegend": false,
         "type": "scatter",
         "x": [
          81.63265306122449,
          163.26530612244898,
          244.89795918367346,
          326.53061224489795,
          408.1632653061224,
          489.7959183673469,
          571.4285714285714,
          653.0612244897959,
          734.6938775510204,
          816.3265306122448,
          897.9591836734694,
          979.5918367346939,
          1061.2244897959183,
          1142.857142857143,
          1224.4897959183672,
          1306.1224489795918,
          1387.7551020408164,
          1469.3877551020407,
          1551.020408163265,
          1632.6530612244896,
          1714.2857142857144,
          1795.9183673469388,
          1877.5510204081631,
          1959.1836734693877,
          2040.8163265306123,
          2122.4489795918366,
          2204.081632653061,
          2285.714285714286,
          2367.3469387755104,
          2448.9795918367345,
          2530.612244897959,
          2612.2448979591836,
          2693.877551020408,
          2775.5102040816328,
          2857.142857142857,
          2938.7755102040815,
          3020.408163265306,
          3102.04081632653,
          3183.6734693877547,
          3265.3061224489793,
          3346.9387755102043,
          3428.571428571429,
          3510.204081632653,
          3591.8367346938776,
          3673.469387755102,
          3755.1020408163263,
          3836.734693877551,
          3918.3673469387754,
          4000
         ],
         "y": [
          6193.494459082062,
          6193.625390999767,
          6193.888652322288,
          6194.283760519527,
          6194.810065485869,
          6195.46673633988,
          6196.252746741108,
          6197.166858792962,
          6198.207605166511,
          6199.373269814233,
          6200.661866484374,
          6202.071114967029,
          6203.598415126096,
          6205.240818584397,
          6206.994996668104,
          6208.857206346403,
          6210.8232515287,
          6212.8884414586555,
          6215.047544724293,
          6217.294738112289,
          6219.623552212426,
          6222.026810083029,
          6224.496561266092,
          6227.024010462206,
          6229.599438597859,
          6232.212118955929,
          6234.850226553524,
          6237.500740482432,
          6240.149341053848,
          6242.780300648747,
          6245.376370460581,
          6247.918663417205,
          6250.386535025456,
          6252.75746644062,
          6255.006950412044,
          6257.10838662012,
          6259.0329899281915,
          6260.749719888622,
          6262.225237735239,
          6263.423900168606,
          6264.307801456577,
          6264.836872663231,
          6264.969052318346,
          6264.6605372336535,
          6263.866126291954,
          6262.539662821549,
          6260.6345822281,
          6258.104561398319,
          6254.904264945381
         ]
        },
        {
         "hovertemplate": "Frequency (rpm): %{x:.2f}<br>Critical Speed (rpm): %{y:.2f}",
         "legendgroup": "Crit. Speed",
         "marker": {
          "color": "black",
          "symbol": "x"
         },
         "mode": "markers",
         "name": "Crit. Speed",
         "showlegend": false,
         "type": "scatter",
         "x": [],
         "y": []
        },
        {
         "hoverinfo": "none",
         "legendgroup": "Backward",
         "marker": {
          "color": [
           5.488406171433612
          ],
          "coloraxis": "coloraxis",
          "symbol": "triangle-down"
         },
         "mode": "markers",
         "name": "Backward",
         "showlegend": false,
         "type": "scatter",
         "x": [
          0
         ],
         "y": [
          6193.496184042031
         ]
        },
        {
         "hoverinfo": "none",
         "line": {
          "color": "blue",
          "dash": "dashdot"
         },
         "mode": "lines",
         "name": "1x speed",
         "type": "scatter",
         "x": [
          0,
          81.63265306122449,
          163.26530612244898,
          244.89795918367346,
          326.53061224489795,
          408.1632653061224,
          489.7959183673469,
          571.4285714285714,
          653.0612244897959,
          734.6938775510204,
          816.3265306122448,
          897.9591836734694,
          979.5918367346939,
          1061.2244897959183,
          1142.857142857143,
          1224.4897959183672,
          1306.1224489795918,
          1387.7551020408164,
          1469.3877551020407,
          1551.020408163265,
          1632.6530612244896,
          1714.2857142857144,
          1795.9183673469388,
          1877.5510204081631,
          1959.1836734693877,
          2040.8163265306123,
          2122.4489795918366,
          2204.081632653061,
          2285.714285714286,
          2367.3469387755104,
          2448.9795918367345,
          2530.612244897959,
          2612.2448979591836,
          2693.877551020408,
          2775.5102040816328,
          2857.142857142857,
          2938.7755102040815,
          3020.408163265306,
          3102.04081632653,
          3183.6734693877547,
          3265.3061224489793,
          3346.9387755102043,
          3428.571428571429,
          3510.204081632653,
          3591.8367346938776,
          3673.469387755102,
          3755.1020408163263,
          3836.734693877551,
          3918.3673469387754,
          4000
         ],
         "y": [
          0,
          81.63265306122449,
          163.26530612244898,
          244.89795918367346,
          326.53061224489795,
          408.1632653061224,
          489.7959183673469,
          571.4285714285714,
          653.0612244897959,
          734.6938775510204,
          816.3265306122448,
          897.9591836734694,
          979.5918367346939,
          1061.2244897959183,
          1142.857142857143,
          1224.4897959183672,
          1306.1224489795918,
          1387.7551020408164,
          1469.3877551020407,
          1551.020408163265,
          1632.6530612244896,
          1714.2857142857144,
          1795.9183673469388,
          1877.5510204081631,
          1959.1836734693877,
          2040.8163265306123,
          2122.4489795918366,
          2204.081632653061,
          2285.714285714286,
          2367.3469387755104,
          2448.9795918367345,
          2530.612244897959,
          2612.2448979591836,
          2693.877551020408,
          2775.5102040816328,
          2857.142857142857,
          2938.7755102040815,
          3020.408163265306,
          3102.04081632653,
          3183.6734693877547,
          3265.3061224489793,
          3346.9387755102043,
          3428.571428571429,
          3510.204081632653,
          3591.8367346938776,
          3673.469387755102,
          3755.1020408163263,
          3836.734693877551,
          3918.3673469387754,
          4000
         ]
        },
        {
         "legendgroup": "Foward",
         "marker": {
          "color": "black",
          "symbol": "triangle-up"
         },
         "mode": "markers",
         "name": "Foward",
         "type": "scatter",
         "x": [
          0
         ],
         "y": [
          0
         ]
        },
        {
         "legendgroup": "Mixed",
         "marker": {
          "color": "black",
          "symbol": "circle"
         },
         "mode": "markers",
         "name": "Mixed",
         "type": "scatter",
         "x": [
          0
         ],
         "y": [
          0
         ]
        },
        {
         "legendgroup": "Backward",
         "marker": {
          "color": "black",
          "symbol": "triangle-down"
         },
         "mode": "markers",
         "name": "Backward",
         "type": "scatter",
         "x": [
          0
         ],
         "y": [
          0
         ]
        },
        {
         "legendgroup": "Crit. Speed",
         "marker": {
          "color": "black",
          "symbol": "x"
         },
         "mode": "markers",
         "name": "Crit. Speed",
         "type": "scatter",
         "x": [
          0
         ],
         "y": [
          0
         ]
        }
       ],
       "layout": {
        "coloraxis": {
         "cmax": 1,
         "cmin": 0,
         "colorbar": {
          "title": {
           "side": "right",
           "text": "<b>Log Dec</b>"
          }
         },
         "colorscale": [
          [
           0,
           "rgb(103,0,31)"
          ],
          [
           0.1,
           "rgb(178,24,43)"
          ],
          [
           0.2,
           "rgb(214,96,77)"
          ],
          [
           0.3,
           "rgb(244,165,130)"
          ],
          [
           0.4,
           "rgb(253,219,199)"
          ],
          [
           0.5,
           "rgb(247,247,247)"
          ],
          [
           0.6,
           "rgb(209,229,240)"
          ],
          [
           0.7,
           "rgb(146,197,222)"
          ],
          [
           0.8,
           "rgb(67,147,195)"
          ],
          [
           0.9,
           "rgb(33,102,172)"
          ],
          [
           1,
           "rgb(5,48,97)"
          ]
         ]
        },
        "legend": {
         "itemsizing": "constant",
         "orientation": "h",
         "x": 0.5,
         "xanchor": "center",
         "y": -0.3,
         "yanchor": "bottom"
        },
        "template": {
         "data": {
          "bar": [
           {
            "error_x": {
             "color": "#2a3f5f"
            },
            "error_y": {
             "color": "#2a3f5f"
            },
            "marker": {
             "line": {
              "color": "white",
              "width": 0.5
             }
            },
            "type": "bar"
           }
          ],
          "barpolar": [
           {
            "marker": {
             "line": {
              "color": "white",
              "width": 0.5
             }
            },
            "type": "barpolar"
           }
          ],
          "carpet": [
           {
            "aaxis": {
             "endlinecolor": "#2a3f5f",
             "gridcolor": "#C8D4E3",
             "linecolor": "#C8D4E3",
             "minorgridcolor": "#C8D4E3",
             "startlinecolor": "#2a3f5f"
            },
            "baxis": {
             "endlinecolor": "#2a3f5f",
             "gridcolor": "#C8D4E3",
             "linecolor": "#C8D4E3",
             "minorgridcolor": "#C8D4E3",
             "startlinecolor": "#2a3f5f"
            },
            "type": "carpet"
           }
          ],
          "choropleth": [
           {
            "colorbar": {
             "outlinewidth": 0,
             "ticks": ""
            },
            "type": "choropleth"
           }
          ],
          "contour": [
           {
            "colorbar": {
             "outlinewidth": 0,
             "ticks": ""
            },
            "colorscale": [
             [
              0,
              "#0d0887"
             ],
             [
              0.1111111111111111,
              "#46039f"
             ],
             [
              0.2222222222222222,
              "#7201a8"
             ],
             [
              0.3333333333333333,
              "#9c179e"
             ],
             [
              0.4444444444444444,
              "#bd3786"
             ],
             [
              0.5555555555555556,
              "#d8576b"
             ],
             [
              0.6666666666666666,
              "#ed7953"
             ],
             [
              0.7777777777777778,
              "#fb9f3a"
             ],
             [
              0.8888888888888888,
              "#fdca26"
             ],
             [
              1,
              "#f0f921"
             ]
            ],
            "type": "contour"
           }
          ],
          "contourcarpet": [
           {
            "colorbar": {
             "outlinewidth": 0,
             "ticks": ""
            },
            "type": "contourcarpet"
           }
          ],
          "heatmap": [
           {
            "colorbar": {
             "outlinewidth": 0,
             "ticks": ""
            },
            "colorscale": [
             [
              0,
              "#0d0887"
             ],
             [
              0.1111111111111111,
              "#46039f"
             ],
             [
              0.2222222222222222,
              "#7201a8"
             ],
             [
              0.3333333333333333,
              "#9c179e"
             ],
             [
              0.4444444444444444,
              "#bd3786"
             ],
             [
              0.5555555555555556,
              "#d8576b"
             ],
             [
              0.6666666666666666,
              "#ed7953"
             ],
             [
              0.7777777777777778,
              "#fb9f3a"
             ],
             [
              0.8888888888888888,
              "#fdca26"
             ],
             [
              1,
              "#f0f921"
             ]
            ],
            "type": "heatmap"
           }
          ],
          "heatmapgl": [
           {
            "colorbar": {
             "outlinewidth": 0,
             "ticks": ""
            },
            "colorscale": [
             [
              0,
              "#0d0887"
             ],
             [
              0.1111111111111111,
              "#46039f"
             ],
             [
              0.2222222222222222,
              "#7201a8"
             ],
             [
              0.3333333333333333,
              "#9c179e"
             ],
             [
              0.4444444444444444,
              "#bd3786"
             ],
             [
              0.5555555555555556,
              "#d8576b"
             ],
             [
              0.6666666666666666,
              "#ed7953"
             ],
             [
              0.7777777777777778,
              "#fb9f3a"
             ],
             [
              0.8888888888888888,
              "#fdca26"
             ],
             [
              1,
              "#f0f921"
             ]
            ],
            "type": "heatmapgl"
           }
          ],
          "histogram": [
           {
            "marker": {
             "colorbar": {
              "outlinewidth": 0,
              "ticks": ""
             }
            },
            "type": "histogram"
           }
          ],
          "histogram2d": [
           {
            "colorbar": {
             "outlinewidth": 0,
             "ticks": ""
            },
            "colorscale": [
             [
              0,
              "#0d0887"
             ],
             [
              0.1111111111111111,
              "#46039f"
             ],
             [
              0.2222222222222222,
              "#7201a8"
             ],
             [
              0.3333333333333333,
              "#9c179e"
             ],
             [
              0.4444444444444444,
              "#bd3786"
             ],
             [
              0.5555555555555556,
              "#d8576b"
             ],
             [
              0.6666666666666666,
              "#ed7953"
             ],
             [
              0.7777777777777778,
              "#fb9f3a"
             ],
             [
              0.8888888888888888,
              "#fdca26"
             ],
             [
              1,
              "#f0f921"
             ]
            ],
            "type": "histogram2d"
           }
          ],
          "histogram2dcontour": [
           {
            "colorbar": {
             "outlinewidth": 0,
             "ticks": ""
            },
            "colorscale": [
             [
              0,
              "#0d0887"
             ],
             [
              0.1111111111111111,
              "#46039f"
             ],
             [
              0.2222222222222222,
              "#7201a8"
             ],
             [
              0.3333333333333333,
              "#9c179e"
             ],
             [
              0.4444444444444444,
              "#bd3786"
             ],
             [
              0.5555555555555556,
              "#d8576b"
             ],
             [
              0.6666666666666666,
              "#ed7953"
             ],
             [
              0.7777777777777778,
              "#fb9f3a"
             ],
             [
              0.8888888888888888,
              "#fdca26"
             ],
             [
              1,
              "#f0f921"
             ]
            ],
            "type": "histogram2dcontour"
           }
          ],
          "mesh3d": [
           {
            "colorbar": {
             "outlinewidth": 0,
             "ticks": ""
            },
            "type": "mesh3d"
           }
          ],
          "parcoords": [
           {
            "line": {
             "colorbar": {
              "outlinewidth": 0,
              "ticks": ""
             }
            },
            "type": "parcoords"
           }
          ],
          "pie": [
           {
            "automargin": true,
            "type": "pie"
           }
          ],
          "scatter": [
           {
            "marker": {
             "colorbar": {
              "outlinewidth": 0,
              "ticks": ""
             }
            },
            "type": "scatter"
           }
          ],
          "scatter3d": [
           {
            "line": {
             "colorbar": {
              "outlinewidth": 0,
              "ticks": ""
             }
            },
            "marker": {
             "colorbar": {
              "outlinewidth": 0,
              "ticks": ""
             }
            },
            "type": "scatter3d"
           }
          ],
          "scattercarpet": [
           {
            "marker": {
             "colorbar": {
              "outlinewidth": 0,
              "ticks": ""
             }
            },
            "type": "scattercarpet"
           }
          ],
          "scattergeo": [
           {
            "marker": {
             "colorbar": {
              "outlinewidth": 0,
              "ticks": ""
             }
            },
            "type": "scattergeo"
           }
          ],
          "scattergl": [
           {
            "marker": {
             "colorbar": {
              "outlinewidth": 0,
              "ticks": ""
             }
            },
            "type": "scattergl"
           }
          ],
          "scattermapbox": [
           {
            "marker": {
             "colorbar": {
              "outlinewidth": 0,
              "ticks": ""
             }
            },
            "type": "scattermapbox"
           }
          ],
          "scatterpolar": [
           {
            "marker": {
             "colorbar": {
              "outlinewidth": 0,
              "ticks": ""
             }
            },
            "type": "scatterpolar"
           }
          ],
          "scatterpolargl": [
           {
            "marker": {
             "colorbar": {
              "outlinewidth": 0,
              "ticks": ""
             }
            },
            "type": "scatterpolargl"
           }
          ],
          "scatterternary": [
           {
            "marker": {
             "colorbar": {
              "outlinewidth": 0,
              "ticks": ""
             }
            },
            "type": "scatterternary"
           }
          ],
          "surface": [
           {
            "colorbar": {
             "outlinewidth": 0,
             "ticks": ""
            },
            "colorscale": [
             [
              0,
              "#0d0887"
             ],
             [
              0.1111111111111111,
              "#46039f"
             ],
             [
              0.2222222222222222,
              "#7201a8"
             ],
             [
              0.3333333333333333,
              "#9c179e"
             ],
             [
              0.4444444444444444,
              "#bd3786"
             ],
             [
              0.5555555555555556,
              "#d8576b"
             ],
             [
              0.6666666666666666,
              "#ed7953"
             ],
             [
              0.7777777777777778,
              "#fb9f3a"
             ],
             [
              0.8888888888888888,
              "#fdca26"
             ],
             [
              1,
              "#f0f921"
             ]
            ],
            "type": "surface"
           }
          ],
          "table": [
           {
            "cells": {
             "fill": {
              "color": "#EBF0F8"
             },
             "line": {
              "color": "white"
             }
            },
            "header": {
             "fill": {
              "color": "#C8D4E3"
             },
             "line": {
              "color": "white"
             }
            },
            "type": "table"
           }
          ]
         },
         "layout": {
          "annotationdefaults": {
           "arrowcolor": "#2a3f5f",
           "arrowhead": 0,
           "arrowwidth": 1
          },
          "coloraxis": {
           "colorbar": {
            "outlinewidth": 0,
            "ticks": ""
           }
          },
          "colorscale": {
           "diverging": [
            [
             0,
             "#8e0152"
            ],
            [
             0.1,
             "#c51b7d"
            ],
            [
             0.2,
             "#de77ae"
            ],
            [
             0.3,
             "#f1b6da"
            ],
            [
             0.4,
             "#fde0ef"
            ],
            [
             0.5,
             "#f7f7f7"
            ],
            [
             0.6,
             "#e6f5d0"
            ],
            [
             0.7,
             "#b8e186"
            ],
            [
             0.8,
             "#7fbc41"
            ],
            [
             0.9,
             "#4d9221"
            ],
            [
             1,
             "#276419"
            ]
           ],
           "sequential": [
            [
             0,
             "#0d0887"
            ],
            [
             0.1111111111111111,
             "#46039f"
            ],
            [
             0.2222222222222222,
             "#7201a8"
            ],
            [
             0.3333333333333333,
             "#9c179e"
            ],
            [
             0.4444444444444444,
             "#bd3786"
            ],
            [
             0.5555555555555556,
             "#d8576b"
            ],
            [
             0.6666666666666666,
             "#ed7953"
            ],
            [
             0.7777777777777778,
             "#fb9f3a"
            ],
            [
             0.8888888888888888,
             "#fdca26"
            ],
            [
             1,
             "#f0f921"
            ]
           ],
           "sequentialminus": [
            [
             0,
             "#0d0887"
            ],
            [
             0.1111111111111111,
             "#46039f"
            ],
            [
             0.2222222222222222,
             "#7201a8"
            ],
            [
             0.3333333333333333,
             "#9c179e"
            ],
            [
             0.4444444444444444,
             "#bd3786"
            ],
            [
             0.5555555555555556,
             "#d8576b"
            ],
            [
             0.6666666666666666,
             "#ed7953"
            ],
            [
             0.7777777777777778,
             "#fb9f3a"
            ],
            [
             0.8888888888888888,
             "#fdca26"
            ],
            [
             1,
             "#f0f921"
            ]
           ]
          },
          "colorway": [
           "#1f77b4",
           "#ff7f0e",
           "#2ca02c",
           "#d62728",
           "#9467bd",
           "#8c564b",
           "#e377c2",
           "#7f7f7f",
           "#bcbd22",
           "#17becf"
          ],
          "font": {
           "color": "#2a3f5f"
          },
          "geo": {
           "bgcolor": "white",
           "lakecolor": "white",
           "landcolor": "white",
           "showlakes": true,
           "showland": true,
           "subunitcolor": "#C8D4E3"
          },
          "hoverlabel": {
           "align": "left"
          },
          "hovermode": "closest",
          "mapbox": {
           "style": "light"
          },
          "paper_bgcolor": "white",
          "plot_bgcolor": "white",
          "polar": {
           "angularaxis": {
            "gridcolor": "#EBF0F8",
            "linecolor": "#EBF0F8",
            "ticks": ""
           },
           "bgcolor": "white",
           "radialaxis": {
            "gridcolor": "#EBF0F8",
            "linecolor": "#EBF0F8",
            "ticks": ""
           }
          },
          "scene": {
           "camera": {
            "center": {
             "x": 0,
             "y": 0,
             "z": 0
            },
            "eye": {
             "x": 2,
             "y": 2,
             "z": 2
            },
            "up": {
             "x": 0,
             "y": 0,
             "z": 1
            }
           },
           "xaxis": {
            "backgroundcolor": "white",
            "gridcolor": "#DFE8F3",
            "gridwidth": 2,
            "linecolor": "#EBF0F8",
            "showbackground": true,
            "showspikes": false,
            "ticks": "",
            "zerolinecolor": "#EBF0F8"
           },
           "yaxis": {
            "backgroundcolor": "white",
            "gridcolor": "#DFE8F3",
            "gridwidth": 2,
            "linecolor": "#EBF0F8",
            "showbackground": true,
            "showspikes": false,
            "ticks": "",
            "zerolinecolor": "#EBF0F8"
           },
           "zaxis": {
            "backgroundcolor": "white",
            "gridcolor": "#DFE8F3",
            "gridwidth": 2,
            "linecolor": "#EBF0F8",
            "showbackground": true,
            "showspikes": false,
            "ticks": "",
            "zerolinecolor": "#EBF0F8"
           }
          },
          "shapedefaults": {
           "line": {
            "color": "#2a3f5f"
           }
          },
          "ternary": {
           "aaxis": {
            "gridcolor": "#DFE8F3",
            "linecolor": "#A2B1C6",
            "ticks": ""
           },
           "baxis": {
            "gridcolor": "#DFE8F3",
            "linecolor": "#A2B1C6",
            "ticks": ""
           },
           "bgcolor": "white",
           "caxis": {
            "gridcolor": "#DFE8F3",
            "linecolor": "#A2B1C6",
            "ticks": ""
           }
          },
          "title": {
           "x": 0.05
          },
          "xaxis": {
           "automargin": true,
           "gridcolor": "#EBF0F8",
           "linecolor": "black",
           "linewidth": 2,
           "mirror": true,
           "showline": true,
           "ticks": "",
           "title": {
            "standoff": 15
           },
           "zeroline": false,
           "zerolinecolor": "#EBF0F8",
           "zerolinewidth": 2
          },
          "yaxis": {
           "automargin": true,
           "gridcolor": "#EBF0F8",
           "linecolor": "black",
           "linewidth": 2,
           "mirror": true,
           "showline": true,
           "ticks": "",
           "title": {
            "standoff": 15
           },
           "zeroline": false,
           "zerolinecolor": "#EBF0F8",
           "zerolinewidth": 2
          }
         }
        },
        "xaxis": {
         "exponentformat": "none",
         "range": [
          0,
          4000
         ],
         "title": {
          "text": "Frequency (rpm)"
         }
        },
        "yaxis": {
         "range": [
          0,
          6973.752324511275
         ],
         "title": {
          "text": "Natural Frequencies (rpm)"
         }
        }
       }
      },
      "text/html": [
       "<div>\n",
       "        \n",
       "        \n",
       "            <div id=\"38d59609-842a-417c-b25d-0db82929aa24\" class=\"plotly-graph-div\" style=\"height:525px; width:100%;\"></div>\n",
       "            <script type=\"text/javascript\">\n",
       "                require([\"plotly\"], function(Plotly) {\n",
       "                    window.PLOTLYENV=window.PLOTLYENV || {};\n",
       "                    \n",
       "                if (document.getElementById(\"38d59609-842a-417c-b25d-0db82929aa24\")) {\n",
       "                    Plotly.newPlot(\n",
       "                        '38d59609-842a-417c-b25d-0db82929aa24',\n",
       "                        [{\"hovertemplate\": \"Frequency (rpm): %{x:.2f}<br>Critical Speed (rpm): %{y:.2f}\", \"legendgroup\": \"Crit. Speed\", \"marker\": {\"color\": \"black\", \"symbol\": \"x\"}, \"mode\": \"markers\", \"name\": \"Crit. Speed\", \"showlegend\": false, \"type\": \"scatter\", \"x\": [830.8023007064226], \"y\": [830.8023007064226]}, {\"hoverinfo\": \"none\", \"legendgroup\": \"Foward\", \"marker\": {\"color\": [], \"coloraxis\": \"coloraxis\", \"symbol\": \"triangle-up\"}, \"mode\": \"markers\", \"name\": \"Foward\", \"showlegend\": false, \"type\": \"scatter\", \"x\": [], \"y\": []}, {\"hovertemplate\": \"Frequency (rpm): %{x:.2f}<br>Critical Speed (rpm): %{y:.2f}\", \"legendgroup\": \"Crit. Speed\", \"marker\": {\"color\": \"black\", \"symbol\": \"x\"}, \"mode\": \"markers\", \"name\": \"Crit. Speed\", \"showlegend\": false, \"type\": \"scatter\", \"x\": [835.6596264283542], \"y\": [835.6596264283542]}, {\"hoverinfo\": \"none\", \"legendgroup\": \"Foward\", \"marker\": {\"color\": [0.3189400275877789, 0.31933212624105595, 0.31972351690238876, 0.32011419994422957, 0.3205041757563358, 0.3208934447437148, 0.3212820073281286, 0.32166986394627783, 0.32205701505074463, 0.3224434611092964, 0.32282920260488424, 0.32321424003473737, 0.3235985739115033, 0.3239822047612613, 0.32436513312546444, 0.324747359558373, 0.32512888462810474, 0.3255097089172507, 0.32588983302113533, 0.3262692575482556, 0.3266479831202153, 0.3270260103709033, 0.3274033399476477, 0.327779972509069, 0.3281559087269691, 0.32853114928477134, 0.32890569487738375, 0.32927954621172856, 0.3296527040060384, 0.3300251689899037, 0.33039694190395263, 0.3307680234994499, 0.33113841453892756, 0.33150811579506023, 0.33187712805092157, 0.3322454521001401, 0.3326130887460426, 0.33298003880218796, 0.33334630309107904, 0.3337118824460853, 0.33407677770871047, 0.3344409897303626, 0.33480451937153416, 0.3351673675014991, 0.3355295349981949, 0.3358910227486973, 0.33625183164775996, 0.33661196259898823, 0.3369714165141619], \"coloraxis\": \"coloraxis\", \"symbol\": \"triangle-up\"}, \"mode\": \"markers\", \"name\": \"Foward\", \"showlegend\": false, \"type\": \"scatter\", \"x\": [81.63265306122449, 163.26530612244898, 244.89795918367346, 326.53061224489795, 408.1632653061224, 489.7959183673469, 571.4285714285714, 653.0612244897959, 734.6938775510204, 816.3265306122448, 897.9591836734694, 979.5918367346939, 1061.2244897959183, 1142.857142857143, 1224.4897959183672, 1306.1224489795918, 1387.7551020408164, 1469.3877551020407, 1551.020408163265, 1632.6530612244896, 1714.2857142857144, 1795.9183673469388, 1877.5510204081631, 1959.1836734693877, 2040.8163265306123, 2122.4489795918366, 2204.081632653061, 2285.714285714286, 2367.3469387755104, 2448.9795918367345, 2530.612244897959, 2612.2448979591836, 2693.877551020408, 2775.5102040816328, 2857.142857142857, 2938.7755102040815, 3020.408163265306, 3102.04081632653, 3183.6734693877547, 3265.3061224489793, 3346.9387755102043, 3428.571428571429, 3510.204081632653, 3591.8367346938776, 3673.469387755102, 3755.1020408163263, 3836.734693877551, 3918.3673469387754, 4000.0], \"y\": [833.4895674304535, 833.7266887243345, 833.963276345375, 834.1993320272587, 834.4348574978059, 834.6698544788718, 834.9043246863861, 835.1382698303314, 835.3716916148348, 835.6045917379876, 835.8369718920904, 836.0688337635142, 836.3001790326708, 836.5310093741928, 836.7613264567266, 836.9911319430792, 837.2204274902452, 837.4492147492706, 837.67749536544, 837.9052709781525, 838.1325432209859, 838.3593137216232, 838.5855841021137, 838.8113559785178, 839.0366309612435, 839.2614106547999, 839.4856966579846, 839.7094905638372, 839.9327939596427, 840.1556084268898, 840.3779355414562, 840.599776873365, 840.8211339870379, 841.0420084411446, 841.262401788705, 841.4823155770143, 841.701751347824, 841.9207106370919, 842.1391949752787, 842.3572058871035, 842.5747448917526, 842.7918135028078, 843.008413228257, 843.2245455705511, 843.4402120265356, 843.6554140875417, 843.8701532393986, 844.0844309623349, 844.2982487312191]}, {\"hovertemplate\": \"Frequency (rpm): %{x:.2f}<br>Critical Speed (rpm): %{y:.2f}\", \"legendgroup\": \"Crit. Speed\", \"marker\": {\"color\": \"black\", \"symbol\": \"x\"}, \"mode\": \"markers\", \"name\": \"Crit. Speed\", \"showlegend\": false, \"type\": \"scatter\", \"x\": [2615.541435983441], \"y\": [2615.541435983441]}, {\"hoverinfo\": \"none\", \"legendgroup\": \"Foward\", \"marker\": {\"color\": [], \"coloraxis\": \"coloraxis\", \"symbol\": \"triangle-up\"}, \"mode\": \"markers\", \"name\": \"Foward\", \"showlegend\": false, \"type\": \"scatter\", \"x\": [], \"y\": []}, {\"hovertemplate\": \"Frequency (rpm): %{x:.2f}<br>Critical Speed (rpm): %{y:.2f}\", \"legendgroup\": \"Crit. Speed\", \"marker\": {\"color\": \"black\", \"symbol\": \"x\"}, \"mode\": \"markers\", \"name\": \"Crit. Speed\", \"showlegend\": false, \"type\": \"scatter\", \"x\": [2979.2853336655644], \"y\": [2979.2853336655644]}, {\"hoverinfo\": \"none\", \"legendgroup\": \"Foward\", \"marker\": {\"color\": [1.6811331632224586, 1.6788572169849807, 1.6765647122553033, 1.6742559961462207, 1.6719314140155543, 1.6695913093592913, 1.6672360237633688, 1.6648658967349854, 1.6624812656799803, 1.660082465775761, 1.657669829901517, 1.6552436885958606, 1.6528043698969261, 1.6503521993675645, 1.647887499968323, 1.645410592001298, 1.6429217930551876, 1.6404214179596581, 1.6379097787251515, 1.635387184452988, 1.6328539413652146, 1.6303103527026588, 1.6277567186654434, 1.6251933364344577, 1.622620500089106, 1.6200385006089895, 1.6174476258064954, 1.614848160320242, 1.6122403855790728, 1.609624579807272, 1.6070010179655472, 1.60436997175652, 1.6017317096019288, 1.5990864966354208, 1.5964345946762786, 1.5937762622495106, 1.5911117545426785, 1.5884413234230674, 1.5857652174444878, 1.5830836818255989, 1.5803969584536868, 1.5777052858897835, 1.575008899381071, 1.5723080308598214, 1.569602908950678, 1.5668937589652348, 1.5641808029512474, 1.561464259659571, 1.558744344593886, 1.5560212699832376], \"coloraxis\": \"coloraxis\", \"symbol\": \"triangle-up\"}, \"mode\": \"markers\", \"name\": \"Foward\", \"showlegend\": false, \"type\": \"scatter\", \"x\": [0.0, 81.63265306122449, 163.26530612244898, 244.89795918367346, 326.53061224489795, 408.1632653061224, 489.7959183673469, 571.4285714285714, 653.0612244897959, 734.6938775510204, 816.3265306122448, 897.9591836734694, 979.5918367346939, 1061.2244897959183, 1142.857142857143, 1224.4897959183672, 1306.1224489795918, 1387.7551020408164, 1469.3877551020407, 1551.020408163265, 1632.6530612244896, 1714.2857142857144, 1795.9183673469388, 1877.5510204081631, 1959.1836734693877, 2040.8163265306123, 2122.4489795918366, 2204.081632653061, 2285.714285714286, 2367.3469387755104, 2448.9795918367345, 2530.612244897959, 2612.2448979591836, 2693.877551020408, 2775.5102040816328, 2857.142857142857, 2938.7755102040815, 3020.408163265306, 3102.04081632653, 3183.6734693877547, 3265.3061224489793, 3346.9387755102043, 3428.571428571429, 3510.204081632653, 3591.8367346938776, 3673.469387755102, 3755.1020408163263, 3836.734693877551, 3918.3673469387754, 4000.0], \"y\": [2792.431719429874, 2797.784489973193, 2803.125345522406, 2808.4541574977106, 2813.7708001820783, 2819.075150749527, 2824.3670892388204, 2829.6464985417965, 2834.913264406154, 2840.1672754251545, 2845.408423025427, 2850.6366014459913, 2855.8517077259958, 2861.0536416980844, 2866.2423059710527, 2871.417605898563, 2876.579449593481, 2881.727747855252, 2886.86241419926, 2891.98336481034, 2897.0905185359525, 2902.183796831183, 2907.2631237774995, 2912.3284260427654, 2917.379632828591, 2922.4166758826696, 2927.439489447911, 2932.44801026195, 2937.442177488218, 2942.421932722848, 2947.387219951265, 2952.337985524541, 2957.2741781220648, 2962.1957487381555, 2967.1026506309718, 2971.9948392983088, 2976.872272454156, 2981.734910003631, 2986.582713988574, 2991.4156485699546, 2996.2336800012035, 3001.03677659809, 3005.8249086795213, 3010.5980485737523, 3015.356170569291, 3020.0992508713657, 3024.827267591724, 3029.540200703714, 3034.238032010061, 3038.920745123143]}, {\"hovertemplate\": \"Frequency (rpm): %{x:.2f}<br>Critical Speed (rpm): %{y:.2f}\", \"legendgroup\": \"Crit. Speed\", \"marker\": {\"color\": \"black\", \"symbol\": \"x\"}, \"mode\": \"markers\", \"name\": \"Crit. Speed\", \"showlegend\": false, \"type\": \"scatter\", \"x\": [], \"y\": []}, {\"hoverinfo\": \"none\", \"legendgroup\": \"Foward\", \"marker\": {\"color\": [5.488406171434096], \"coloraxis\": \"coloraxis\", \"symbol\": \"triangle-up\"}, \"mode\": \"markers\", \"name\": \"Foward\", \"showlegend\": false, \"type\": \"scatter\", \"x\": [0.0], \"y\": [6193.496184024019]}, {\"hovertemplate\": \"Frequency (rpm): %{x:.2f}<br>Critical Speed (rpm): %{y:.2f}\", \"legendgroup\": \"Crit. Speed\", \"marker\": {\"color\": \"black\", \"symbol\": \"x\"}, \"mode\": \"markers\", \"name\": \"Crit. Speed\", \"showlegend\": false, \"type\": \"scatter\", \"x\": [], \"y\": []}, {\"hoverinfo\": \"none\", \"legendgroup\": \"Foward\", \"marker\": {\"color\": [5.51268539747102, 5.536628074511135, 5.560235866780335, 5.583510422631582, 5.606453377497845, 5.6290663578515465, 5.651350984533358, 5.673308875989687, 5.694941651702036, 5.71625093567891, 5.7372383588957705, 5.757905562719432, 5.778254201513273, 5.798285945075343, 5.818002481478396, 5.837405519070954, 5.856496788799975, 5.875278045808249, 5.8937510718017325, 5.9119176761632435, 5.929779697786816, 5.947339006105644, 5.964597502372834, 5.981557120744243, 5.99821982871956, 6.014587628313432, 6.03066255629574, 6.046446684661972, 6.061942120878977, 6.0771510078186735, 6.092075524130921, 6.106717884187869, 6.1210803368774584, 6.135165166542327, 6.148974691697969, 6.162511264759787, 6.175777271369528, 6.1887751296118205, 6.201507289348475, 6.213976231074152, 6.2261844650669556, 6.238134530631315, 6.249828994367424, 6.261270449673194, 6.2724615154194145, 6.283404834249547, 6.294103072052043, 6.304558915893019, 6.314775073300487], \"coloraxis\": \"coloraxis\", \"symbol\": \"triangle-up\"}, \"mode\": \"markers\", \"name\": \"Foward\", \"showlegend\": false, \"type\": \"scatter\", \"x\": [81.63265306122449, 163.26530612244898, 244.89795918367346, 326.53061224489795, 408.1632653061224, 489.7959183673469, 571.4285714285714, 653.0612244897959, 734.6938775510204, 816.3265306122448, 897.9591836734694, 979.5918367346939, 1061.2244897959183, 1142.857142857143, 1224.4897959183672, 1306.1224489795918, 1387.7551020408164, 1469.3877551020407, 1551.020408163265, 1632.6530612244896, 1714.2857142857144, 1795.9183673469388, 1877.5510204081631, 1959.1836734693877, 2040.8163265306123, 2122.4489795918366, 2204.081632653061, 2285.714285714286, 2367.3469387755104, 2448.9795918367345, 2530.612244897959, 2612.2448979591836, 2693.877551020408, 2775.5102040816328, 2857.142857142857, 2938.7755102040815, 3020.408163265306, 3102.04081632653, 3183.6734693877547, 3265.3061224489793, 3346.9387755102043, 3428.571428571429, 3510.204081632653, 3591.8367346938776, 3673.469387755102, 3755.1020408163263, 3836.734693877551, 3918.3673469387754, 4000.0], \"y\": [6193.630748940765, 6193.898202883105, 6194.298470460914, 6194.831359740353, 6195.496570514246, 6196.293701263109, 6197.222255732064, 6198.281649038081, 6199.471213283949, 6200.790202706418, 6202.237798341519, 6203.813112846516, 6205.515194265287, 6207.343029999377, 6209.29555065149, 6211.371632966275, 6213.570103495189, 6215.889741234294, 6218.329280643219, 6220.887414263714, 6223.562795154619, 6226.354039511933, 6229.25972893195, 6232.2784121732075, 6235.408607987211, 6238.648806534485, 6241.997471510472, 6245.453042087604, 6249.013934580537, 6252.6785442623695, 6256.445246885974, 6260.312400248869, 6264.278346313409, 6268.341411870916, 6272.49991061423, 6276.752144350116, 6281.096404284503, 6285.530972690886, 6290.054123700428, 6294.6641251495685, 6299.359239292988, 6304.137724373394, 6308.99783554759, 6313.9378261646225, 6318.955948701035, 6324.0504560405925, 6329.219602224198, 6334.461643793811, 6339.7748404647955]}, {\"hovertemplate\": \"Frequency (rpm): %{x:.2f}<br>Critical Speed (rpm): %{y:.2f}\", \"legendgroup\": \"Crit. Speed\", \"marker\": {\"color\": \"black\", \"symbol\": \"x\"}, \"mode\": \"markers\", \"name\": \"Crit. Speed\", \"showlegend\": false, \"type\": \"scatter\", \"x\": [830.8023007064226], \"y\": [830.8023007064226]}, {\"hoverinfo\": \"none\", \"legendgroup\": \"Mixed\", \"marker\": {\"color\": [], \"coloraxis\": \"coloraxis\", \"symbol\": \"circle\"}, \"mode\": \"markers\", \"name\": \"Mixed\", \"showlegend\": false, \"type\": \"scatter\", \"x\": [], \"y\": []}, {\"hovertemplate\": \"Frequency (rpm): %{x:.2f}<br>Critical Speed (rpm): %{y:.2f}\", \"legendgroup\": \"Crit. Speed\", \"marker\": {\"color\": \"black\", \"symbol\": \"x\"}, \"mode\": \"markers\", \"name\": \"Crit. Speed\", \"showlegend\": false, \"type\": \"scatter\", \"x\": [835.6596264283542], \"y\": [835.6596264283542]}, {\"hoverinfo\": \"none\", \"legendgroup\": \"Mixed\", \"marker\": {\"color\": [], \"coloraxis\": \"coloraxis\", \"symbol\": \"circle\"}, \"mode\": \"markers\", \"name\": \"Mixed\", \"showlegend\": false, \"type\": \"scatter\", \"x\": [], \"y\": []}, {\"hovertemplate\": \"Frequency (rpm): %{x:.2f}<br>Critical Speed (rpm): %{y:.2f}\", \"legendgroup\": \"Crit. Speed\", \"marker\": {\"color\": \"black\", \"symbol\": \"x\"}, \"mode\": \"markers\", \"name\": \"Crit. Speed\", \"showlegend\": false, \"type\": \"scatter\", \"x\": [2615.541435983441], \"y\": [2615.541435983441]}, {\"hoverinfo\": \"none\", \"legendgroup\": \"Mixed\", \"marker\": {\"color\": [], \"coloraxis\": \"coloraxis\", \"symbol\": \"circle\"}, \"mode\": \"markers\", \"name\": \"Mixed\", \"showlegend\": false, \"type\": \"scatter\", \"x\": [], \"y\": []}, {\"hovertemplate\": \"Frequency (rpm): %{x:.2f}<br>Critical Speed (rpm): %{y:.2f}\", \"legendgroup\": \"Crit. Speed\", \"marker\": {\"color\": \"black\", \"symbol\": \"x\"}, \"mode\": \"markers\", \"name\": \"Crit. Speed\", \"showlegend\": false, \"type\": \"scatter\", \"x\": [2979.2853336655644], \"y\": [2979.2853336655644]}, {\"hoverinfo\": \"none\", \"legendgroup\": \"Mixed\", \"marker\": {\"color\": [], \"coloraxis\": \"coloraxis\", \"symbol\": \"circle\"}, \"mode\": \"markers\", \"name\": \"Mixed\", \"showlegend\": false, \"type\": \"scatter\", \"x\": [], \"y\": []}, {\"hovertemplate\": \"Frequency (rpm): %{x:.2f}<br>Critical Speed (rpm): %{y:.2f}\", \"legendgroup\": \"Crit. Speed\", \"marker\": {\"color\": \"black\", \"symbol\": \"x\"}, \"mode\": \"markers\", \"name\": \"Crit. Speed\", \"showlegend\": false, \"type\": \"scatter\", \"x\": [], \"y\": []}, {\"hoverinfo\": \"none\", \"legendgroup\": \"Mixed\", \"marker\": {\"color\": [], \"coloraxis\": \"coloraxis\", \"symbol\": \"circle\"}, \"mode\": \"markers\", \"name\": \"Mixed\", \"showlegend\": false, \"type\": \"scatter\", \"x\": [], \"y\": []}, {\"hovertemplate\": \"Frequency (rpm): %{x:.2f}<br>Critical Speed (rpm): %{y:.2f}\", \"legendgroup\": \"Crit. Speed\", \"marker\": {\"color\": \"black\", \"symbol\": \"x\"}, \"mode\": \"markers\", \"name\": \"Crit. Speed\", \"showlegend\": false, \"type\": \"scatter\", \"x\": [], \"y\": []}, {\"hoverinfo\": \"none\", \"legendgroup\": \"Mixed\", \"marker\": {\"color\": [], \"coloraxis\": \"coloraxis\", \"symbol\": \"circle\"}, \"mode\": \"markers\", \"name\": \"Mixed\", \"showlegend\": false, \"type\": \"scatter\", \"x\": [], \"y\": []}, {\"hovertemplate\": \"Frequency (rpm): %{x:.2f}<br>Critical Speed (rpm): %{y:.2f}\", \"legendgroup\": \"Crit. Speed\", \"marker\": {\"color\": \"black\", \"symbol\": \"x\"}, \"mode\": \"markers\", \"name\": \"Crit. Speed\", \"showlegend\": false, \"type\": \"scatter\", \"x\": [830.8023007064226], \"y\": [830.8023007064226]}, {\"hoverinfo\": \"none\", \"legendgroup\": \"Backward\", \"marker\": {\"color\": [0.3185472205859085, 0.31815370489616024, 0.3177594801963465, 0.31736454618100013, 0.316968902563147, 0.3165725490726549, 0.31617548545826085, 0.31577771148617384, 0.315379226942091, 0.31498003162994825, 0.31458012537260255, 0.31417950801264855, 0.3137781794121653, 0.31337613945258685, 0.312973388036455, 0.3125699250852558, 0.3121657505425132, 0.31176086437225387, 0.31135526655921436, 0.3109489571098256, 0.310541936052441, 0.3101342034371912, 0.30972575933722984, 0.30931660384709153, 0.3089067370854433, 0.3084961591932093, 0.3080848703350825, 0.30767287069989707, 0.30726016050006316, 0.3068467399725837, 0.30643260937908834, 0.306017769006155, 0.30560221916589814, 0.3051859601956799, 0.3047689924590267, 0.3043513163457695, 0.30393293227193885, 0.3035138406808311, 0.3030940420426091, 0.30267353685562265, 0.30225232564500326, 0.3018304089652277, 0.301407787398524, 0.30098446155625563, 0.30056043207898997, 0.30013569963689, 0.2997102649296722, 0.29928412868796894, 0.29885729167262903, 0.29842975467514365], \"coloraxis\": \"coloraxis\", \"symbol\": \"triangle-down\"}, \"mode\": \"markers\", \"name\": \"Backward\", \"showlegend\": false, \"type\": \"scatter\", \"x\": [0.0, 81.63265306122449, 163.26530612244898, 244.89795918367346, 326.53061224489795, 408.1632653061224, 489.7959183673469, 571.4285714285714, 653.0612244897959, 734.6938775510204, 816.3265306122448, 897.9591836734694, 979.5918367346939, 1061.2244897959183, 1142.857142857143, 1224.4897959183672, 1306.1224489795918, 1387.7551020408164, 1469.3877551020407, 1551.020408163265, 1632.6530612244896, 1714.2857142857144, 1795.9183673469388, 1877.5510204081631, 1959.1836734693877, 2040.8163265306123, 2122.4489795918366, 2204.081632653061, 2285.714285714286, 2367.3469387755104, 2448.9795918367345, 2530.612244897959, 2612.2448979591836, 2693.877551020408, 2775.5102040816328, 2857.142857142857, 2938.7755102040815, 3020.408163265306, 3102.04081632653, 3183.6734693877547, 3265.3061224489793, 3346.9387755102043, 3428.571428571429, 3510.204081632653, 3591.8367346938776, 3673.469387755102, 3755.1020408163263, 3836.734693877551, 3918.3673469387754, 4000.0], \"y\": [833.2519107240179, 833.0137168593877, 832.7749840849928, 832.5357106433321, 832.2958947708455, 832.0555346981217, 831.8146286497322, 831.5731748442901, 831.3311714944331, 831.0886168068674, 830.8455089822892, 830.601846215456, 830.3576266951378, 830.1128486041587, 829.8675101193822, 829.6216094117115, 829.3751446459862, 829.1281139812718, 828.8805155705331, 828.6323475608216, 828.383608093296, 828.1342953031005, 827.8844073194176, 827.6339422656386, 827.3828982590744, 827.1312734112264, 826.8790658275929, 826.6262736078261, 826.3728948456674, 826.11892762897, 825.864370039693, 825.6092201539956, 825.3534760420505, 825.0971357683178, 824.8401973913409, 824.5826589638871, 824.3245185328547, 824.0657741394427, 823.8064238189719, 823.5464656010494, 823.2858975095332, 823.0247175625195, 822.762923772419, 822.500514145921, 822.2374866840647, 821.973839382202, 821.7095702300539, 821.444677211716, 821.1791583056598, 820.9130114848855]}, {\"hovertemplate\": \"Frequency (rpm): %{x:.2f}<br>Critical Speed (rpm): %{y:.2f}\", \"legendgroup\": \"Crit. Speed\", \"marker\": {\"color\": \"black\", \"symbol\": \"x\"}, \"mode\": \"markers\", \"name\": \"Crit. Speed\", \"showlegend\": false, \"type\": \"scatter\", \"x\": [835.6596264283542], \"y\": [835.6596264283542]}, {\"hoverinfo\": \"none\", \"legendgroup\": \"Backward\", \"marker\": {\"color\": [0.318547220585912], \"coloraxis\": \"coloraxis\", \"symbol\": \"triangle-down\"}, \"mode\": \"markers\", \"name\": \"Backward\", \"showlegend\": false, \"type\": \"scatter\", \"x\": [0.0], \"y\": [833.2519107240228]}, {\"hovertemplate\": \"Frequency (rpm): %{x:.2f}<br>Critical Speed (rpm): %{y:.2f}\", \"legendgroup\": \"Crit. Speed\", \"marker\": {\"color\": \"black\", \"symbol\": \"x\"}, \"mode\": \"markers\", \"name\": \"Crit. Speed\", \"showlegend\": false, \"type\": \"scatter\", \"x\": [2615.541435983441], \"y\": [2615.541435983441]}, {\"hoverinfo\": \"none\", \"legendgroup\": \"Backward\", \"marker\": {\"color\": [1.681133163224793, 1.6833922022112884, 1.6856339836537737, 1.687858155826597, 1.6900643656957772, 1.6922522590443903, 1.6944214805752478, 1.6965716740314236, 1.698702482364843, 1.7008135478278585, 1.7029045121632143, 1.7049750166386308, 1.7070247023340546, 1.7090532101696698, 1.7110601811365453, 1.713045256382525, 1.7150080774455898, 1.716948286345181, 1.7188655257573946, 1.7207594392425412, 1.7226296713431797, 1.7244758677654335, 1.7262976755935717, 1.7280947434535314, 1.729866721650938, 1.7316132623845581, 1.733334019948223, 1.7350286508931991, 1.7366968141897716, 1.7383381714587618, 1.7399523871538636, 1.7415391287341757, 1.7430980668491545, 1.7446288755668191, 1.7461312325373173, 1.7476048191833553, 1.7490493209213602, 1.7504644273221532, 1.7518498323221563, 1.7532052344157447, 1.7545303368248546, 1.7558248477339966, 1.7570884804355928, 1.7583209535192708, 1.7595219910992954, 1.7606913229504113, 1.7618286847196805, 1.7629338180817156, 1.764006470945165, 1.7650463976065185], \"coloraxis\": \"coloraxis\", \"symbol\": \"triangle-down\"}, \"mode\": \"markers\", \"name\": \"Backward\", \"showlegend\": false, \"type\": \"scatter\", \"x\": [0.0, 81.63265306122449, 163.26530612244898, 244.89795918367346, 326.53061224489795, 408.1632653061224, 489.7959183673469, 571.4285714285714, 653.0612244897959, 734.6938775510204, 816.3265306122448, 897.9591836734694, 979.5918367346939, 1061.2244897959183, 1142.857142857143, 1224.4897959183672, 1306.1224489795918, 1387.7551020408164, 1469.3877551020407, 1551.020408163265, 1632.6530612244896, 1714.2857142857144, 1795.9183673469388, 1877.5510204081631, 1959.1836734693877, 2040.8163265306123, 2122.4489795918366, 2204.081632653061, 2285.714285714286, 2367.3469387755104, 2448.9795918367345, 2530.612244897959, 2612.2448979591836, 2693.877551020408, 2775.5102040816328, 2857.142857142857, 2938.7755102040815, 3020.408163265306, 3102.04081632653, 3183.6734693877547, 3265.3061224489793, 3346.9387755102043, 3428.571428571429, 3510.204081632653, 3591.8367346938776, 3673.469387755102, 3755.1020408163263, 3836.734693877551, 3918.3673469387754, 4000.0], \"y\": [2792.431719428615, 2787.0671653617737, 2781.6909621158043, 2776.303246930344, 2770.9041599124193, 2765.4938440577366, 2760.0724452260242, 2754.6401121374993, 2749.1969963759375, 2743.743252366123, 2738.2790373638527, 2732.80451144162, 2727.319837463544, 2721.825181089679, 2716.3207107368767, 2710.8065975484087, 2705.2830153961127, 2699.750140828804, 2694.2081530581027, 2688.657233916669, 2683.0975678431946, 2677.5293418254455, 2671.952745375654, 2666.3679704935766, 2660.7752116141774, 2655.1746655767047, 2649.5665315738956, 2643.951011102128, 2638.328307913361, 2632.698627967501, 2627.0621793761866, 2621.4191723495055, 2615.769819127242, 2610.1143339467944, 2604.4529329465763, 2598.785834134673, 2593.113257302157, 2587.4354239731388, 2581.7525573222106, 2576.0648821191435, 2570.3726246466563, 2564.676012634262, 2558.9752751779, 2553.2706426761274, 2547.5623467410187, 2541.850620127185, 2536.135696653834, 2530.4178111212636, 2524.6971992286176, 2518.974097498873]}, {\"hovertemplate\": \"Frequency (rpm): %{x:.2f}<br>Critical Speed (rpm): %{y:.2f}\", \"legendgroup\": \"Crit. Speed\", \"marker\": {\"color\": \"black\", \"symbol\": \"x\"}, \"mode\": \"markers\", \"name\": \"Crit. Speed\", \"showlegend\": false, \"type\": \"scatter\", \"x\": [2979.2853336655644], \"y\": [2979.2853336655644]}, {\"hoverinfo\": \"none\", \"legendgroup\": \"Backward\", \"marker\": {\"color\": [], \"coloraxis\": \"coloraxis\", \"symbol\": \"triangle-down\"}, \"mode\": \"markers\", \"name\": \"Backward\", \"showlegend\": false, \"type\": \"scatter\", \"x\": [], \"y\": []}, {\"hovertemplate\": \"Frequency (rpm): %{x:.2f}<br>Critical Speed (rpm): %{y:.2f}\", \"legendgroup\": \"Crit. Speed\", \"marker\": {\"color\": \"black\", \"symbol\": \"x\"}, \"mode\": \"markers\", \"name\": \"Crit. Speed\", \"showlegend\": false, \"type\": \"scatter\", \"x\": [], \"y\": []}, {\"hoverinfo\": \"none\", \"legendgroup\": \"Backward\", \"marker\": {\"color\": [5.463788712209823, 5.438831312306875, 5.413532237622207, 5.387889724077667, 5.361901974725211, 5.335567156588331, 5.308883398688579, 5.281848789456637, 5.2544613760375105, 5.2267191632349395, 5.19862011318652, 5.1701621476596324, 5.141343149489484, 5.112160966393486, 5.082613417548393, 5.052698299681868, 5.022413398685, 4.9917565008400615, 4.960725410046456, 4.929317966999381, 4.897532073443548, 4.865365721488953, 4.832817028825043, 4.799884279780291, 4.766565975388953, 4.732860891374894, 4.698768145209682, 4.664287275996746, 4.629418334923033, 4.594161991176774, 4.558519651204501, 4.5224935959290065, 4.486087135116766, 4.449304780222119, 4.412152437155444, 4.374637618230752, 4.336769672701008, 4.298560035944618, 4.260022490524771, 4.221173440355039, 4.182032184864762, 4.142621191173062, 4.102966347353891, 4.063097187141612, 4.0230470684154005, 3.982853287147391, 3.942557108639535, 3.9022036967223577, 3.861841922581648], \"coloraxis\": \"coloraxis\", \"symbol\": \"triangle-down\"}, \"mode\": \"markers\", \"name\": \"Backward\", \"showlegend\": false, \"type\": \"scatter\", \"x\": [81.63265306122449, 163.26530612244898, 244.89795918367346, 326.53061224489795, 408.1632653061224, 489.7959183673469, 571.4285714285714, 653.0612244897959, 734.6938775510204, 816.3265306122448, 897.9591836734694, 979.5918367346939, 1061.2244897959183, 1142.857142857143, 1224.4897959183672, 1306.1224489795918, 1387.7551020408164, 1469.3877551020407, 1551.020408163265, 1632.6530612244896, 1714.2857142857144, 1795.9183673469388, 1877.5510204081631, 1959.1836734693877, 2040.8163265306123, 2122.4489795918366, 2204.081632653061, 2285.714285714286, 2367.3469387755104, 2448.9795918367345, 2530.612244897959, 2612.2448979591836, 2693.877551020408, 2775.5102040816328, 2857.142857142857, 2938.7755102040815, 3020.408163265306, 3102.04081632653, 3183.6734693877547, 3265.3061224489793, 3346.9387755102043, 3428.571428571429, 3510.204081632653, 3591.8367346938776, 3673.469387755102, 3755.1020408163263, 3836.734693877551, 3918.3673469387754, 4000.0], \"y\": [6193.494459082062, 6193.625390999767, 6193.888652322288, 6194.283760519527, 6194.810065485869, 6195.46673633988, 6196.252746741108, 6197.166858792962, 6198.207605166511, 6199.373269814233, 6200.661866484374, 6202.071114967029, 6203.598415126096, 6205.240818584397, 6206.994996668104, 6208.857206346403, 6210.8232515287, 6212.8884414586555, 6215.047544724293, 6217.294738112289, 6219.623552212426, 6222.026810083029, 6224.496561266092, 6227.024010462206, 6229.599438597859, 6232.212118955929, 6234.850226553524, 6237.500740482432, 6240.149341053848, 6242.780300648747, 6245.376370460581, 6247.918663417205, 6250.386535025456, 6252.75746644062, 6255.006950412044, 6257.10838662012, 6259.0329899281915, 6260.749719888622, 6262.225237735239, 6263.423900168606, 6264.307801456577, 6264.836872663231, 6264.969052318346, 6264.6605372336535, 6263.866126291954, 6262.539662821549, 6260.6345822281, 6258.104561398319, 6254.904264945381]}, {\"hovertemplate\": \"Frequency (rpm): %{x:.2f}<br>Critical Speed (rpm): %{y:.2f}\", \"legendgroup\": \"Crit. Speed\", \"marker\": {\"color\": \"black\", \"symbol\": \"x\"}, \"mode\": \"markers\", \"name\": \"Crit. Speed\", \"showlegend\": false, \"type\": \"scatter\", \"x\": [], \"y\": []}, {\"hoverinfo\": \"none\", \"legendgroup\": \"Backward\", \"marker\": {\"color\": [5.488406171433612], \"coloraxis\": \"coloraxis\", \"symbol\": \"triangle-down\"}, \"mode\": \"markers\", \"name\": \"Backward\", \"showlegend\": false, \"type\": \"scatter\", \"x\": [0.0], \"y\": [6193.496184042031]}, {\"hoverinfo\": \"none\", \"line\": {\"color\": \"blue\", \"dash\": \"dashdot\"}, \"mode\": \"lines\", \"name\": \"1x speed\", \"type\": \"scatter\", \"x\": [0.0, 81.63265306122449, 163.26530612244898, 244.89795918367346, 326.53061224489795, 408.1632653061224, 489.7959183673469, 571.4285714285714, 653.0612244897959, 734.6938775510204, 816.3265306122448, 897.9591836734694, 979.5918367346939, 1061.2244897959183, 1142.857142857143, 1224.4897959183672, 1306.1224489795918, 1387.7551020408164, 1469.3877551020407, 1551.020408163265, 1632.6530612244896, 1714.2857142857144, 1795.9183673469388, 1877.5510204081631, 1959.1836734693877, 2040.8163265306123, 2122.4489795918366, 2204.081632653061, 2285.714285714286, 2367.3469387755104, 2448.9795918367345, 2530.612244897959, 2612.2448979591836, 2693.877551020408, 2775.5102040816328, 2857.142857142857, 2938.7755102040815, 3020.408163265306, 3102.04081632653, 3183.6734693877547, 3265.3061224489793, 3346.9387755102043, 3428.571428571429, 3510.204081632653, 3591.8367346938776, 3673.469387755102, 3755.1020408163263, 3836.734693877551, 3918.3673469387754, 4000.0], \"y\": [0.0, 81.63265306122449, 163.26530612244898, 244.89795918367346, 326.53061224489795, 408.1632653061224, 489.7959183673469, 571.4285714285714, 653.0612244897959, 734.6938775510204, 816.3265306122448, 897.9591836734694, 979.5918367346939, 1061.2244897959183, 1142.857142857143, 1224.4897959183672, 1306.1224489795918, 1387.7551020408164, 1469.3877551020407, 1551.020408163265, 1632.6530612244896, 1714.2857142857144, 1795.9183673469388, 1877.5510204081631, 1959.1836734693877, 2040.8163265306123, 2122.4489795918366, 2204.081632653061, 2285.714285714286, 2367.3469387755104, 2448.9795918367345, 2530.612244897959, 2612.2448979591836, 2693.877551020408, 2775.5102040816328, 2857.142857142857, 2938.7755102040815, 3020.408163265306, 3102.04081632653, 3183.6734693877547, 3265.3061224489793, 3346.9387755102043, 3428.571428571429, 3510.204081632653, 3591.8367346938776, 3673.469387755102, 3755.1020408163263, 3836.734693877551, 3918.3673469387754, 4000.0]}, {\"legendgroup\": \"Foward\", \"marker\": {\"color\": \"black\", \"symbol\": \"triangle-up\"}, \"mode\": \"markers\", \"name\": \"Foward\", \"type\": \"scatter\", \"x\": [0], \"y\": [0]}, {\"legendgroup\": \"Mixed\", \"marker\": {\"color\": \"black\", \"symbol\": \"circle\"}, \"mode\": \"markers\", \"name\": \"Mixed\", \"type\": \"scatter\", \"x\": [0], \"y\": [0]}, {\"legendgroup\": \"Backward\", \"marker\": {\"color\": \"black\", \"symbol\": \"triangle-down\"}, \"mode\": \"markers\", \"name\": \"Backward\", \"type\": \"scatter\", \"x\": [0], \"y\": [0]}, {\"legendgroup\": \"Crit. Speed\", \"marker\": {\"color\": \"black\", \"symbol\": \"x\"}, \"mode\": \"markers\", \"name\": \"Crit. Speed\", \"type\": \"scatter\", \"x\": [0], \"y\": [0]}],\n",
       "                        {\"coloraxis\": {\"cmax\": 1.0, \"cmin\": 0.0, \"colorbar\": {\"title\": {\"side\": \"right\", \"text\": \"<b>Log Dec</b>\"}}, \"colorscale\": [[0.0, \"rgb(103,0,31)\"], [0.1, \"rgb(178,24,43)\"], [0.2, \"rgb(214,96,77)\"], [0.3, \"rgb(244,165,130)\"], [0.4, \"rgb(253,219,199)\"], [0.5, \"rgb(247,247,247)\"], [0.6, \"rgb(209,229,240)\"], [0.7, \"rgb(146,197,222)\"], [0.8, \"rgb(67,147,195)\"], [0.9, \"rgb(33,102,172)\"], [1.0, \"rgb(5,48,97)\"]]}, \"legend\": {\"itemsizing\": \"constant\", \"orientation\": \"h\", \"x\": 0.5, \"xanchor\": \"center\", \"y\": -0.3, \"yanchor\": \"bottom\"}, \"template\": {\"data\": {\"bar\": [{\"error_x\": {\"color\": \"#2a3f5f\"}, \"error_y\": {\"color\": \"#2a3f5f\"}, \"marker\": {\"line\": {\"color\": \"white\", \"width\": 0.5}}, \"type\": \"bar\"}], \"barpolar\": [{\"marker\": {\"line\": {\"color\": \"white\", \"width\": 0.5}}, \"type\": \"barpolar\"}], \"carpet\": [{\"aaxis\": {\"endlinecolor\": \"#2a3f5f\", \"gridcolor\": \"#C8D4E3\", \"linecolor\": \"#C8D4E3\", \"minorgridcolor\": \"#C8D4E3\", \"startlinecolor\": \"#2a3f5f\"}, \"baxis\": {\"endlinecolor\": \"#2a3f5f\", \"gridcolor\": \"#C8D4E3\", \"linecolor\": \"#C8D4E3\", \"minorgridcolor\": \"#C8D4E3\", \"startlinecolor\": \"#2a3f5f\"}, \"type\": \"carpet\"}], \"choropleth\": [{\"colorbar\": {\"outlinewidth\": 0, \"ticks\": \"\"}, \"type\": \"choropleth\"}], \"contour\": [{\"colorbar\": {\"outlinewidth\": 0, \"ticks\": \"\"}, \"colorscale\": [[0.0, \"#0d0887\"], [0.1111111111111111, \"#46039f\"], [0.2222222222222222, \"#7201a8\"], [0.3333333333333333, \"#9c179e\"], [0.4444444444444444, \"#bd3786\"], [0.5555555555555556, \"#d8576b\"], [0.6666666666666666, \"#ed7953\"], [0.7777777777777778, \"#fb9f3a\"], [0.8888888888888888, \"#fdca26\"], [1.0, \"#f0f921\"]], \"type\": \"contour\"}], \"contourcarpet\": [{\"colorbar\": {\"outlinewidth\": 0, \"ticks\": \"\"}, \"type\": \"contourcarpet\"}], \"heatmap\": [{\"colorbar\": {\"outlinewidth\": 0, \"ticks\": \"\"}, \"colorscale\": [[0.0, \"#0d0887\"], [0.1111111111111111, \"#46039f\"], [0.2222222222222222, \"#7201a8\"], [0.3333333333333333, \"#9c179e\"], [0.4444444444444444, \"#bd3786\"], [0.5555555555555556, \"#d8576b\"], [0.6666666666666666, \"#ed7953\"], [0.7777777777777778, \"#fb9f3a\"], [0.8888888888888888, \"#fdca26\"], [1.0, \"#f0f921\"]], \"type\": \"heatmap\"}], \"heatmapgl\": [{\"colorbar\": {\"outlinewidth\": 0, \"ticks\": \"\"}, \"colorscale\": [[0.0, \"#0d0887\"], [0.1111111111111111, \"#46039f\"], [0.2222222222222222, \"#7201a8\"], [0.3333333333333333, \"#9c179e\"], [0.4444444444444444, \"#bd3786\"], [0.5555555555555556, \"#d8576b\"], [0.6666666666666666, \"#ed7953\"], [0.7777777777777778, \"#fb9f3a\"], [0.8888888888888888, \"#fdca26\"], [1.0, \"#f0f921\"]], \"type\": \"heatmapgl\"}], \"histogram\": [{\"marker\": {\"colorbar\": {\"outlinewidth\": 0, \"ticks\": \"\"}}, \"type\": \"histogram\"}], \"histogram2d\": [{\"colorbar\": {\"outlinewidth\": 0, \"ticks\": \"\"}, \"colorscale\": [[0.0, \"#0d0887\"], [0.1111111111111111, \"#46039f\"], [0.2222222222222222, \"#7201a8\"], [0.3333333333333333, \"#9c179e\"], [0.4444444444444444, \"#bd3786\"], [0.5555555555555556, \"#d8576b\"], [0.6666666666666666, \"#ed7953\"], [0.7777777777777778, \"#fb9f3a\"], [0.8888888888888888, \"#fdca26\"], [1.0, \"#f0f921\"]], \"type\": \"histogram2d\"}], \"histogram2dcontour\": [{\"colorbar\": {\"outlinewidth\": 0, \"ticks\": \"\"}, \"colorscale\": [[0.0, \"#0d0887\"], [0.1111111111111111, \"#46039f\"], [0.2222222222222222, \"#7201a8\"], [0.3333333333333333, \"#9c179e\"], [0.4444444444444444, \"#bd3786\"], [0.5555555555555556, \"#d8576b\"], [0.6666666666666666, \"#ed7953\"], [0.7777777777777778, \"#fb9f3a\"], [0.8888888888888888, \"#fdca26\"], [1.0, \"#f0f921\"]], \"type\": \"histogram2dcontour\"}], \"mesh3d\": [{\"colorbar\": {\"outlinewidth\": 0, \"ticks\": \"\"}, \"type\": \"mesh3d\"}], \"parcoords\": [{\"line\": {\"colorbar\": {\"outlinewidth\": 0, \"ticks\": \"\"}}, \"type\": \"parcoords\"}], \"pie\": [{\"automargin\": true, \"type\": \"pie\"}], \"scatter\": [{\"marker\": {\"colorbar\": {\"outlinewidth\": 0, \"ticks\": \"\"}}, \"type\": \"scatter\"}], \"scatter3d\": [{\"line\": {\"colorbar\": {\"outlinewidth\": 0, \"ticks\": \"\"}}, \"marker\": {\"colorbar\": {\"outlinewidth\": 0, \"ticks\": \"\"}}, \"type\": \"scatter3d\"}], \"scattercarpet\": [{\"marker\": {\"colorbar\": {\"outlinewidth\": 0, \"ticks\": \"\"}}, \"type\": \"scattercarpet\"}], \"scattergeo\": [{\"marker\": {\"colorbar\": {\"outlinewidth\": 0, \"ticks\": \"\"}}, \"type\": \"scattergeo\"}], \"scattergl\": [{\"marker\": {\"colorbar\": {\"outlinewidth\": 0, \"ticks\": \"\"}}, \"type\": \"scattergl\"}], \"scattermapbox\": [{\"marker\": {\"colorbar\": {\"outlinewidth\": 0, \"ticks\": \"\"}}, \"type\": \"scattermapbox\"}], \"scatterpolar\": [{\"marker\": {\"colorbar\": {\"outlinewidth\": 0, \"ticks\": \"\"}}, \"type\": \"scatterpolar\"}], \"scatterpolargl\": [{\"marker\": {\"colorbar\": {\"outlinewidth\": 0, \"ticks\": \"\"}}, \"type\": \"scatterpolargl\"}], \"scatterternary\": [{\"marker\": {\"colorbar\": {\"outlinewidth\": 0, \"ticks\": \"\"}}, \"type\": \"scatterternary\"}], \"surface\": [{\"colorbar\": {\"outlinewidth\": 0, \"ticks\": \"\"}, \"colorscale\": [[0.0, \"#0d0887\"], [0.1111111111111111, \"#46039f\"], [0.2222222222222222, \"#7201a8\"], [0.3333333333333333, \"#9c179e\"], [0.4444444444444444, \"#bd3786\"], [0.5555555555555556, \"#d8576b\"], [0.6666666666666666, \"#ed7953\"], [0.7777777777777778, \"#fb9f3a\"], [0.8888888888888888, \"#fdca26\"], [1.0, \"#f0f921\"]], \"type\": \"surface\"}], \"table\": [{\"cells\": {\"fill\": {\"color\": \"#EBF0F8\"}, \"line\": {\"color\": \"white\"}}, \"header\": {\"fill\": {\"color\": \"#C8D4E3\"}, \"line\": {\"color\": \"white\"}}, \"type\": \"table\"}]}, \"layout\": {\"annotationdefaults\": {\"arrowcolor\": \"#2a3f5f\", \"arrowhead\": 0, \"arrowwidth\": 1}, \"coloraxis\": {\"colorbar\": {\"outlinewidth\": 0, \"ticks\": \"\"}}, \"colorscale\": {\"diverging\": [[0, \"#8e0152\"], [0.1, \"#c51b7d\"], [0.2, \"#de77ae\"], [0.3, \"#f1b6da\"], [0.4, \"#fde0ef\"], [0.5, \"#f7f7f7\"], [0.6, \"#e6f5d0\"], [0.7, \"#b8e186\"], [0.8, \"#7fbc41\"], [0.9, \"#4d9221\"], [1, \"#276419\"]], \"sequential\": [[0.0, \"#0d0887\"], [0.1111111111111111, \"#46039f\"], [0.2222222222222222, \"#7201a8\"], [0.3333333333333333, \"#9c179e\"], [0.4444444444444444, \"#bd3786\"], [0.5555555555555556, \"#d8576b\"], [0.6666666666666666, \"#ed7953\"], [0.7777777777777778, \"#fb9f3a\"], [0.8888888888888888, \"#fdca26\"], [1.0, \"#f0f921\"]], \"sequentialminus\": [[0.0, \"#0d0887\"], [0.1111111111111111, \"#46039f\"], [0.2222222222222222, \"#7201a8\"], [0.3333333333333333, \"#9c179e\"], [0.4444444444444444, \"#bd3786\"], [0.5555555555555556, \"#d8576b\"], [0.6666666666666666, \"#ed7953\"], [0.7777777777777778, \"#fb9f3a\"], [0.8888888888888888, \"#fdca26\"], [1.0, \"#f0f921\"]]}, \"colorway\": [\"#1f77b4\", \"#ff7f0e\", \"#2ca02c\", \"#d62728\", \"#9467bd\", \"#8c564b\", \"#e377c2\", \"#7f7f7f\", \"#bcbd22\", \"#17becf\"], \"font\": {\"color\": \"#2a3f5f\"}, \"geo\": {\"bgcolor\": \"white\", \"lakecolor\": \"white\", \"landcolor\": \"white\", \"showlakes\": true, \"showland\": true, \"subunitcolor\": \"#C8D4E3\"}, \"hoverlabel\": {\"align\": \"left\"}, \"hovermode\": \"closest\", \"mapbox\": {\"style\": \"light\"}, \"paper_bgcolor\": \"white\", \"plot_bgcolor\": \"white\", \"polar\": {\"angularaxis\": {\"gridcolor\": \"#EBF0F8\", \"linecolor\": \"#EBF0F8\", \"ticks\": \"\"}, \"bgcolor\": \"white\", \"radialaxis\": {\"gridcolor\": \"#EBF0F8\", \"linecolor\": \"#EBF0F8\", \"ticks\": \"\"}}, \"scene\": {\"camera\": {\"center\": {\"x\": 0, \"y\": 0, \"z\": 0}, \"eye\": {\"x\": 2.0, \"y\": 2.0, \"z\": 2.0}, \"up\": {\"x\": 0, \"y\": 0, \"z\": 1}}, \"xaxis\": {\"backgroundcolor\": \"white\", \"gridcolor\": \"#DFE8F3\", \"gridwidth\": 2, \"linecolor\": \"#EBF0F8\", \"showbackground\": true, \"showspikes\": false, \"ticks\": \"\", \"zerolinecolor\": \"#EBF0F8\"}, \"yaxis\": {\"backgroundcolor\": \"white\", \"gridcolor\": \"#DFE8F3\", \"gridwidth\": 2, \"linecolor\": \"#EBF0F8\", \"showbackground\": true, \"showspikes\": false, \"ticks\": \"\", \"zerolinecolor\": \"#EBF0F8\"}, \"zaxis\": {\"backgroundcolor\": \"white\", \"gridcolor\": \"#DFE8F3\", \"gridwidth\": 2, \"linecolor\": \"#EBF0F8\", \"showbackground\": true, \"showspikes\": false, \"ticks\": \"\", \"zerolinecolor\": \"#EBF0F8\"}}, \"shapedefaults\": {\"line\": {\"color\": \"#2a3f5f\"}}, \"ternary\": {\"aaxis\": {\"gridcolor\": \"#DFE8F3\", \"linecolor\": \"#A2B1C6\", \"ticks\": \"\"}, \"baxis\": {\"gridcolor\": \"#DFE8F3\", \"linecolor\": \"#A2B1C6\", \"ticks\": \"\"}, \"bgcolor\": \"white\", \"caxis\": {\"gridcolor\": \"#DFE8F3\", \"linecolor\": \"#A2B1C6\", \"ticks\": \"\"}}, \"title\": {\"x\": 0.05}, \"xaxis\": {\"automargin\": true, \"gridcolor\": \"#EBF0F8\", \"linecolor\": \"black\", \"linewidth\": 2.0, \"mirror\": true, \"showline\": true, \"ticks\": \"\", \"title\": {\"standoff\": 15}, \"zeroline\": false, \"zerolinecolor\": \"#EBF0F8\", \"zerolinewidth\": 2}, \"yaxis\": {\"automargin\": true, \"gridcolor\": \"#EBF0F8\", \"linecolor\": \"black\", \"linewidth\": 2.0, \"mirror\": true, \"showline\": true, \"ticks\": \"\", \"title\": {\"standoff\": 15}, \"zeroline\": false, \"zerolinecolor\": \"#EBF0F8\", \"zerolinewidth\": 2}}}, \"xaxis\": {\"exponentformat\": \"none\", \"range\": [0.0, 4000.0], \"title\": {\"text\": \"Frequency (rpm)\"}}, \"yaxis\": {\"range\": [0, 6973.752324511275], \"title\": {\"text\": \"Natural Frequencies (rpm)\"}}},\n",
       "                        {\"responsive\": true}\n",
       "                    ).then(function(){\n",
       "                            \n",
       "var gd = document.getElementById('38d59609-842a-417c-b25d-0db82929aa24');\n",
       "var x = new MutationObserver(function (mutations, observer) {{\n",
       "        var display = window.getComputedStyle(gd).display;\n",
       "        if (!display || display === 'none') {{\n",
       "            console.log([gd, 'removed!']);\n",
       "            Plotly.purge(gd);\n",
       "            observer.disconnect();\n",
       "        }}\n",
       "}});\n",
       "\n",
       "// Listen for the removal of the full notebook cells\n",
       "var notebookContainer = gd.closest('#notebook-container');\n",
       "if (notebookContainer) {{\n",
       "    x.observe(notebookContainer, {childList: true});\n",
       "}}\n",
       "\n",
       "// Listen for the clearing of the current output cell\n",
       "var outputEl = gd.closest('.output');\n",
       "if (outputEl) {{\n",
       "    x.observe(outputEl, {childList: true});\n",
       "}}\n",
       "\n",
       "                        })\n",
       "                };\n",
       "                });\n",
       "            </script>\n",
       "        </div>"
      ]
     },
     "metadata": {},
     "output_type": "display_data"
    }
   ],
   "source": [
    "# The input units must be according to your unit standard system\n",
    "campbell = rotor595c.run_campbell(np.linspace(0, 4000*np.pi/30, 50))\n",
    "# Plotting frequency in RPM\n",
    "campbell.plot(frequency_units=\"rpm\")"
   ]
  }
 ],
 "metadata": {
  "kernelspec": {
   "display_name": "Python 3",
   "language": "python",
   "name": "python3"
  },
  "language_info": {
   "codemirror_mode": {
    "name": "ipython",
    "version": 3
   },
   "file_extension": ".py",
   "mimetype": "text/x-python",
   "name": "python",
   "nbconvert_exporter": "python",
   "pygments_lexer": "ipython3",
   "version": "3.7.6"
  }
 },
 "nbformat": 4,
 "nbformat_minor": 2
}
